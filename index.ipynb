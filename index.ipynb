{
 "cells": [
  {
   "cell_type": "markdown",
   "metadata": {},
   "source": [
    "# Tree Ensembles and Random Forests - Lab\n",
    "\n",
    "## Introduction\n",
    "\n",
    "In this lab, we'll create some popular Tree Ensemble models such as a Bag of Trees and a Random Forest to predict a person's salary based on information about them. \n",
    "\n",
    "## Objectives\n",
    "\n",
    "You will be able to:\n",
    "\n",
    "* Create, train, and make predictions with Bagging Classifiers\n",
    "* Create, train, and make predictions with a Random Forest\n",
    "* Understand and explain the concept of bagging as it applies to Ensemble Methods\n",
    "* Understand and explain the Subspace Sampling Method and it's use in Random Forests"
   ]
  },
  {
   "cell_type": "markdown",
   "metadata": {},
   "source": [
    "## 1. Importing the data"
   ]
  },
  {
   "cell_type": "markdown",
   "metadata": {},
   "source": [
    "In this lab, we'll be looking at a dataset of information about people and trying to predict if they make more than 50k/year.  The salary data set was extracted from the census bureau database and contains salary information. The goal is to use this data set and to try to draw conclusions regarding what drives salaries. More specifically, the target variable is categorical (> 50k; <= 50 k). Let's create a classification tree!\n",
    "\n",
    "To get started, run the cell below to import everything we'll need for this lab. "
   ]
  },
  {
   "cell_type": "code",
   "execution_count": 1,
   "metadata": {},
   "outputs": [],
   "source": [
    "import pandas as pd\n",
    "import numpy as np\n",
    "np.random.seed(0)\n",
    "import matplotlib.pyplot as plt\n",
    "from sklearn.model_selection import train_test_split\n",
    "from sklearn.metrics import accuracy_score, confusion_matrix, classification_report\n",
    "from sklearn.tree import DecisionTreeClassifier\n",
    "from sklearn.ensemble import BaggingClassifier, RandomForestClassifier"
   ]
  },
  {
   "cell_type": "markdown",
   "metadata": {},
   "source": [
    "Our dataset is stored in the file `salaries_final.csv`.  \n",
    "\n",
    "In the cell below, read in the dataset from this file and store it in a DataFrame.  Be sure to set the `index_col` parameter to `0`.  Then, display the head of the DataFrame to ensure that everything loaded correctly."
   ]
  },
  {
   "cell_type": "code",
<<<<<<< HEAD
   "execution_count": 5,
=======
   "execution_count": 3,
>>>>>>> 9c2f4d5132a868969a7ee4e83253283b3773bc42
   "metadata": {},
   "outputs": [
    {
     "data": {
      "text/html": [
       "<div>\n",
       "<style scoped>\n",
       "    .dataframe tbody tr th:only-of-type {\n",
       "        vertical-align: middle;\n",
       "    }\n",
       "\n",
       "    .dataframe tbody tr th {\n",
       "        vertical-align: top;\n",
       "    }\n",
       "\n",
       "    .dataframe thead th {\n",
       "        text-align: right;\n",
       "    }\n",
       "</style>\n",
       "<table border=\"1\" class=\"dataframe\">\n",
       "  <thead>\n",
       "    <tr style=\"text-align: right;\">\n",
       "      <th></th>\n",
<<<<<<< HEAD
=======
       "      <th>Unnamed: 0</th>\n",
>>>>>>> 9c2f4d5132a868969a7ee4e83253283b3773bc42
       "      <th>Age</th>\n",
       "      <th>Education</th>\n",
       "      <th>Occupation</th>\n",
       "      <th>Relationship</th>\n",
       "      <th>Race</th>\n",
       "      <th>Sex</th>\n",
       "      <th>Target</th>\n",
       "    </tr>\n",
       "  </thead>\n",
       "  <tbody>\n",
       "    <tr>\n",
       "      <th>0</th>\n",
<<<<<<< HEAD
=======
       "      <td>0</td>\n",
>>>>>>> 9c2f4d5132a868969a7ee4e83253283b3773bc42
       "      <td>39</td>\n",
       "      <td>Bachelors</td>\n",
       "      <td>Adm-clerical</td>\n",
       "      <td>Not-in-family</td>\n",
       "      <td>White</td>\n",
       "      <td>Male</td>\n",
       "      <td>&lt;=50K</td>\n",
       "    </tr>\n",
       "    <tr>\n",
       "      <th>1</th>\n",
<<<<<<< HEAD
=======
       "      <td>1</td>\n",
>>>>>>> 9c2f4d5132a868969a7ee4e83253283b3773bc42
       "      <td>50</td>\n",
       "      <td>Bachelors</td>\n",
       "      <td>Exec-managerial</td>\n",
       "      <td>Husband</td>\n",
       "      <td>White</td>\n",
       "      <td>Male</td>\n",
       "      <td>&lt;=50K</td>\n",
       "    </tr>\n",
       "    <tr>\n",
       "      <th>2</th>\n",
<<<<<<< HEAD
=======
       "      <td>2</td>\n",
>>>>>>> 9c2f4d5132a868969a7ee4e83253283b3773bc42
       "      <td>38</td>\n",
       "      <td>HS-grad</td>\n",
       "      <td>Handlers-cleaners</td>\n",
       "      <td>Not-in-family</td>\n",
       "      <td>White</td>\n",
       "      <td>Male</td>\n",
       "      <td>&lt;=50K</td>\n",
       "    </tr>\n",
       "    <tr>\n",
       "      <th>3</th>\n",
<<<<<<< HEAD
=======
       "      <td>3</td>\n",
>>>>>>> 9c2f4d5132a868969a7ee4e83253283b3773bc42
       "      <td>53</td>\n",
       "      <td>11th</td>\n",
       "      <td>Handlers-cleaners</td>\n",
       "      <td>Husband</td>\n",
       "      <td>Black</td>\n",
       "      <td>Male</td>\n",
       "      <td>&lt;=50K</td>\n",
       "    </tr>\n",
       "    <tr>\n",
       "      <th>4</th>\n",
<<<<<<< HEAD
=======
       "      <td>4</td>\n",
>>>>>>> 9c2f4d5132a868969a7ee4e83253283b3773bc42
       "      <td>28</td>\n",
       "      <td>Bachelors</td>\n",
       "      <td>Prof-specialty</td>\n",
       "      <td>Wife</td>\n",
       "      <td>Black</td>\n",
       "      <td>Female</td>\n",
       "      <td>&lt;=50K</td>\n",
       "    </tr>\n",
       "  </tbody>\n",
       "</table>\n",
       "</div>"
      ],
      "text/plain": [
<<<<<<< HEAD
       "   Age  Education         Occupation   Relationship   Race     Sex Target\n",
       "0   39  Bachelors       Adm-clerical  Not-in-family  White    Male  <=50K\n",
       "1   50  Bachelors    Exec-managerial        Husband  White    Male  <=50K\n",
       "2   38    HS-grad  Handlers-cleaners  Not-in-family  White    Male  <=50K\n",
       "3   53       11th  Handlers-cleaners        Husband  Black    Male  <=50K\n",
       "4   28  Bachelors     Prof-specialty           Wife  Black  Female  <=50K"
      ]
     },
     "execution_count": 5,
=======
       "   Unnamed: 0  Age  Education         Occupation   Relationship   Race  \\\n",
       "0           0   39  Bachelors       Adm-clerical  Not-in-family  White   \n",
       "1           1   50  Bachelors    Exec-managerial        Husband  White   \n",
       "2           2   38    HS-grad  Handlers-cleaners  Not-in-family  White   \n",
       "3           3   53       11th  Handlers-cleaners        Husband  Black   \n",
       "4           4   28  Bachelors     Prof-specialty           Wife  Black   \n",
       "\n",
       "      Sex Target  \n",
       "0    Male  <=50K  \n",
       "1    Male  <=50K  \n",
       "2    Male  <=50K  \n",
       "3    Male  <=50K  \n",
       "4  Female  <=50K  "
      ]
     },
     "execution_count": 3,
>>>>>>> 9c2f4d5132a868969a7ee4e83253283b3773bc42
     "metadata": {},
     "output_type": "execute_result"
    }
   ],
   "source": [
<<<<<<< HEAD
    "salaries = pd.read_csv('salaries_final.csv', index_col=0)\n",
=======
    "salaries = pd.read_csv('salaries_final.csv', )\n",
>>>>>>> 9c2f4d5132a868969a7ee4e83253283b3773bc42
    "salaries.head()"
   ]
  },
  {
   "cell_type": "code",
<<<<<<< HEAD
   "execution_count": 6,
   "metadata": {},
   "outputs": [
    {
     "data": {
      "text/plain": [
       "Age             0\n",
       "Education       0\n",
       "Occupation      0\n",
       "Relationship    0\n",
       "Race            0\n",
       "Sex             0\n",
       "Target          0\n",
       "dtype: int64"
      ]
     },
     "execution_count": 6,
     "metadata": {},
     "output_type": "execute_result"
    }
   ],
   "source": [
    "salaries.isna().sum()"
=======
   "execution_count": null,
   "metadata": {},
   "outputs": [],
   "source": [
    "salaries"
>>>>>>> 9c2f4d5132a868969a7ee4e83253283b3773bc42
   ]
  },
  {
   "cell_type": "markdown",
   "metadata": {},
   "source": [
    "In total, there are 6 predictors, and one outcome variable, the target salary <= 50k/ >50k."
   ]
  },
  {
   "cell_type": "markdown",
   "metadata": {},
   "source": [
    "recall that the 6 predictors are:\n",
    "\n",
    "- `Age`: continuous.\n",
    "\n",
    "- `Education`: Categorical. Bachelors, Some-college, 11th, HS-grad, Prof-school, Assoc-acdm, Assoc-voc, 9th, 7th-8th, 12th, \n",
    "Masters, 1st-4th, 10th, Doctorate, 5th-6th, Preschool.\n",
    "\n",
    "- `Occupation`: Tech-support, Craft-repair, Other-service, Sales, Exec-managerial, Prof-specialty, Handlers-cleaners, Machine-op-inspct, Adm-clerical, Farming-fishing, Transport-moving, Priv-house-serv, Protective-serv, Armed-Forces.\n",
    "\n",
    "- `Relationship`: Wife, Own-child, Husband, Not-in-family, Other-relative, Unmarried.\n",
    "\n",
    "- `Race`: White, Asian-Pac-Islander, Amer-Indian-Eskimo, Other, Black.\n",
    "\n",
    "- `Sex`: Female, Male."
   ]
  },
  {
   "cell_type": "markdown",
   "metadata": {},
   "source": [
    "First, we'll need to store our `'Target'` column in a separate variable and drop it from the dataset.  \n",
    "\n",
    "Do this in the cell below. "
   ]
  },
  {
   "cell_type": "code",
<<<<<<< HEAD
   "execution_count": 11,
   "metadata": {},
   "outputs": [],
   "source": [
    "target = salaries.Target\n",
    "predictors = salaries.drop('Target', axis=1)"
=======
   "execution_count": null,
   "metadata": {},
   "outputs": [],
   "source": [
    "target = \n"
>>>>>>> 9c2f4d5132a868969a7ee4e83253283b3773bc42
   ]
  },
  {
   "cell_type": "markdown",
   "metadata": {},
   "source": [
    "Next, we'll want to confirm that the Age column is currently encoded in a numeric data type, and not a string. By default, pandas will treat all columns encoded as strings as categorical columns, and create a dummy column for each unique value contained within that column.  We do not want a separate column for each age, so let's double check that the age column is encoded as an integer or a float.  \n",
    "\n",
    "In the cell below, check the `.dtypes` of the DataFrame to examine the data type of each column. "
   ]
  },
  {
   "cell_type": "code",
<<<<<<< HEAD
   "execution_count": 12,
   "metadata": {},
   "outputs": [
    {
     "data": {
      "text/plain": [
       "Age              int64\n",
       "Education       object\n",
       "Occupation      object\n",
       "Relationship    object\n",
       "Race            object\n",
       "Sex             object\n",
       "dtype: object"
      ]
     },
     "execution_count": 12,
     "metadata": {},
     "output_type": "execute_result"
    }
   ],
   "source": [
    "predictors.dtypes"
=======
   "execution_count": null,
   "metadata": {},
   "outputs": [],
   "source": [
    "# Your code here"
>>>>>>> 9c2f4d5132a868969a7ee4e83253283b3773bc42
   ]
  },
  {
   "cell_type": "markdown",
   "metadata": {},
   "source": [
    "Great.  Now we're ready to create some dummy columns and deal with our categorical variables.  \n",
    "\n",
    "In the cell below, use pandas to create dummy columns for each of categorical variables.  If you're unsure of how to do this, check out the [documentation](https://pandas.pydata.org/pandas-docs/stable/generated/pandas.get_dummies.html).  "
   ]
  },
  {
   "cell_type": "code",
<<<<<<< HEAD
   "execution_count": 15,
   "metadata": {},
   "outputs": [],
   "source": [
    "data = pd.get_dummies(predictors, drop_first=True)"
   ]
  },
  {
   "cell_type": "code",
   "execution_count": 16,
   "metadata": {},
   "outputs": [
    {
     "data": {
      "text/html": [
       "<div>\n",
       "<style scoped>\n",
       "    .dataframe tbody tr th:only-of-type {\n",
       "        vertical-align: middle;\n",
       "    }\n",
       "\n",
       "    .dataframe tbody tr th {\n",
       "        vertical-align: top;\n",
       "    }\n",
       "\n",
       "    .dataframe thead th {\n",
       "        text-align: right;\n",
       "    }\n",
       "</style>\n",
       "<table border=\"1\" class=\"dataframe\">\n",
       "  <thead>\n",
       "    <tr style=\"text-align: right;\">\n",
       "      <th></th>\n",
       "      <th>Age</th>\n",
       "      <th>Education_11th</th>\n",
       "      <th>Education_12th</th>\n",
       "      <th>Education_1st-4th</th>\n",
       "      <th>Education_5th-6th</th>\n",
       "      <th>Education_7th-8th</th>\n",
       "      <th>Education_9th</th>\n",
       "      <th>Education_Assoc-acdm</th>\n",
       "      <th>Education_Assoc-voc</th>\n",
       "      <th>Education_Bachelors</th>\n",
       "      <th>...</th>\n",
       "      <th>Relationship_Not-in-family</th>\n",
       "      <th>Relationship_Other-relative</th>\n",
       "      <th>Relationship_Own-child</th>\n",
       "      <th>Relationship_Unmarried</th>\n",
       "      <th>Relationship_Wife</th>\n",
       "      <th>Race_Asian-Pac-Islander</th>\n",
       "      <th>Race_Black</th>\n",
       "      <th>Race_Other</th>\n",
       "      <th>Race_White</th>\n",
       "      <th>Sex_Male</th>\n",
       "    </tr>\n",
       "  </thead>\n",
       "  <tbody>\n",
       "    <tr>\n",
       "      <th>0</th>\n",
       "      <td>39</td>\n",
       "      <td>0</td>\n",
       "      <td>0</td>\n",
       "      <td>0</td>\n",
       "      <td>0</td>\n",
       "      <td>0</td>\n",
       "      <td>0</td>\n",
       "      <td>0</td>\n",
       "      <td>0</td>\n",
       "      <td>1</td>\n",
       "      <td>...</td>\n",
       "      <td>1</td>\n",
       "      <td>0</td>\n",
       "      <td>0</td>\n",
       "      <td>0</td>\n",
       "      <td>0</td>\n",
       "      <td>0</td>\n",
       "      <td>0</td>\n",
       "      <td>0</td>\n",
       "      <td>1</td>\n",
       "      <td>1</td>\n",
       "    </tr>\n",
       "    <tr>\n",
       "      <th>1</th>\n",
       "      <td>50</td>\n",
       "      <td>0</td>\n",
       "      <td>0</td>\n",
       "      <td>0</td>\n",
       "      <td>0</td>\n",
       "      <td>0</td>\n",
       "      <td>0</td>\n",
       "      <td>0</td>\n",
       "      <td>0</td>\n",
       "      <td>1</td>\n",
       "      <td>...</td>\n",
       "      <td>0</td>\n",
       "      <td>0</td>\n",
       "      <td>0</td>\n",
       "      <td>0</td>\n",
       "      <td>0</td>\n",
       "      <td>0</td>\n",
       "      <td>0</td>\n",
       "      <td>0</td>\n",
       "      <td>1</td>\n",
       "      <td>1</td>\n",
       "    </tr>\n",
       "    <tr>\n",
       "      <th>2</th>\n",
       "      <td>38</td>\n",
       "      <td>0</td>\n",
       "      <td>0</td>\n",
       "      <td>0</td>\n",
       "      <td>0</td>\n",
       "      <td>0</td>\n",
       "      <td>0</td>\n",
       "      <td>0</td>\n",
       "      <td>0</td>\n",
       "      <td>0</td>\n",
       "      <td>...</td>\n",
       "      <td>1</td>\n",
       "      <td>0</td>\n",
       "      <td>0</td>\n",
       "      <td>0</td>\n",
       "      <td>0</td>\n",
       "      <td>0</td>\n",
       "      <td>0</td>\n",
       "      <td>0</td>\n",
       "      <td>1</td>\n",
       "      <td>1</td>\n",
       "    </tr>\n",
       "    <tr>\n",
       "      <th>3</th>\n",
       "      <td>53</td>\n",
       "      <td>1</td>\n",
       "      <td>0</td>\n",
       "      <td>0</td>\n",
       "      <td>0</td>\n",
       "      <td>0</td>\n",
       "      <td>0</td>\n",
       "      <td>0</td>\n",
       "      <td>0</td>\n",
       "      <td>0</td>\n",
       "      <td>...</td>\n",
       "      <td>0</td>\n",
       "      <td>0</td>\n",
       "      <td>0</td>\n",
       "      <td>0</td>\n",
       "      <td>0</td>\n",
       "      <td>0</td>\n",
       "      <td>1</td>\n",
       "      <td>0</td>\n",
       "      <td>0</td>\n",
       "      <td>1</td>\n",
       "    </tr>\n",
       "    <tr>\n",
       "      <th>4</th>\n",
       "      <td>28</td>\n",
       "      <td>0</td>\n",
       "      <td>0</td>\n",
       "      <td>0</td>\n",
       "      <td>0</td>\n",
       "      <td>0</td>\n",
       "      <td>0</td>\n",
       "      <td>0</td>\n",
       "      <td>0</td>\n",
       "      <td>1</td>\n",
       "      <td>...</td>\n",
       "      <td>0</td>\n",
       "      <td>0</td>\n",
       "      <td>0</td>\n",
       "      <td>0</td>\n",
       "      <td>1</td>\n",
       "      <td>0</td>\n",
       "      <td>1</td>\n",
       "      <td>0</td>\n",
       "      <td>0</td>\n",
       "      <td>0</td>\n",
       "    </tr>\n",
       "  </tbody>\n",
       "</table>\n",
       "<p>5 rows × 40 columns</p>\n",
       "</div>"
      ],
      "text/plain": [
       "   Age  Education_11th  Education_12th  Education_1st-4th  Education_5th-6th  \\\n",
       "0   39               0               0                  0                  0   \n",
       "1   50               0               0                  0                  0   \n",
       "2   38               0               0                  0                  0   \n",
       "3   53               1               0                  0                  0   \n",
       "4   28               0               0                  0                  0   \n",
       "\n",
       "   Education_7th-8th  Education_9th  Education_Assoc-acdm  \\\n",
       "0                  0              0                     0   \n",
       "1                  0              0                     0   \n",
       "2                  0              0                     0   \n",
       "3                  0              0                     0   \n",
       "4                  0              0                     0   \n",
       "\n",
       "   Education_Assoc-voc  Education_Bachelors  ...  Relationship_Not-in-family  \\\n",
       "0                    0                    1  ...                           1   \n",
       "1                    0                    1  ...                           0   \n",
       "2                    0                    0  ...                           1   \n",
       "3                    0                    0  ...                           0   \n",
       "4                    0                    1  ...                           0   \n",
       "\n",
       "   Relationship_Other-relative  Relationship_Own-child  \\\n",
       "0                            0                       0   \n",
       "1                            0                       0   \n",
       "2                            0                       0   \n",
       "3                            0                       0   \n",
       "4                            0                       0   \n",
       "\n",
       "   Relationship_Unmarried  Relationship_Wife  Race_Asian-Pac-Islander  \\\n",
       "0                       0                  0                        0   \n",
       "1                       0                  0                        0   \n",
       "2                       0                  0                        0   \n",
       "3                       0                  0                        0   \n",
       "4                       0                  1                        0   \n",
       "\n",
       "   Race_Black  Race_Other  Race_White  Sex_Male  \n",
       "0           0           0           1         1  \n",
       "1           0           0           1         1  \n",
       "2           0           0           1         1  \n",
       "3           1           0           0         1  \n",
       "4           1           0           0         0  \n",
       "\n",
       "[5 rows x 40 columns]"
      ]
     },
     "execution_count": 16,
     "metadata": {},
     "output_type": "execute_result"
    }
   ],
   "source": [
    "data.head()"
=======
   "execution_count": null,
   "metadata": {},
   "outputs": [],
   "source": [
    "data = None"
>>>>>>> 9c2f4d5132a868969a7ee4e83253283b3773bc42
   ]
  },
  {
   "cell_type": "markdown",
   "metadata": {},
   "source": [
    "Now, split your data and target into training and testing sets using the appropriate method from sklearn. "
   ]
  },
  {
   "cell_type": "code",
<<<<<<< HEAD
   "execution_count": 26,
   "metadata": {},
   "outputs": [],
   "source": [
    "data_train, data_test, target_train, target_test = train_test_split(data, target, \n",
    "                                                                   test_size = 0.25, random_state=123)"
=======
   "execution_count": null,
   "metadata": {},
   "outputs": [],
   "source": [
    "data_train, data_test, target_train, target_test = None"
>>>>>>> 9c2f4d5132a868969a7ee4e83253283b3773bc42
   ]
  },
  {
   "cell_type": "markdown",
   "metadata": {},
   "source": [
    "## 2. Let's rebuild a \"regular\" tree as a baseline\n",
    "\n",
    "We'll begin by fitting a regular Decision Tree Classifier, so that we have something to compare our ensemble methods to.  "
   ]
  },
  {
   "cell_type": "markdown",
   "metadata": {},
   "source": [
    "### 2.1 Building the tree\n",
    "\n",
    "In the cell below, create a Decision Tree Classifier.  Set the `criterion` to `'gini'`, and a `max_depth` of `5`.  Then, fit the tree to our training data and labels.  "
   ]
  },
  {
   "cell_type": "code",
<<<<<<< HEAD
   "execution_count": 27,
   "metadata": {},
   "outputs": [
    {
     "data": {
      "text/plain": [
       "DecisionTreeClassifier(class_weight=None, criterion='gini', max_depth=5,\n",
       "                       max_features=None, max_leaf_nodes=None,\n",
       "                       min_impurity_decrease=0.0, min_impurity_split=None,\n",
       "                       min_samples_leaf=1, min_samples_split=2,\n",
       "                       min_weight_fraction_leaf=0.0, presort=False,\n",
       "                       random_state=None, splitter='best')"
      ]
     },
     "execution_count": 27,
     "metadata": {},
     "output_type": "execute_result"
    }
   ],
   "source": [
    "tree_clf = DecisionTreeClassifier(criterion='gini', max_depth=5)\n",
    "tree_clf.fit(data_train, target_train)"
=======
   "execution_count": null,
   "metadata": {},
   "outputs": [],
   "source": [
    "tree_clf = None\n"
>>>>>>> 9c2f4d5132a868969a7ee4e83253283b3773bc42
   ]
  },
  {
   "cell_type": "markdown",
   "metadata": {},
   "source": [
    "### 2.1 Feature importance\n",
    "\n",
    "Let's quickly examine how important each feature ended up being in our Decision Tree model.  Check the `feature_importances_` attribute of our trained model to see what it displays. "
   ]
  },
  {
   "cell_type": "code",
<<<<<<< HEAD
   "execution_count": 28,
   "metadata": {},
   "outputs": [
    {
     "data": {
      "text/plain": [
       "array([0.30446918, 0.        , 0.        , 0.        , 0.        ,\n",
       "       0.        , 0.        , 0.        , 0.        , 0.01174726,\n",
       "       0.00731382, 0.01770231, 0.01362388, 0.        , 0.        ,\n",
       "       0.        , 0.        , 0.        , 0.        , 0.10865096,\n",
       "       0.        , 0.        , 0.        , 0.01126856, 0.        ,\n",
       "       0.13019604, 0.        , 0.        , 0.        , 0.        ,\n",
       "       0.10188485, 0.        , 0.00056004, 0.        , 0.13774195,\n",
       "       0.00045497, 0.        , 0.        , 0.        , 0.15438617])"
      ]
     },
     "execution_count": 28,
     "metadata": {},
     "output_type": "execute_result"
    }
   ],
   "source": [
    "tree_clf.feature_importances_"
=======
   "execution_count": null,
   "metadata": {},
   "outputs": [],
   "source": [
    "# Your code here"
>>>>>>> 9c2f4d5132a868969a7ee4e83253283b3773bc42
   ]
  },
  {
   "cell_type": "markdown",
   "metadata": {},
   "source": [
    "That matrix isn't very helpful, but a visualization of the data it contains could be.  Run the cell below to plot a visualization of the feature importances for this model. Run the cell below to create a visualization of the data stored inside of a model's `.feature_importances_` attribute."
   ]
  },
  {
   "cell_type": "code",
<<<<<<< HEAD
   "execution_count": 29,
   "metadata": {},
   "outputs": [
    {
     "data": {
      "text/plain": [
       "(24420, 40)"
      ]
     },
     "execution_count": 29,
     "metadata": {},
     "output_type": "execute_result"
    }
   ],
   "source": [
    "data_train.shape"
   ]
  },
  {
   "cell_type": "code",
   "execution_count": 30,
   "metadata": {},
   "outputs": [
    {
     "data": {
      "image/png": "iVBORw0KGgoAAAANSUhEUgAAAnsAAAJNCAYAAABJF7MnAAAABHNCSVQICAgIfAhkiAAAAAlwSFlzAAALEgAACxIB0t1+/AAAADh0RVh0U29mdHdhcmUAbWF0cGxvdGxpYiB2ZXJzaW9uMy4xLjAsIGh0dHA6Ly9tYXRwbG90bGliLm9yZy+17YcXAAAgAElEQVR4nOzdebQdVZ328e9DQGaCSKQBCZFZmQK5gCDQgDRta78MggTBxoCCA4PyCt102yCIAgo4ACICQhRRaAEZFQLIGKbczMwIRH2FljAYCIQp/N4/9u/kVk7OuUNyk5uc83zWyrrn1qnatasua/lz76r9KCIwMzMzs9a01EB3wMzMzMwWHhd7ZmZmZi3MxZ6ZmZlZC3OxZ2ZmZtbCXOyZmZmZtTAXe2ZmZmYtbOmB7oBZf1t99dVj2LBhA90NMzOzRWb8+PEvRMSQRt+52LOWM2zYMDo7Owe6G2ZmZouMpD81+87TuGZmZmYtzMWemZmZWQtzsWdmZmbWwlzsmZmZmbUwF3tmZmZmLczFnpmZmVkLc7FnZmZm1sJc7JmZmZm1MBd7ZmZmZi3MxZ6ZmZlZC3OxZ2ZmZtbCXOyZmZmZtTAXe2ZmZmYtzMWemZmZWQtzsWdmZmbWwlzsmZmZmbUwF3tmZmZmLczFnpmZmVkLc7FnZmZm1sJc7JmZmZm1MBd7ZmZmZi3MxZ6ZmZlZC3OxZ2ZmZtbClh7oDpj1t6l/ncGw428c6G6YtaRpp39yoLtgZn3kkT0zMzOzFuZiz5D0DUkPS5oiaZKk7fqp3Tsk/VmSKtuukTSzF8f2uI+ZmZn1zNO4bU7S9sC/AltHxJuSVgfe04+n+DvwUeAeSasCa/Zj22ZmZtYDj+zZmsALEfEmQES8EBHPShoh6U5J4yXdLGlNSUtLGidpFwBJp0n6Tg/tXw4ckJ8/BVxd+0LSSpJukzRB0lRJezVqQNJxed4pkk5e0As2MzNrJy72bAywjqQnJJ0n6R8lLQOcA+wXESOAi4HvRMQ7wCjgJ5L+Cfg40FPxdRuws6RBlKLvisp3bwD7RMTWwK7AWdUpXwBJewAbAtsCw4ERknauP4mkwyV1Suqc/fqMvt4DMzOzluVp3DYXETMljQB2ohRcVwDfBjYDbsnaaxDwXO7/sKRLgeuB7SPirR5OMRu4BxgJLB8R06qP8AGnZvH2LrA2sAbwv5Xj98h/E/P3lSjF311113EBcAHAsmtuGH24BWZmZi3NxZ4REbOBO4A7JE0FjgAejojtmxyyOeVZvDV6eYrLgd8CJ9VtPwgYAoyIiLclTQOWq9tHwGkR8dNensvMzMwqPI3b5iRtLGnDyqbhwKPAkHx5A0nLSNo0P38KeB+wM3B2vnTRk7uB04Bf120fDDyfhd6uwLoNjr0ZOFTSSnn+tSW9v/dXaGZm1t48smcrAedk0fYO8EfgcMqU6NmSBlP+O/mhpL8BpwMfi4i/SDoX+BHwue5OEBEBnNngq8uA6yV1ApOAxxocO0bSh4D7cvp3JvBZ4Pn5uVgzM7N2o/K/w2ato6OjIzo7Owe6G2ZmZouMpPER0dHoO0/jmpmZmbUwT+PaApP0W+CDdZv/IyJuHoj+mJmZWRcXe7bAImKfge6DmZmZNeZp3BYkaXZm3D4k6fpevjG7IOeTpBckvTd/X1NSSNqxss90Se+TNFrSfg3aWEvSlfl5uKRPLMw+m5mZtQsXe61pVkQMj4jNgJco6+YtNPm27QNAbV2+HSiLIO8AZXkXSiTbi9208WxE1IrA4YCLPTMzs37gYq/13UdJpug2i1bSwZk9OzkTMpA0RNJVmUs7TtJHuznPWLK4y5/fZ+7i797KvjtLulfS07VRPknDciTyPcC3gJE5OjlS0oqSLs4+TGyWoWtmZmbz8jN7LSzzaD8G/Cw31bJoX5G0OnC/pOuADwPfAD4aES9IWi33/xHwg4i4R9JQygLHH2pyunuBE/PztsA3ga/l7ztQisGaNYEdgU2A64Ara19ExFuSTgQ6IuLIvI5TgT9ExKE5Jf2gpFsj4rXKtR5OWR+QoUOH9v4mmZmZtTgXe61peUmTgGHAeOCW3N4si3Y34MqIeAEgIl7K/XcHPlzJsl1F0soR8WqDcz4IbCVpRWCZzNx9WtIGlGLvrMq+10TEu8AjknoTubYHsKekY/P35YChlKQPss9zsnE7Ojq8eKSZmVlysdeaZkXE8Ey/uIHyzN7ZNM+iFdCoQFoK2D4iZvV0woh4XdIfgUOBCbn5fsqzd+8HHq/s/mbls+iZgH0j4vEe9zQzM7O5+Jm9FhYRM4CjgWMlLUPzLNrbgP0lvQ+gMo07Bjiy1p6k4T2ccixl6va+/P0+4KvA/dG3qJZXgZUrv98MHKUcYpS0VR/aMjMza2su9lpcREwEJgMHULJoOzKL9iAyizYiHga+A9wpaTLl5QoohWJHvrjxCPClHk43FliPrmJvAvAB5n45ozdup0wfT5I0EjgFWAaYIumh/N3MzMx6wdm41nKcjWtmZu3G2bhmZmZmbcovaFifSDqE8hxe1diIWKgLN5uZmdn8cbFnfRIRlwCXDHQ/zMzMrHc8jWtmZmbWwlzstShJs/Nt1ockXZ/JE4vivHvn27uPZSTb3pXvRklaq/L7tEzyMDMzs4XExV7rmhURwyNiM+AlysLKC5WkLYEzgb0iYhNgT+BMSVvkLqOAtZoc3tdz+REEMzOzXnCx1x7uo0SjIWklSbdJmpAjb3vVdpJ0cI7KTZZ0aW4bIukqSePy30e7Oc+xwKkR8QxA/jwNOE7SfkAHcFmOOC6fxxxV6csmec4VJV2c55tY62OODP5G0vWUBZ/NzMysBy72WpykQcDHgOty0xvAPhGxNbArcJaKTYFvALtFxJZ0vXH7I+AHEbENsC9wUTen25SSxVvVCWwaEVfm54NyxLEWwfZC9uUnlGKR7Mcf8py7Amdk5i7A9sDnImK3uus8XFKnpM7p06f35taYmZm1BU+Fta7lJU0ChlEKsFtyu4BTJe0MvEsZ8VsD2A24MiJeAIiIl3L/3SlpFrV2V5G0ckS82uCcjTJ2m+Xu1lydP8cDn8rPewB7SqoVf8sBQ/PzLZW+zRERFwAXQFlUuZvzmZmZtRUXe61rVkQMlzQYuIHyzN7ZlJi0IcCIzMidRimmmhVlSwHbV0biuvMwZap2SmXb1sAj3RzzZv6cTdd/jwL2jYjHqztK2g54rRf9MDMzs+Rp3BYXETMoGbfHSloGGAw8n4XersC6uettwP6S3gcgabXcPgY4staepOHdnO5M4D8lDct9hwH/BZyV378KrNyLbt9MeZZP2c5WvTjGzMzMGnCx1wYiYiIwGTgAuAzokNRJGeV7LPd5GPgOcKekycD38/Cjc/8pkh4BvtTNeSYB/wFcL+kx4Hrg33M7wGjg/LoXNBo5BVgGmCLpofzdzMzM5oMi/HiTtZaOjo7o7Owc6G6YmZktMpLGR0RHo+88smdmZmbWwvyChvWZpEPoWpqlZmxELPSFm83MzKxvXOxZn0XEJcAlA90PMzMz65mncVvYQOTjZsrF9Dzvw5KulLRCfndSZe28vrQ5LF/UMDMzsz5ysdfaFnk+broiz7sp8BYwchGd18zMzOq42Gsfiyofdw5JSwMrAi83+O6wbGtytl0b/VtD0m9z+2RJO9Qdt17m5W4z33fCzMysjbjYawOLOB8XYGRGtf0VWI2y3l69qyNimzzPo8Dnc/vZwJ25fWtKKkftOjYGrgIOiYhxddfobFwzM7MGXOy1tlo+7ouUoqs+H3cKcCu9y8c9N9u6jszH7ea8V0TEcOAfgKnAcQ322UzS3ZKmUhZ33jS37wb8JM8/OxNAoES8XQt8trJI8xwRcUFEdEREx5AhQ7q/K2ZmZm3ExV5rm5VF17rAe+h6Zq+ajzsc+Bu9y8cdnv/WjohXezp5lBW7rwd2bvD1aODIiNgcODnP350ZwF+AXk0hm5mZWeFirw0s4nzcejsCTzXYvjLwXPbnoMr224Av53kGSVolt78F7A0cLOnAPpzfzMysrbnYaxOLKh83jcylV6YAW9E42/YE4AHK1PJjle1fBXbN6d3xdE3vEhGvAf8KHFN9qcTMzMyaczautRxn45qZWbtxNq6ZmZlZm3Jcms0X5+OamZktGTyNay1n2TU3jDefe3Kgu2FmZrbItN007kBkwlbOfa2k+3qxX4eks/vpnLtImpHJEo9K+mY/tTuzh++nSVp9UZzLzMzM5k9LFnsMUCZsFpVbA6tK+mB3+0ZEZ0Qc3Y+nvzsitgI6gM9KGtGPbS9WMu2jVf/bNTMz61ft8D+YizITdl/KIsKXU5Y4qbX96RxlnCzprty2i6Qb8vO2ku7Nkbl7MxYMSaMkXS3pJklPSvpeTxeby5OMB9aXNCxTKibkvzk5s5L+Pe/BZEmnd9empDUl3VUZLd2pwT7XSBov6WFJh1e2z5T0nTzP/ZLWyO0flHRf3tdT6to6LrdPkXRybhuWo5bnAROAdXq6F2ZmZtbixZ4WfSbsZ4Bf57/PVLafCPxztr1ng+MeA3bOkbkTgVMr3w0HRgKbU9av67bIyQWRP0LJlH0e+Ke83pGU3Fkk/QtlgeLtsk89FZEHAjdn2saWwDxxZcChETGCMrJ4dG1hZmBF4P48z13AYbn9R8BP8t7+b6X/ewAbAtvmtY+QVEvg2Bj4RURsFRF/6qHPZmZmRuu+jVvLhB1GGeWqz4TdGXiX3mXCflhSrd1VJK3cKCosR6w2AO6JiJD0jqTNIuIhYCwwWtL/AFc36O9g4OeSNqTElS1T+e62Wj5sLmi8LiU2rN5OkibmdZ0eEQ9LGkzJtB0OzAY2qlzXJRHxet31NjMOuFgl7eKaRtm0lAJvn/y8DqVge5GSfHFDbh8P/FN+/iilgAa4FPhuft4j/03M31fKtv4M/Cki7m/UwRxNPBxg0CrOxjUzM6tp1ZG9gciEHQm8F3hG0jRKoXkAQER8CfhvShE0qTLqVXMKcHs+Y/h/mDsn9s3K59nA0pL2ySnVSZJqb97cnSNeIyLi/Nx2TF7jlpQRt/fk9nmuV9I6lTbnSsiIiLso+bZ/BS6VdHDdsbtQCsjtcwRvYuUa3o6uV75nM/f/wWh0zwWcVrnnG0TEz/K71xrsX+vjBRHREREdg1YY3Gw3MzOzttOqxR6wyDNhPwN8PCKGRcQwYARZ7ElaPyIeiIgTgReY93mzwZRCCmBUL67rt5ViqLuoiMHAcxHxLvBvwKDKdR0qaYXs32oR8ZdKm+dXG5G0LuW+XQj8jPISSv15Xo6I1yVtQplG7slYup5rrGbj3px9WynPvbak9/eiPTMzM2ugpYs9WDSZsJKGAUOBOVOMEfEM8Iqk7YAz8mWIhyjPrU2ua+J7wGmSxtJVkPWH84DPSbqfMoX7WvbtJspzjJ053X1sD+3sQhmRnEiZev1R3fc3UUYcp1BGKRtOtdb5KnCEpHGUYpHs2xjgV8B9Kvm4VwIr96I9MzMza8CLKlvL8aLKZmbWbtRuiypbe9t8bT+zZ2ZmVtOqb+MuNHImrJmZmS1BPI1rLWfZNTeMNT/3w4HuhtmAmXb6Jwe6C2a2iHka18zMzKxNudhbSCTNrsSLXa+Sm9vTMTN7+H5VSV+p/L6WpCv7o7+VNu+orN1X3d4h6ez5aO+3kvau/P64pP+u/H6VpE9V25e0rKRb8/6NnN9rMTMzMxd7C9OsXLNuM+AluhZ2XhCrAnOKvYh4NiL264d2exQRnRFx9Hwcei+wA8yJcpsJbF/5fnvg3rr2twKWyft3xYL028zMrN252Fs07qNEswEg6ThJ43L9vpPrd5a0kqTbJE3I9fn2yq9OB9bPEa8zJA3LtfuQtJykS3L/ibloNJJGSbpa0k2SnpT0vdw+SNLoHHmcKumYShc+LelBSU9I2in330XSDfn5JEmXSvpDtnkYzY0li738eQMwRMUHKUXx/9bazwWUfwkMz+tcX9IISXdKGi/pZklr9vUPYGZm1q78Nu5CJmkQ8DFK8gSS9qBkvW5LiQa7TtLOGUlW8wawT0S8Iml14H5J1wHHA5tl1FttMeeaIwAiYvNMsRgjqZaFO5wyWvYm8Likc4D3A2vnyCN108xLR8S2kj4BfJMShVZvC0pSxorAREk3RsSzDfYbD2wm6T2UYu9OYD3gQ9mnsdWdI+J5SV8Ajo2If83kk0uBvSJiek7rfgc4tHqcnI1rZmbWkEf2Fp7lM53iRWA14Jbcvkf+mwhMADahFH9VAk7NRIpbKaOCa/Rwvh0pRRER8RjwJ0pqBsBtETEjIt4AHqHExD0NrCfpHEkfB16ptHV1/hxPyfht5NqImBURLwC3U4rXeUTEm8DDlIi1jwAPUEY6d8h/9/ZwXRsDmwG35P38b+ADDc7jbFwzM7MGXOwtPLNyBG5d4D10PbMn4LRKDu0GEfGzumMPAoYAI7KNvwHL9XA+dfPdm5XPsykjdy8DWwJ3ZN8uarD/bJqP/tav2dPdGj73AjsDK+d576er2BvbzXFQruvhyv3aPCL26OEYMzMzSy72FrKImEHJ2D02pyRvBg6VtBKApLXzObWqwcDzEfF2Pnu3bm5/leY5sXdRikRy+nYo8HizfuX08FIRcRVwAmXkrS/2yucE30fJzh3Xzb5jgS/SlQk8hTLKN5Qy6tedxynP+G2f/V5G0qZ97KuZmVnb8jN7i0BETJQ0GTggIi6V9CHgPklQ3k79LPB85ZDLgOsldQKTgMeynRcljc2XMn4P/LhyzHnA+ZKmAu8AoyLizTxHI2sDl0iqFfz/2cfLehC4kVKwndLkeb2aeynP6Z2W1/GOpOeBv0TEu92dJCLekrQfcLakwZT/Zn9Iz0WimZmZ4QQNmw+STgJmRsSZA92XRjo6OqKzs3Ogu2FmZrbIyAkaZmZmZu3J07jWZxFxUv02SZuTbwNXvBkR2y2STpmZmVlDLvasX0TEVMp6fmZmZrYYaelpXDmftnbcnPSLyrbR+eLDgJG0p6Tj+3jMtHyT2MzMzHqhpYs9nE+72JC0dP3vEXFdRJw+UH0yMzNrB61e7FW1cz5tt3K07OTKtW5SOcfPJY3JfT4l6Xu5z025biCSTsx7+ZCkC5TrveQI5amS7gS+mtf6fUm3A9/N+3Ju7jtE0lXZzjhJH83t78vzT5T0U7pfPNrMzMzqtEWxp6582uvy92o+7XBghKSd6w6r5dNuDewKnJVFzPHAUzlieFzdMXPyaYHPAD+XVEu+GA6MBDYHRkpaJ7etHRGb5TGXVNpaOiK2Bb5GyadtZAvgk8D2wImS1ur1TZnXC3mtPwGOrWxfP8+xF/BL4Pbs66zcDnBuRGyTI6jLA/9aOX7ViPjHiDgrf98I2D0ivl53/h8BP4iIbYB96Ur0+CZwT0RsRfn7DW3UeUmHS+qU1Dl9+vQ+X7yZmVmravViz/m0RbPFFKvbm53v9xHxNjAVGATclNunVvbbVdIDuaDzbkA14eKKunP+JiJmN+jL7sC5+fe6DlhF0sqUmLVfAkTEjcDLDS+kko07ZMiQJpdrZmbWflr9bdxZETE8kxduoIy8nU1XPu1Puzm2mk/7tqRpLIR8WklbAv+cfdsfOLRu//7Ip30ReG/dttWAFxr0r/58bwJExLuS3o6uVbjfBZbOkcvzgI6I+IvKgsvV+/Ra3Xnrf69ZCtg+ImZVN+aMsFf+NjMzm0+tPrIHOJ8WeBJYSyWmDUnrAltSotgWVK2weyHv5/y+rDIGOLL2i6TaMi7Ve/ovzFu0mpmZWTdafWRvjnbOp80+fDbPtRzwNvCFLIIXSET8XdKFlGndaTQvOHtyNPDjnDZfmlLkfQk4Gfi1pAnAncCfF7TPZmZm7cTZuEsoLeb5tAPJ2bhmZtZu5GxcMzMzs/bUNtO4rcb5tGZmZtYbLvZaiPNpi6l/XeBHEc3MzFqGp3HNzMzMWlhbFXuSZmfM2UOSrpe0ai+OmdnD96tK+krl97UkXdkf/a20eYekeR66lNQh6ez5bHPTjFp7IuPWTlA3rw33p4xeW73B9j0lHZ+fT5J0bIN95sTTmZmZWc/aqtgjF1nOWK+XyHizBbQqMKfYi4hnI2J+15rrk4jojIij+3qcpOUpKRWnR8RGlDX3dqByHQMhIq6LiNMHsg9mZmatpt2Kvar7KOvcASDpOEnjJE2RdHL9zpJWknSbpAmSpkraK786HVg/RwzPqI485YLHl+T+E3NxZiSNknS1pJtyVO17uX2QpNE58jhV0jGVLnxa0oM5ErdT7r+LpBvy80mSLs3RuiclHdbNtR8IjI2IMQAR8TplQePaqNrUHLGUpBclHZzbL5W0e7P+N7hngySdme1NkXRU5eujKvdyk8p9ObdBOyMkTZZ0H/1ToJuZmbWNtnxBQ9Ig4GPAz/L3PSjZuNtSIs+uk7RzRNxVOewNYJ+IeCWnIO+XdB2lQNosIoZnW8MqxxwBEBGbZ0EzRiVZA8qLFFtR4sgel3QO8H5g7Rx5pG6aeemI2FbSJ4BvUrJk620BfARYEZgo6cYmCy1vSsnAnSMinsqCdhVgLPBRSrbv08BOwC+y7S9TUjLm6X9E/KXuPIcDHwS2ioh3JK1W+e6FiNg6p8CPBb7QoJ81lwBHRcSdks5otIOkw/N8DFrF2bhmZmY17Tayt7ykSZSs2NWAW3L7HvlvIjAB2IRS/FUJODUTHm6ljAqu0cP5diSXQomIxyjFU63Yuy0iZkTEG8AjlDi2p4H1JJ0j6ePAK5W2rs6f44FhTc53bUTMiogXgNspxWsjonnebAB3Azvnv58Am0taG3gpImrPMDbqf73dgfMj4p28By/18XpQyTVeNSLuzE31S8uQbV8QER0R0TFohcHNmjMzM2s77VbszcoRuHWB99A1JSjgtHyeb3hEbBARP6s79iBgCDAi2/gbXbmwzXT3wsOblc+zKSN3L1Oen7sj+3ZRg/1n03xEtr6Aa1bQPQzM9cKHpPUoiRyvUqLKdsp/dwDTKaN5d3fXf0n75HT2pHyhpLuisjfXQw9tmJmZWQ/ardgDIDNhjwaOlbQMcDNwqKSVACStLen9dYcNBp6PiLfz2bvaSNarwMpNTnUXpUgkp2+HAo8361dODy8VEVcBJwBb9/HS9srnBN8H7ELznNrLgB0l7Z7nXR44G/geQE7Hrg5sGBFPA/dQplrvbtxcERG/rRTMncAY4EuSls7zrNbd8U3a/DswQ9KOuemgvrZhZmbWztqy2AOIiInAZOCAfFHhV8B9kqYCVzJvAXcZ0CGpk1JwPJbtvAiMzZcq6p8nOw8YlG1eAYyKiDdpbm3gjpxqHg38Zx8v60HgRuB+4JQmz+sREbOAvYD/lvQ4MJVSGFZfjngAeCI/3519u6eP/bkI+DMwRdJkyosh8+MQ4Mf5gsas+WzDzMysLSnCM2StQNJJlGnYMwe6LwOto6MjOjs7B7obZmZmi4yk8RExz5q80MYje2ZmZmbtoC2XXmlFEXFS/TZJmzPv26tvRsR2i6RTZmZmNuBc7LWwiJhKWQ/PzMzM2tRiPY0rZ9lWj22aZZtJGjtU9h0taZFEtjXo54DffzMzM+uyWBd7OMsW6FWW7S75+wLLiLSm/13UllFZAAN2/83MzNrR4l7sVTnLtkGWbcazfQk4Jq9ppzxmZ0n3Snq6OsrX6L7lPXhU0nmUBJF16u7lKEm/kXQ9Ze28hXX/H5C0aaWNO1RycVeUdHGeb2KlLTMzM+vBEvHMnpxl2zTLljLieT6VZVckfR5YkxLXtgllVPDKZveNshbexsAhEfEVGtse2CIiXlqI9/9yYH/gm5LWBNaKiPGSTgX+EBGH5j1+UNKtEfFa7UBVsnGHDh3a5BLMzMzaz+I+sucs265r6S7LtpFrIuLdiHiEruvu7r79KSLub9IWwC2VbNuFdf//B/h0ft4f+E3lfMfnfwt3UGLq5qroqtm4Q4YM6eE0ZmZm7WNxH9mbFRHDJQ0GbqCMvJ1NV5btT7s5tppl+7akaSyELFtJWwL/nH3bHzi0bv/+yrLdea6OVrJspYbdrvZXlZ/z3LccXauOku1DGY0E+EL+fK16SKN26vT5/kfEXyW9KGkLYCTwxcr59o2IplFzZmZm1tjiPrIHOMuWHrJs6f6aqnpz3xpl3M5PO/Nz/6FM5f47MDiXjqmd7yhpztvHW/XiWs3MzIwlpNgDZ9nSfZbt9cA+dS9oNGqnN/etRwvx/pNtHUCZ0q05BViGkrH7UP5uZmZmveBs3AEiZ9kuNM7GNTOzdiNn45qZmZm1p8X9BY2W5SxbMzMzWxRc7C1GnGXbP6b+dQbDjr9xoLthS6Bpp39yoLtgZtbvPI1rZmZm1sKWuGJP0ux86/QhSdfXpVY0O2ZmD9+vKukrld/XknRlf/S30uYdkuZ5cFJSh6Sz56O9YZJC0lGVbedKGtXDcaMkrdXku/m6bkm/zti0Y3reu8e2flf7m/b0dzMzM7OeLXHFHrnQckaUvURGnC2gVYE5xV5EPBsR+3Wzf7+JiM6IOHo+D38e+Kqk9/ThmFFAw2Jvfq5b0j8AO0TEFhHxg74c26QPn4iIvy9oO2ZmZlYsicVe1X2Ute4AkHScpHE5ynRy/c6SVpJ0m6QJkqZK2iu/Oh1YP0cMz8hRs4fymOUkXZL7T8wFgmsjZFdLuknSk5K+l9sHSRqdI49T60a7Pi3pQUlP1NbDk7SLpBvy80mSLpX0h2zzsB6ufzpwG/C5Btc6XNL9eS9+K+m9kvYDOoDL8lqXrzumet0Nr6+BMcD7a2v8STos/waTJV0laYVsb7Skn0i6XdLTkv5R0sWSHpU0utKHaSqLVVf7dWnlb4WkyyTt2cO9MTMzM5bgYk/SIOBjwHX5+x6UfNZtKS85jJC0c91hbwD7RMTWwK7AWZIEHA88lSOGx9UdcwRARGwOfAb4uaRa7NdwSqzX5sBISevktrUjYrM85pJKW0tHxLbA1+iKI6u3BfBJYHvgxGZTrhWnA1/P+1H1C+A/ImILyiLM34yIK4FO4KC81lk9tN3o+urtSde9uxu4OiK2iYgtgUeBz1f2fS+wG3AMZSHoHwCbAptL6u7FlIuAQwBUovN2AH5X3UHS4aoIvucAACAASURBVJI6JXXOfn1GD5dlZmbWPpbEYm95lcSKF4HVgFty+x75byIwAdiEUvxVCThV0hTgVsqo4Bo9nG9HcjmUiHgM+BOwUX53W0TMiIg3gEcokWBPA+tJOkfSx4FXKm1dnT/HA8OanO/aiJgVES8At1OK16Yi4hlKEseBcy6yFESrRsSduenn1GXr9lKj6+vJZpLuVknWOIhSzNVcH2UV76nA3yJiakS8S8n+HdaswbyODVQi2T4DXBUR79Ttc0FEdEREx6AVBvflGs3MzFrakljszYqI4ZTC4z10PbMn4LRKpusGEfGzumMPAoYAI7KNvwHL0T118101Sm02ZeTuZWBL4I7s20UN9p9N82Vv6iNNehNxcirwH/Tx7ylpu5x+ndRkWnSe65O0T+WYRit1jwaOzFHNk5n7/tbae7eu7XfpeRmgSyl/v0OYe7TUzMzMurEkFnsARMQM4GjgWEnLADcDh0paCUDS2jkSVDUYeD4i3s5n72ojVa/SPCP2LkqRgaSNgKHA4836lc+bLRURVwEnAFv38dL2yucE3wfsQsnA7VaOOD4C/Gv+PgN4WV05uf8G1Eb55lxrRDxQKY6v603nIuK3lWMaZZKtDDyXf5ODetNmL42mTH8TEQ/3Y7tmZmYtbYleVDkiJkqaDBwQEZdK+hBwX3kMj5nAZylvrNZcBlwvqROYBDyW7bwoaWy+nPB74MeVY84Dzs9pyXeAURHxZp6jkbWBSyTVCun/7ONlPQjcSCkqT4mIZ3t53HcoU9g1n8t+r0CZWj4kt4/O7bOA7Xvx3F5fnQA8QJnunkrzIrpPIuJvkh4FrumP9szMzNqFyiNUtjiQdBIwMyLOHOi+LG6yaJ0KbJ0jl011dHREZ2ejQUczM7PWJGl8RDR6vGrJnca19iFpd8oo7Dk9FXpmZmY2tyV6GrfVRMRJ9dskbU6+DVzxZkRst0g6tRiIiFsp09pmZmbWRy72FnMRMZWy3p2ZmZlZny2SaVxJH5B0bSYxPCXpR+pbxFd/92dvSR+u/P6tnCrsj7YPqSxN8lamaEySdHp/tL8wSFpP0gGL+JzrSLpiUZ7TzMysHS30Yi8TKq4GromIDSkLEq9EeXt0oOwNzCn2IuLEnCpcYBFxSW1pEuBZYNf8/fjqfpIWi1HV7Md6wCIt9iLiLxExclGe08zMrB0tipG93YA3IuISgIiYTYnLOlTSipLOzNGvKZKOApC0jaR7M1/1QUkrZ1brubVGJd0gaZf8PFPSWSqZt7dJGpLb58lplbQDJeLrjBxxWz9zW/fLYz6mkoE7NbNbl83t0ySdrK5c3U36eiMkfVvSTyXdQlmeZf1Mm5goabyk7XK/3fM6rpb0uKRfVNo4Q9Ijeb++m9t+qZI7e7dK7u6/5PblJf08+ztBGR8n6QuSLlfJ5P09JXJt17wfRzfo9z2Svp/tPyKpQyVv98l8g7i237+rZAI/VPlbniXp8Lp78FVJG6gkodT6c6Wkm7PN0yr7fzGv6Q5JF0n6YV/vu5mZWTtbFKNLm1LiweaIiFck/Rn4AvBBYKuIeEfSajm9ewUwMiLGSVoF6GktuBWBCRHxdUknUnJnj6TktF4IpcgAPh8R50i6Drghs2JRrpmnknk7GvhYRDyRRdaXgVqB8UJEbC3pK8Cx2f++2grYOSLeUFlO5J/y8yaUWLPaixdbU0Yfnwful/QR4BngE8CmERGSVq20uw7wj5SIuFslbUBZdPqtiNhc0qbA7yTVIuS2B4ZHxMsqU9hHRsTe3fR7VkTsJOnrlLXuRgAzgKezANuIsojytsAg4EFJdwKXU4rJC7KdT1NyiVeoa3/LvOZ3gCcknZPtHJ/bX6OkkjzYqHNZUB4OMHSo3+UwMzOrWRQje6Jx5Jcoea3n13JOI+IlYGPguYgYl9teqc9BbeBdSoEI8EtKni10n9PayMbAMxHxRP5enynbm2zbnlybWbMAywI/U1nM+XIqU8vA/RHxXI6ETsrzvUS51gsl7UMpgGr+JyLejYjHgb9Qir5qru/DlGnlDXL/MRnt1lu1hI2pwNSI+FtexzTgA8BOlMza1yPiVUpBuGP+HdeRtIakEcD/Nlko+taIeDUXeX6M8vbtdsAfIuLliHgLuLJZ56rZuEOGDOnDZZmZmbW2RVHsPQzMtchfjtatQ+NCsFlx+A5z97e7TNva8aNpntPaSHc5uNC7bNueVAu0r1MKs80pI2LLNjjXnPNFxNuUe3kNsC8laaOmUaZud9fzWrMvJP0ip3SrEWo95dp2d66rsr8jKUVtI/Ncbw9tmpmZWS8simLvNmAFSQcDSBoEnEUpxMYAX1K+rCBpNcqozlqStsltK+f304DhkpaStA6lOKpex375+UDgnvzcLKe1WRbuY8CwnAKFuTNlF4bBlFHMoMSbdVvcSFoZWCUibqA897hV5etPq9iIUkg/ydy5vh8C1gT+2KDpue5HRBycL5Xs2YdruQvYJ58TXAnYC7g7v7uc8gLIpyiFX289QHmWcNX8G36qD8eamZkZi+CZvXy2bB/gPEknUAqz3wH/RRnB2QiYIult4MKIOFfSSOAcSctTntfbHRhLeWZtKvAQMKFymteATSWNpzxHVnvLs1lO6+WUqdCj6SoSyWfnDgF+kwXmOOD8fr0hczsXuFLSZ4BbmXt0q5HBwNUqL40sBfzfynd/pBRc7wcOj4i38rm3n+Y09tvAwbm9vt2JwCCVnOGfRcTZfb2QiHhQ0q8p9wzgJ7lGIBExWeWlmWci4vmmjczb5p8lnUF5Tu+vlFFiJ2iYmZn1QUtk40qaGRErDXQ/BoqkXwJXRsQ1A92X/iZppYiYmSN711KKyOu7O8bZuGZm1m7kbFxbgp0iaSIwBXgcuGGA+2NmZrZEWSwW9l1QAzWql1O+X63bPDYijliU/YiIzy7K8y1KEXHMQPfBzMxsSdYSxd5AyYWiLxnofpiZmZk10xLTuHL27nxl70r6f3ULMy/WJH1K85FcYmZm1s6W+GJPcvZuo+zdVpNvR38KcLFnZmbWB0t8sYezd+eQtFKe68E8x//J7UtL+oFKZu0Ulbi3mq/lvlNyjb5G7TbL4927ss/M/Lm7pNslXZPH/DjX/1ta0t+zHxMk3SLpfXnM1pIeyPavkjQ4t98j6TuS7gL+kxIV94O8r8P6en/MzMzaUSsUew2zd4H67N0tgMvUlb371YjYkrKGX2+zd7emLLL8zdx+dURsk+08SsnevZcSLXZcjrg9VWtEXdm7IzPVY2lK9m7NC3mOn1Cyd/vqROCmiNiWUgSflef8MrAWsGXeh2qKxd8iYivgIuZet6/W5zXoyuPdAjitF/3YDvgaJRnkQ5QFlqGsE3h/XuN9lHUQoUTcfT3bf7yyHcoi0jtHxCmU9RmPyfs6ra6fh0vqlNQ5ffr0XnTRzMysPbRCsefs3S57AN+QNAm4nRIPN5RS0J6fo561+9Dbc3aXx9vM/RExLc93OV336x3gN/n5l8COObq3XETUUk/q70mzeLW5OBvXzMyssVYo9py9O3f7e9ee6YuIoVlYNrvmhueUdGtOlZ7fTR7vnPulEoFX7W+jnN5m23u6J70pLs3MzKyJVij2nL3b5Wbg6NovkmrZuWOAL+e9qd2HpiJi9ywWv6TmebzTgBH5eR9gUKWJj0gamufbn677Vc23PRC4JyJeAGbls47Q/T1pdl/NzMysiSW+2IuS97YP8GlJTwJPAG9Qsncvojy7N0Ul9/XAiHiLkp17Tm67hTIiV83ePZPm2bu7Ad/K7bXs3VsohVzN5cBx+eLD+pW+vgHUsnenUqZH+zN792RK4TtV0sPASbn9p8D/0nUf9u9Dm4OBG/O4P9D1XN9PgX+S9CAwnLlzfe+lFNxTKX+P63L7DGBrSRMoU7vfzu3/RnnxYgrlLeZv09ivgf/yCxpmZma91xLZuAub2jx7ty9U1hM8MiL2rtu+NOUFlIW+rp+zcc3MrN3I2bhmZmZm7clxab3Q7tm7fZGLR8+zgHS+8bzEpHWYmZm1Chd7izFn75qZmdmC8jSumZmZWQtzsbeQSfqApGslPSnpKUk/yhSPgerP3pI+XPn9W/lSRX+1v4ZK1NzkjEv7XS+Omdlf5zczM7O5udhbiCSJklBxTURsCGwErAR8ZwC7tTdleRMAIuLEfM6uv3wLuCUitoyIDwPH92PbZmZm1kcu9hau3YA38tk7Mj7sGOBQSStKOjPXxJsi6SgASdtIujdHxh7MRZ9HSTq31miOnO2Sn2dKOkvSBEm3SRqS2w+TNC7buUrSCrlw8Z7AGblW3fqSRkvaL4/5WK4NOFXSxZKWze3TJJ2c55gqaZNurnlN4P/VfomIKdnGStm/Wht7NTpY0nHZ7ymSTs5tK0q6Ma/lIUkj5+ePYWZm1o5c7C1cm1IyZ+eIiFcoCz1/AfggsFVEbAFcltO7VwBfjYgtKZm2s3o4x4rAhIjYmpI88c3cfnVEbJPtPAp8PiLupSxwfFwmZDxVa0TScpTUkZEZ/7Y08OXKeV7Ic/wEOLab/vwY+Jmk2yV9Q9Jauf0NYJ9sY1fgrBz5nEPSHsCGlPSS4cAISTsDHweezdHCzYCb6k8q6XBJnZI6p0+f3sMtMzMzax8u9hauZpm0AnYGzs8lSYiIl4CNgeciYlxue6X2fTfepRSIAL+kJFMAbCbp7kzqOIhSeHZnY+CZzNIF+Hn2sebq/DkeGNaskYi4GVgPuBDYBJiYo40CTs2UjFuBtYE16g7fI/9NpCSYbEIp/qYCu0v6rqSdImJGg/NeEBEdEdExZMiQHi7VzMysfXjplYXrYWDf6gZJqwDrAE8zbyHYrDh8h7kL8+W6OWft+NHA3hExWdIoYJce+qoevq/Foc2mh/9usnD9FfArSTdQisaVgSHAiIh4W9I05r0OAadFxE/n6Zw0AvgEcJqkMRHxrfp9zMzMbF4e2Vu4bqNk1R4MIGkQJTN2NDAG+FLGiCFpNUq+7lqStsltK+f304DhkpaStA5lmrNmKWC//HwgcE9+Xhl4TtIylJG9mlfzu3qPAcMkbZC//xtlWrhPJO0maYVa/4H1KdPWg4Hns9DbFVi3weE3U55nXCmPX1vS+3Mq+PWI+CUlt3jrvvbLzMysXXlkbyGKiJC0D3CepBMohdnvgP+ijJBtBEyR9DZwYUScmy8fnCNpecrzersDY4FnKNOZD1GmOGteAzaVNB6YAdReXjgBeAD4Ux5XK/AuBy6UdDRdRSIR8UYmdvwmC8xxwPnzcdkjgHMl1UYjL4qIcZKeAa6X1AlMohSX9fdrjKQPAffl43wzgc8CG1BeKnkXeJu5nyU0MzOzbiii0ayhLSkkzRyoOLfFVUdHR3R2dg50N8zMzBYZSeMjoqPRd57GNTMzM2thnsZdwg3UqF5O+X61bvPYiDhiIPpjZmZmjbnYs/mSC0VfMtD9MDMzs+4t1tO4ar9c2VGSpme6xSOSDuvj8cMlfWIBzv+12pu0+fvvJK06v+2ZmZnZwFtsi71MV2i3XFmAKyJiOGVdvFMlzbXwcG2pliaGU9aim19fA+YUexHxiYj4+wK0t0BULLb/jZqZmS0JFuf/IW3HXNk5IuJ54ClgXUknSbpA0hjgF5KWk3RJtjdR0q454vktYGT2b2Tep4vzWiYq82glDaq/f7kUy1rA7ZJur/R9dZXkiq9U7uFJkr6en+fJsq0n6R+zT5OyHys3O1bSMEmPSjqPssTMCZK+V2lrlKRzenMPzczMbPEu9toxV3YOSetRYsf+mJtGAHtFxIHAEXk/Ngc+Q4k2Wwo4kRwZjIgrgG8Af4iIbSh5tGdIWhE4vP7+RcTZwLPArhGxa113Lqdr/T6A/Snr8TXLsq13LHBEjljuBMzq4diNgV9ExFbAecCnKm2NpCsernq/nI1rZmbWwOJc7LVdrmwaKWkS8Gvgi3ltANdFRK143RG4FCAiHqMsnLxRg7b2AI7P9u6gxJMNpRTC9fevqYiYCLxf0lqStgRejog/0zzLtt5Y4Ps5erhqnre7Y/8UEffnuacDT0v6iKT3Ue712AZ9dDaumZlZA4vz27htmStLGZk7ssH21/pwvup++0bE43NtLM9D9nU17SspiRv/QBnpq7U/T5atpCOA2ssln4iI0yXdSHme8H6Vl1qaHTuMua8VSkG+PyV147fhlcDNzMx6bXEe2Wu7XNk+uKvWL0kbUUbrHm/Qv5uBo7K4Q9JWub3R/aPB8VWXAwdQ7teVlfbnybKNiB/nVPLwiHhW0voRMTUivgt0UkbxGh7b5NxXU16O+QwNpnDNzMysucW22MvRm32AT0t6EngCeIOSK3sR5dm9KZImAwdGxFuU57nOyW23UEbxqrmyZ9I8V3Y3ygsO0JUrewtzZ7heDhyXLxmsX+nrG0AtV3YqZXp4fnJle+s8YFCe6wpgVES8CdwOfLj2ggZwCrAM5T49lL9Dg/uX2y8Afl97QaMqIh6mFIJ/jYjnctsY4FeULNuplCKwUbH4NUkP5blmAb/vw7FExMvAI8C6EfFg72+TmZmZtXU2rpwr25KcjWtmZu1GzsY1MzMza0+L8wsaC51zZc3MzKzVtfU0rrWmZdfcMNb83A8Huhtm/Wra6Z8c6C6Y2WLM07hmZmZmbWqJLfYkfUDStZKelPSUpB9lisZA9WdvSR+u/P6tXE+uv9ofJWl6vmn7iKTDej5qnjZ+ndFkx/RXv3p53t9JWrWHfWrRbKtWo9nMzMxswSyRxV6uG3c1cE1EbEhJj1gJ+M4AdmtvYE6xFxEnRsSt/XyOKzJybBfgVElrVL+srZvXiKR/AHaIiC0i4gf93K9uRcQnIuLvvdx9VcDFnpmZWT9ZIos9ypp4b0TEJQARMRs4hrJI74qSzpQ0NUexjgKQtI2keyVNlvRgLro8StK5tUYl3SBpl/w8U9JZkiZIuk3SkNx+mKRx2c5VklaQtAOwJyV7dpKk9SWNlrRfHvOxXJtvqqSLJS2b26dJOjnPMVXSJr25+Ih4HngKWFfSSZIukDQG+IWk5SRdku1NlFTLuR1DiTybJGmnant5z27Ma3oo1+ir9e+7eb8erC0aLWlIXvu4/PfR3L5S5dxTJO1baWf1/HyNpPGSHpZ0eIPLOx1YP/t5hqRLJe1V6etlkvbszX0yMzOzJbfY25SSMztHRLxCWSj4C8AHga0iYgvgspzevQL4akRsScmGnUX3VgQmRMTWlDSMb+b2qyNim2znUeDzEXEvcB1wXKZGPFVrRNJylNSPkRGxOeUN6C9XzvNCnuMnwLG9uXhJ6wHrAX/MTSOAvSLiQOCIvB+bUxInfp592BN4Kvt3d12THweejYgtI2Iz4KbKd69ExLbAuUDtrYcfAT+IiG0okXYX5fYTgBkRsXne+z806P6hETEC6ACOVsm7rTq+0s/jsu1D8roHAzsAv2twTw6X1Cmpc/brMxreNzMzs3a0pBZ7zbJdBewMnB8R7wBExEvAxsBzETEut71S+74b79IVzfVLYMf8vJmkuzP14SBK4dmdjYFnIuKJ/P3n2ceaq/PneGBYD22NlDQJ+DXwxbw2gOsiola87ghcChARjwF/okxzd2cqsHuO4u0UEdVq6deVn9vn592Bc7Mv1wGrSFo5t/+4dmAmX9Q7WiVJ435KzvGG3XUsIu4ENlCJUvsMcFWjv11EXBARHRHRMWiFwT1crpmZWftYUtfZe5gyojSHpFUoxcPTzFsINisO32Hugne5bs5ZO340sHdETJY0ivL8XHfUw/dv5s/Z9Pz3uCIijmyw/bU+nA+VjODr89fzI+J8SSOATwCnSRoTEbXouOp9q31eCti+UmDW2m12n2vf70IpCLePiNcl3UH397zmUkphfQBwaC/2NzMzs7SkjuzdBqwg6WAASYOAsyiF2BjgS7WXFSStRsm3XUvSNrlt5fx+GjBc0lJZAG1bOcdSwH75+UDgnvy8MvCcpGUoBUjNqzTOdn0MGFZ73g34N8q08MJyV61fkjYChgKPV3eIiL/kNOnwLPTWAl6PiF9S8oO3ruw+svLzvvw8BphTdEoa3mT7e+v6Nhh4OQu9TYCPNOh/o/s4Gvha9v3hJtdtZmZmDSyRxV6UlaD3AT4t6UngCeAN4L8oz3j9GZiS04UHRsRblGLlnNx2C2VEaSzwDGUa80xgQuU0rwGbShpPeSGkNtJ1AvBAtvFYZf/LgePypYj1K319g/LM2W9y6vdd4Pz+uhcNnAcMynNdAYyKiDd7OGZz4MGclv0G8O3Kd8tKeoCS+FFbsuVooCNfwngE+FJu/zbw3nzJYzKwK3O7CVha0hTgFMpU7lwi4kVgbLZxRm77G+X5yEt6cf1mZmZW4QSNJiTNHKg4tcWFpGlAR0S8MMD9WIFSkG9d9zxhQx0dHdHZ2bnwO2ZmZraYkBM0bEmlsjD1Y8A5vSn0zMzMbG5L6gsaC91AjepJOoQyZVo1NiKOWNR9iYhhi/qcDfpwK+W5QzMzM5sPLvYWM7lQtJ9NMzMzs36xWE7jyrm3DXNvJXVIOruPbc/sn16amZnZkmixK/ZyrTbn3jbIvY2Izog4up/Pu1jLZXXMzMxsPi12xR7Ove0u93aXvI6lsv1VK9f3x/oCsfLdd/Ka7q/tI2ndvPYp+XNobp9zbbV7lT/XlHRX3oOHlPm6kvaQdF9e528kzfOsY1+PzWs7UdI9wL9LerDS1rBcusXMzMx6YXEs9px72zz3tnY/3gWupaw1iKTtgGm5Hl2ja70/r+kuoDZFfC7wi9p9BHqaHj4QuDlHH7cEJklaHfhvYPe8zk7g//bTsW9ExI4RcRrwnrwvUNZL/J/6E6iSjTt9+vQeLsXMzKx9LI7FnnNvm+feVl1BV7rFAZXrqfcWcEODfmwP/Co/X0rXPWhmHHCIpJOAzSPiVUoCxocpiyBPAj4HrNtPx1av53+A/fPzyEbXWs3GHTJkSA+XYmZm1j4Wx2LvYWCuRQHVlXvbqBDs79zbI3OU7uQejqmduzt9zb0dHhHbRcRvK9tfa7L/fcAGOQW9N3C1pEE5VTpJUi3x4+3oWjm7u37U9plz3/L5yfcARMRdlEL2r8ClKlF1Am6pRK99OCI+L2m7Sj/27MuxTa77CmB/lfi3iIgnm91EMzMzm9viWOw597YXsoD7LfB94NGIeDEiZleKpxN7aOJeyogglGut3YNplKljgL2AZaA84wc8HxEXAj+j5OfeD3y0dv35jONGEfFApR/X9eXYJtf6FKVQPYHmI5hmZmbWwGK3zl5EhKR9gPMknUApzH5Hyb2dTXk7d4qkt4ELI+JcSbXc2+Upz+vtzty5tw/RPPd2Bl3TobXc2z/lcbUC73LgQklH01UkEhFvqCyC/JssMMexcHNv612R5xw1H8ceDVws6ThgOiW/F+BC4Np8KeI2ukbYdqFk/74NzAQOjojpkkYBv669mEJ5Dq82rU0/HFu91jMoz2yamZlZL7VlNq6ce9vSnI1rZmbtRs7GNTMzM2tPi9007qLg3FszMzNrF205jWutbdk1N4w1P/fD+T5+2umf7MfemJmZLXwtO42rNsvQrZxjiqTHVJI59q58N0rSWpXfp+XixYstSWtJunKg+2FmZtaqlthiL9eAa6sMXUlbAmdSEjU2ocS4nSlpi9xlFLBWk8P7eq5+m+JXN/m2EfFsROzX7HszMzNbMEtssUd7ZugeC5waEc/kNT8DnEZZ1mQ/ymLUl+X5l89jjqpvO+/PxXkNEyXtldtHqWTUXk9Z03Aukj6tkm07WdJduW2QpDOyrSmSvpjbd5F0u6RfAVMlfVfSVyptnSTp6ypZtw9V2mr0dxsh6U5J4yXdLGnNXvz3YWZmZizZxV47ZujOc82UTNlNI+LK/HxQnr92bY3a/gbwh4jYBtiVUqCumN9tD3wuInZrcP4TgX/O694zt30emJFtbQMcJqm2Ft62wDci4sOUtQpHVtraH/hNXfuHM+/fbRngHGC/iBgBXMzAjt6amZktUZbkYq8dM3T7EhfXXdt7AMerZNLeQYmFG5rf3VLJ5a03Fhgt6TCgNjW7B3BwtvUA8D5gw/zuwcoo5ETg/fmM3pbAyxHx57r2d6fx320z4JY8x38DH6jvmKTDJXVK6pz9+oxuboeZmVl7WZKXXnkY2Le6QV0Zuk+z8DN0946IySopELv00Nf+ytCt5QZPqWzbGnikj20L2DciHp+rk9J2VDJp/z979x1mV1Xvf/z9oVeDYEQsGKQqAQJMEBAwlIuoVEEjKk0BQQTxKoqiEMACghXEGLg04SLSm5JI6CCQBFIB4QcJXhGv4Yp0EML398f6nszO4ZSZyUzKzOf1PHnmnF3WWnsfnsflWnuvj6TvAx8HyNHCw/KYjwOTJQ3Lso6MiLF1ZY3gzbm+l1MSSN5BGemr16wzOyMitmpxjUTEGGAMlLdxWx1rZmY2kCzOI3sDMUP3dOBbkobkNQyhxMj9uE399cZSnuVTlrNpo4Mi4rhaxm0et3bm3h4PPE3pWI8FDs97gaT1KlPC9X5LyePdh9Lxq9fod/szMFjSVrltaUntRlLNzMwsLbYjewMxQzciJkv6JnBddq5eA74REZPzkPOB0ZJepjx718zJwM8o90eUDu+uXWjCaZLWpYy2jQemUEYZhwD3Z1mzKW8lN2r/DEkrA09GxFMNDjmHxr/bPsAvJA2i/Df7M8oop5mZmbXhRZVbkDN0F0teVNnMzAYatVhUebEd2TNrZqN3DWKiO2xmZmaAO3stOUPXzMzMFnfu7C2CcqHo8xZ2O8zMzGzxtzi/jWtmZmZmbfRpZ0/SuyVdI+lRSY9J+nkmWSwUkvaU9IHK95Mk7dSL5R8oKSTtWNm2V27rdv5rRo5d32TfOdVrWZgk/V7SKgugngMl9Ur2r5mZ2UDRZ529XIbjSuDqiFiXsqTGSizcqKs9gbkdpIg4PiJuLRHItQAAIABJREFU6uU6pgH7Vr5/mrJESa+KiIMjotViygtMRHwsIv61AKo6EHBnz8zMrBv6cmRvB+CVfP6MiJgDfBX4vKQVmwTeD5d0t6Qpku7LhY8PlHRmrVBJ12c6A5JekPRjSfdLGi9pcG4/RNKELOcKSStI2pqS53qapMmS1pZ0fm3ETdKOkh7INp0radncPkvSiVnHNEkbtLnuO4AtcvHflYB1gNo6eEg6Pts2XdKYysLG60i6Kdt8v6S185SVJF0u6WFJF1eOv1VSR+U+fD/PvUfS6rl9cF7/hPz3oUYNbnPtp+ZvcZ86F4WuP3+WpLdJGiLpIUlnS5ohaZzKmoZIOkrSg/l7/za3jZL0G0k35+jvIZUyv5HtmSLplPydOih5uZNr5ZqZmVlrfdnZ25CSxzpXRDwH/AU4mDcH3i9DyaH9SkRsQlnw+OU2dawI3B8Rm1ESKU7I7VdGxPAs5yHgCxFxN3AtcEymQjxWK0TScpQFiUdGxEaUF1cOr9TzdNbxK+DrbdoUwE3AR4A9ss6qM7NtQ4Hl6VzM+GLgl9nmrYHaosObAkdTRiTfBzTqsK0I3JPn3g7UOk0/B34aEcMp0XLn1J/YhWt/LiK2AM6kLGbczrp5HRsC/6Iz0u5YOn/vwyrHb0yJX9sKOF4lO/ejlFHYD+Y1/SgiLgcmAp/N32+e/zZUycadPXt2F5ppZmY2MPRlZ69ZFq2A7WgceP9UREzIbc/V9rfwBqWDCHARsE1+HirpDknTKHFm7eK11gdmRsQj+f2CbGPNlfl3EiUtop1aLNingUvq9m0v6d5s2w6UhI6VgXdFxFVQEjci4qU8/r6I+GtEvEEZIWxU/7+B2rN91TbuBJwpaTKl0/mWrKuq3bVfUvnbMp82zawkelTbMpXSqf8cJY+45pqIeDkingZuocTV7QScV7sH+d9HSxExJiI6IqJj8ODBXWimmZnZwNCXnb0ZlGm3uSS9hZKn2izwvlHn8HXmbedyLeqsnX8+8OUcqTqxzTm1ult5Nf/OoQvL1UTEfcBQ4G2VTlRtFO0sYJ9s29nZtlb1v1r53Kz+16IzCqV6zBLAVrV824h4V0Q8L2lsToWe06ZumPc3CUlL5rmTJZ3UjfZ+HPglsDkwSZl/y5t/86D5fwtmZmbWTX3Z2RsPrCBpfwBJSwI/pnTEGgXePwy8U9Lw3LZy7p8FDJO0hKT3UEZ+qu2vveX6GeDO/Lwy8JRKfuxnK8c/T2eObdXDwJDKM2n7UaaF58e3KDm9VbVO59P5PN8+MHd6+6+S9gSQtKykFeazfij3+cu1L5KGZX0fyc7fwbS/9pGVv3+KiDmVzuPxXWmEpCWA90TELcA3gFUoL+sA7CFpOUmrASMoucHjKM92rpDnr5rHNvv9zMzMrIk+W1Q5IkLSXsBZkr5L6Zj9ntIBmkPjwPuRwBn58P3LlOm8u4CZlLdcpwP3V6p5kTINOgl4ls6OyXeBe4En8rxaB+G3wNmSjqKzk0hEvKKSWnFZdjAnAKPn8/r/0GDbvySdnW2alfXU7Af8OkfLXgM+OT/1p6OAX0qaSvmtb2fe5+W6cu3LSrqX8vtV3zLujiWBiyQNooza/TTvBcB9wA3AmsDJEfE34G/ZMZ0o6d90/ndzPjBa0suUEct2z3SamZkNeOqc/Vv8SHphYUWaDQSSZgEd+TxdX5Q/CnghIk7vzXI7Ojpi4sSJvVmkmZnZIk3SpIjoaLTPCRpmZmZm/dhinY27sEb1ctrzK3Wb74qIIxZGe/pKRAzp4/JH9WX5ZmZmtph39haWXCj6vIXdDjMzM7N2nI3b+9m4Z9Ztm5t00Qvlz5L0tvz8Qm+U2cV6R0lqt5i0mZmZLYKcjdv72biLHBWL5fOZuWSPmZmZ9ZCzcXs/G7cpSb9SifSaIenEyvaGdUhaTSVf9gFJv6bJAsiSjsnrnVorV505tWdRlqt5T17v9Kzjq03K2j/LmSLpNw32ry3pRkmTVFJKam3dTSUZ5AGVjN9aPu+ovJ+3SnpcZdmbWlmfy995sqRf1zp2+buepLLky1Yq2bi1XN1efXPXzMysv3M2Lr2ejTtSnQkTk5k3ReS4fC16Y+DDkjZuU8cJwJ0RsWm2fc36yiTtTMmj3QIYBmwuqRZ3tj5wYZ7/Nkok29C8xjc9cyhpQ+A4YIe8d/UvoQCMAY6MiM2znWfl9juBLbOu31IWT67ZgJIVvAVwgqSlJb2fsi7ihyJiGGXtxdoC2CsC0yPig8CDwF7AhvnfyvcatMnZuGZmZk305Qsa3crGlbQRddm4AGU2uKn6bNxahu1QSd+jM6lhbJu2NsqHPQL4WX6vZuN+ok1Zl0ZENbXi1sq+T0k6lHLf16BMKU9tUcd2tc8RcYOkZxrUt3P+eyC/r0Tp/P0FeCIi7sntjwPvk3QGZRHjcQ3K2gG4vLauXn0mrUrqx9aUBZhrm5fNv+8GLpW0BrAMZSHsmhsi4lXgVUn/AFYHdqREp03IspYH/pHHzwGuyM/PAa8A50i6gc4M4HlExBhKR5SOjo7Fd/FIMzOzXtalkT1J6+U06fT8vrGk77Q5bcBm4zasQFqLMhK2Y45Q3VDXrmZ1tOu4CPhhJcJsnYj4r9z34txCIp4BNgFupXRkz5H0nsoo5GG0z6RdAvhXpa5hEfH+3HcGcGbe8y82ubbq9Qm4oFLO+pWlWF7JaX/y/xBsQen87Qnc2OZ+mJmZWUVXp3HPpmS9vgYQEVOBT7c5Z6Bn49Z7C6Xz9Ww+z/bRLpxzO9l+SR8F3trgmLGU5yBXyuPeJent9QepvMW7RERcQYmT2ywi/qfS2RpN+c0+pZJTW82kBeaOts6U9MncL0mb5O5BwJP5+YAuXNt4YJ9aWyWtKum9Ddq9EjAoIn4PHE2ZqjYzM7Mu6uoo1QoRcV/dlOrrrU4Y6Nm4De7HFEkPUEY8H8/raudE4BJJ91M6n39pUO64fP7tT/n7vAB8jnKPq94FnKfOt3K/1aCsGZK+D9wmaQ5lavjAusM+C/wqR3aXptzTKcAoyv17EriH8kxmUxHxYJYxLtv0GmXE8Ym6Q1cGrsnnKkV5ycfMzMy6qEvZuJL+AHwZuCwiNlN5g/ULEdGV0ak+I2fjWgPOxjUzs4FGLbJxuzqydwTl4fcNcuRmJvNOj5qZmZnZIqhtZy+n2DoiYidJK1Ke+3q+75vWnrNxzczMzFpr29mLiDckfRn4XUS82O74gcDZuGZmZra46OrbuH+U9PVcqmPV2r8+bZmZmZmZzbeudvY+T3lu73bKor+TgD55Al7SuyVdI+lRSY9J+nmmaywUkvaU9IHK95Mk7dSL5R8oaXZlvbsLe6vsunrOqV7HfJY1WJ3RaNtK+r2kVVocPyuXfqnfvrukY3ujTWZmZtZYl17QiIiWy2j0FpW1Q64EfhURe+TafGOA7wPHLIg2NLAnJbXhQYCIOL4P6pgndaOrJC1VSyFpJyIO7n6zmtoReDgiauvp3dGTQiLiWkoMnJmZmfWRriZo7N/oXx+0ZwdKesJ5AJmi8FXKosErSjpd0jRJUyUdmW0bLuluSVMk3ZeLMR8o6cxK+6+XNCI/vyDpx5LuV0kFGZzbD5E0Icu5QtIKkrYGdgdOy1G3tSWdn0vPIGnHHN2aJulcScvm9lmSTsw6pknaoLs3olF7cvv5kn4i6RbgVEmjJF0gaVzW+wlJP8p6b1RZWBpJt0rqqNyD72fZ96gs8kxe3z1Z70mSXmjQrmHAj4CP5T1ZvjZyl7/RDVnudJV1E2uOrL8f1d8pr+sX+Vs+XrnHS0g6S9KM/B1/X9tnZmZm7XV1Gnd45d+2lAV0d++D9mxImSKeK1Mb/gIcTFmod9OMG7s4p3cvBb4SEZtQFmF+uU0dKwL3R8RmlIWKT8jtV0bE8CznIco6gndTRp6OyZSJx2qFqCzyez4wMiPClgIOr9TzdNbxK0pMWisjK9O4BzVrT+X49YCdIuJr+X1t4OPAHpSM4FuyTS/n9kb34J4s+3bgkNz+c+DnETEc+FujhkbEZOB4ymjksIio3u9dgL9FxCYRMZR5o826cj/WALYBdgVOyW2fAIYAG1H+G9iq0YmSDpU0UdLE2bNnNynezMxs4OlSZy8ijqz8OwTYlBJ239uaZbMK2A4YXZu2jIh/AusDT0XEhNz2XBemNd+gdBChdIy2yc9DJd0haRplDcEN25SzPjAzIh7J7xdkG2uuzL+TKJ2VVmodp2G1Uc027bmslh2b/hARr1HSQpaks5M1rUnd/6ZMTde3byvgsvz8323a3Mg0YCdJp0raNiKerezryv24OiLeiIgHgdVz2zaU630jIv4O3NLoxIgYExEdEdExePDgHjTdzMysf+rqyF69l4B1e7MhaQYwz+rPkt4CvIfGHcFmncPXmffalmtRZ+3884Ev54jYiW3OqdXdyqv5dw5dX7y6qlV76pfAeRXKMjnAa9EZi/JGk7qrx7RtX075TpY0udVx2fHdnNLp+6Gk6vONXbkfr1Y+q+6vmZmZ9UBXn9m7TtK1+e964M/0zYP144EVas8D5gsaP6Z0fMYBh6lk16Ky9MvDwDslDc9tK+f+WcCwfN7rPcAWlTqWoDMX9zPAnfl5ZeCpfMatmg7yPJ3ZulUPA0MkrZPf96NMC/eWZu3pS/cAe+fnT9c2RsRxtZHHVidLeifwUkRcBJwObNYLbboT2Dt/y9WBEb1QppmZ2YDR1RGn0yufXweeiIi/9nZjIiIk7QWcJem7lI7Z74FvU0aE1gOmSnoNODsizsyXAM6QtDzlGbWdgLsokW7TgOnA/ZVqXgQ2lDQJeBaovUTwXeBe4Ik8r9bB+y1wtqSj6OwkEhGv5PN1l2UHcwIwuhdvR7P29KWjgYskfQ24gXJ/umMjysssbwCvMe8zjD11BeXt3+nAI5R70t12mZmZDVjqnM1rcZB0akR8s922xYGkFxZWzNqiLt/4fTk73Z8G9o2IPRaBdq0UES9IWg24D/hQPr/XUEdHR0yc2CfLQJqZmS2SJE2KiI5G+7r6zN5/NNj20Z43yRZRmwOTJU0FvgR8rc3xC8r1+bzgHcDJrTp6ZmZmNq+WI3uSDqf8j/77gMcqu1YG7oqIz/Vt8/qPnPL9St3muyLiiIXRnv5s2TXWjTUO+NnCbob1U7NOabSakZnZwtVqZK/dM3v/DfwB+CFQjbV6Ppc+sS7KJVXOa3ugmZmZWS9qOY0bEc9GxKyI2DcinqC8ABHASpLWnJ+K5QzcyeqlrNr+QNI7JV3e5pghkqYvqDaZmZn1B11demU3SY9S3nC9jbK0yR96Wqk0NwP36ohYl/KW7UqUDNyFZU9gbucrIo6PiJt6uY7q4snDcvHgAU8l4/dvEeEYNDMzs17W1Rc0vgdsCTwSEWtRlsK4az7qdQZuZ5v3knSTijUkPSLpHZKWlHRatnWqpC9WzvlG1jdF0ikNyhwi6WFJ56hk1F4saSdJd+VI6hZ53BZ5Tx/Iv+vn9gMlXamSrfuopB9Vyv6VSizZDEknVrZ/LOu8UyXj9vrcvmLeswlZzx6VOi6TdB0wrjpql5/vyPt6f/4+ZmZm1gNd7ey9FhH/BywhaYmIuAVoucBuG87ALf+Wj4irgL8DRwBnAyfk26ZfAJ7NnNrhwCGS1pL0Ucoo5AfzGn7UpK51KFm3GwMbUBaQ3ibb+O085mFgu4jYlJJ3+4PK+cMoaxBulO1+T24/Lh8A3Rj4sKSN8x79GvhoRGwDVPPKjgNuzuvYntKhXjH3bQUcEBE71LX9H8B/5H0dCfyixT0F5s3GnfOSl+EzMzOr6eqiyv+StBJl6YuLJf2DsrhyT3UrA1fSRtRl4AKU2eCm6jNwa9msQyV9D1iFMnU8tk1bG2XgHgHUXvesZr5+ok1Zl0bElxtsP5KyaPA9EXFJbtsZ2Lg2uggMokTU7QScFxEvwdyM4EZmRsQ0AEkzgPG5fl41L3cQcIGkdSm/x9KV88fXsm0lPQi8F/gf4FOSDqX8t7MGZep7CeDxiJiZ514CHFq5jt0l1TrCywG15z3/2KT9SwNnShpG52LaLUXEGGAMlLdx2x1vZmY2UHR1ZG8PSh7u0cCNlGVYdpuPep2BO693UTqnq0uqXY+AIyvP960VEeNocC8kvacyWnhYXbvIsl+tfK6182TglogYSvk9q/eiev4cYClJa1FGBnfMUdcb8pxW90jA3pXrWDMiHsp99Rm/NV8F/hfYhPLfyUJ7ccfMzGxx16XOXkS8SOmIjYiIC4BzgH/PR73OwE15HedlGx8C/jN3jQUOz3Yiab2c/hxHebZxhdy+akT8T6Uz1Z3ItkHAk/n5wC4c/xZKB+1ZlZza2sLaDwPvkzQkv4+snDMWOFI5DCtp0y6266mIeINyv5fswjlmZmbWQJdGoiQdQpmWWxVYmzISNZryoka3DeAM3JGStql8/1Jexx0RcYdKSsQESTdQOtRDgPuzozQb2DMibszpzYmS/l25bz3xI8o07n8CN7c7OCKmSHqAMjL7OPmSTkS8LOlLwI2SnqZEmtWcTJnynprXMQvYtU1VZwFXSPokcAvNRwDNzMysja5m406mjJrdmw/zI2laToUukuQM3AVKnfm1An4JPBoRP10YbXE2rpmZDTTqhWzcVyNi7rRtjnD5IXirOiT/T8EMyjTsrxdye8zMzIyuv1Bwm6RvA8tL+g/K9ON1fdes+bewRvU0QDNwcxRvoYzkmZmZWXNd7ewdS1n3bRrwRcpzYuf0VaMWZ87ANTMzs0VJy86epDUj4i/5VuTZ+c/MzMzMFhPtntm7uvZB0hV93JY+Iendkq7J2K/HJP08EzkWVnv2lPSByveTJO3Uy3V8NNMkHlKJMDu9B2VcohLT9tWMNntnb7axi204rLY8j5mZmfVMu85edbHc9/VlQ/pCvhl6JXB1RKxLWdJlJeD7C7FZe1JSJwCIiOMj4qbeKlzSUOBM4HMR8X5gKGWZlPrjmo7qSnoHsHVEbJzP4h0ItO3s5XqJvSYiRkfEhQ3q6eni1WZmZgNOu85eNPm8uNgBeCWfoyMi5lDSGT4vaUVJp0ualiNYRwJIGi7pbklTJN2XCzgfKOnMWqGSrpc0Ij+/IOnHku6XNF7S4Nx+iKQJWc4VklaQtDWwOyUfdrKktSWdr4xEk7SjpAeyTedKWja3z5J0YtYxTdIGLa75G8D3I+LhvObXI+KsLOd8ST+RdAtwqqQt8lofyL/rZxnjgLdnG79LSbG4OL8vX61M0ghJt0j6b8oznUj6XN67yZJ+XesEdude5fZRypg1SbdK+oGk23jzCzBmZmbWRLvO3iaSnpP0PCWn9bnad0nPLYgGzqcNKZm1c2Wu7l+Ag4G1gE0z+uvinN69FPhKRGxCWfD45TZ1rAjcHxGbUZI1TsjtV0bE8CznIeALEXE3cC1wTKZdPFYrRNJylASRkbl+4VLA4ZV6ns46fkWJLGtmaP0111kP2CkivkZJvtgu1048HvhBHrM78Fi28WRgIvDZ/N7ofmwBHBcRH5D0fsoC1h+KiFq2bS2ppMv3qknbV4mID0fEj+t3SDo0p64nzp49u8Xlm5mZDSwtp8MiYnGPqWqWqStgO2B0RLwOEBH/lLQRJaZrQm57DqDMBjf1BqWDCHARZdoYYKik7wGrUKaOx7Zp6/rAzIh4JL9fABxBSZ+gUu4k4BNtymrlshzhhLIe3gWS1qXcp6V7WOZ9ETEzP+8IbE5JAgFYHvhH7pvfe3Vpk+1ExBhgDJRFlXt2GWZmZv1PVxdVXlzNoExBziXpLZSc30YdwWadw9eZ914t16LO2vnnA1/OUboT25xTq7uVV/PvHFp30mdQOlvNVKPHTgZuiYihwG5daCOSPpjTs5Ml7d6gTAEXVLJ614+IUU2K6+69cmyamZlZN/X3zt54YIXaG5357NiPKZ2LccBhtYf9Ja1KmdZ8p6ThuW3l3D8LGCZpCUnvoUxb1ixBZ5buZ4A78/PKwFOSlqZzGhPgeTrzeKseBoZIWie/70eZ6uyu04BvS1ovr2EJlezbRgYBT+bnA1uUObfNEXFvpSN3bYNjxwP7SHp71r+qpPfmvu7eKzMzM5tP/fqtxogISXsBZ+WLBktQFoT+NmWEbD1gqqTXgLMj4kxJI4Ez8kWElynP7d0FzKS8gDAduL9SzYvAhpImAc9SnlcD+C5wL/BEnlfr4P0WOFvSUXR2fIiIV1TSNy7LDuYEYHQPrnmqpKOBS/JFhwBuaHL4jyjTuP8J3Nyi2POB0ZJeBrZq8txerf4HJX0HGCdpCeA1ynT0E3T/XpmZmdl8UoQfb5ofkl5YWNFsi5sFda86Ojpi4sSJfV2NmZnZIkPSpIjoaLSvv0/jmpmZmQ1o/Xoad0FYWKN6OeVbv97cXRFxxMJoT1d4BNTMzGzBc2dvMZULRZ+3sNthZmZmi7bFchpXAzDvNsu9RtKfervcFvUNkTS9yb7zJc2sLMNy1IJql5mZmXXdYtfZkwZe3i2ApFWAzYBVJK3V5JgFPVJ7TGUZll909ST1coaumZmZNbfYdfYYmHm3AHsD11GWbvl0pd31ebejJF0gaVzW8QlJP8o6bsy17JC0uaTbJE2SNFbSGpXtU3IEsdvP/0naN+uaLunUyvYXcsTzXmCrJr/JkpJOy3s8VdIX89w1JN2e93e6pG272y4zM7OBanHs7A3EvFuAfYFL8t++dfuqebcAawMfB/agxJLdkvW/DHw8O3xnAPtExObAuXSOjJ4HHBURW7VpD3R2cCdL2kjSO4FTKR3yYcBwSXvmsSsC0yPig8B9NP5NvgA8GxHDgeHAITmK+RlgbGbtbgJMrm+InI1rZmbW0OLY2etW3i0lc3aevNva/hbqM1y3yc9DJd0haRol6WHDNuU0yrvdrrK/mnc7pFkhklYH1gHuzLJelzS0ckg17xbgDxHxGmWB4iWBG3P7tKxnfWAo8EdJk4HvAO+WNAhYJSJqyR2/aXN91WncaZQO2q0RMTvv8cWV650DXJGfm/0mOwP7Z5vuBVYD1qUsMH2QpFHARhHxfH1DImJMRHRERMfgwYPbNNvMzGzgWBzfxp1BmdKcS515t4/T93m3e0bEFEkHAiPatLW38m5HAm8FZpZHFnkLZSr3O7m/PjP2VYCIeEPSa9G5cvYbWY+AGfWjd/lcYMNVtiWdB2wK/C0iPtakna2u95VKh7RVh/3IiBjboP7tKKOVv5F0WkRc2KIuMzMzS4vjyN5AzLvdF9glIoZExBBgcyrP7fXAn4HBkrYCkLS0pA0j4l/As5JqI5lzrzEiDsoRvGYdPSijcR+W9Lb8Xfal8fU2+03GAodXnitcT+U5zPcC/4iIs4H/oryoYmZmZl2w2I3sDbS8W0lDgDWBeyrlzpT0nKQPdqesyvn/zhdIfpFTt0sBP6OMmh4EnCvpJUrnqzvlPiXpW8AtlFG630fENU3qb/SbnEOZZr5fZQhzNuVN5xHAMfmbvgDs3/2rNjMzG5icjduAnHe7WHM2rpmZDTRyNq6ZmZnZwLTYTeMuCM67NTMzs/7Cnb1FiPNuzczMrLf1u2lcOTe31TEv9EG98ySRdPGcDkldjlerO/dWSQ2fSTAzM7M361edvXyD07m5izBJS0XExIg4amG3xczMbCDoV509nJtbn5u7lqQ/ZbtOrmwfoZKL+ztJj0g6RdJn8/qnSVq7USWSdsk2TZE0vsH+wXntE/Lfh3L7KEljJI0DLsz6r899K0k6r/K77J3bf6USfzZD0oltrt/MzMya6G+dPefmzpub+3PgV5k1+/e6czahvAyyEWWx5/UiYgvKWndH1leQndqzgb3zGj/ZoB0/B36a9e2dZdVsDuwREZ+pO+e7lDzcjfJ3uTm3H5evkG9MWah541Y3QM7GNTMza6i/dfacmztvbu6HKB1AeHPO7YSIeCoiXgUeo6SPQGd+br0tgdsjYibMvX/1dgLOVMm2vRZ4i6TawtPXRkSjjvROwC9rXyLimfz4KUn3Aw9Q7uUHGpw7l7NxzczMGutvb+M6N/fNubnNVs1+tfL5jcr3N4ClVOLOaqOk1wITW5RVswSwVX2nLttVn987d3d9ufnc4deB4RHxjKTzaf0bmJmZWRP9bWTPubnz5ubeVfn82QbnNhURc3LqeVhEHA/8iTKduhbMvX/1xgFfrn2RNKwLVdWf81ZKh/VFSk7v6sBHu9N2MzMz69SvOntRst/2Aj4p6VHgEeAVSm7uOZRn96ZKmgJ8JiL+TRkZOyO3/ZEyglTNzT2d5rm5OwAn5fZabu4fKR25mt9Scl0fqL74EBGvUHJoL8up3zfopdxcoJab+xXgCEkTgEHdKbteRMwGDgWuzHt1aYPDjgI68kWLB4HDulD094C3Spqe5W4fEVMo07czgHMpv4eZmZn1gLNxu0nOzV3kORvXzMwGGjkb18zMzGxg6m8vaPQ55+aamZnZ4sSdvcWEc3PNzMysJzyNa2ZmZtaP9cvOnqQ5GU9W+3dsg2PmRnb1Yr0jMiKt9v2w2jIwvVT+CpIuzmix6ZLulLRIviwiaYik6fm51++1mZmZdU1/ncZ9OSK6ssZbbxsBvADcDRAR3VpKpQu+AvxvxqshaX3gtV6uw8zMzPqRfjmy14ykXSQ9LOlO4BOV7aMkfb3yfXquYYek/XPduCmSfpPbdpN0b66dd5Ok1fP4w4Cv5mjittVyJQ2TdE+WdVUuHoykWyWdKuk+SY9I2rbFJawBPFn7EhF/zrgzJP1ntnu6pKNz25C83nNy+8WSdpJ0l6RHJW2Rx60o6VxJE/Ka9mhy/9bJ650i6X5Ja6s4LcufJmlkm9+gYV05avm7vD+X5v3tyH07S/pT1nnZojqaaWZmtijqr5295eumcUdKWg44G9gN2BZ4R7tCJG0IHAfsEBGb0Pk27J3AlhGxKWXR5G9ExCzKosg/zdSJO+qKuxD4ZkRsTFk6h8tZAAAgAElEQVSs+YTKvqUiYgvg6Lrt9c4Fvpkdn+9JWjfbuTllgeYPUjJsD5G0aZ6zDvBzYGNgA0rqxzaUOLJv5zHHATdHxHBge+A0SSs2qP9i4Jd5L7YGnqJ0mocBm1Bybk+TtEaLa2hW15eAZ/L+nExJAkHS2yjRbztFxGaU2Lb/rC9U0qGSJkqaOHv27BbVm5mZDSwDZhpXJbprZkQ8mt8voiRCtLIDcHlEPA0QEf/M7e8GLs1OzTKUtI2mJA0CVomIWhzaBcBllUOuzL+TgCHNyomIyZLeB+xM6VhNkLQVpfN2VUS8mPVdSenQXpvXPC23zwDGR0SopHbU6toZ2L0yurkcJZnjoco1rAy8KyKuyra8ktu3AS6JiDnA/0q6DRgOTG1yGc3q2obSKSUipkuqnb8l8AHgLpWM3WUo0W3192YMMAbKosrN7qGZmdlA0187e8006wS8zryjnMvlXzU55wzgJxFxraQRwKj5bNer+XcObX6TiHiB0jm8UtIbwMfyvHZlQ4lke7XyuVaXgL0j4s/VEyWdB2wK/I3OjN16atXeJsc3qqtZOQL+GBH7drMeMzMzo/9O4zbyMLCWOvNpq52HWcBmAJI2A9bK7eOBT0laLfetmtsH0fns3AGVcp4HVq6vOCKeBZ6pPI+3H3Bb/XHtSPpQ5Vm/ZSgjXk8AtwN75nNvK1LygeunkVsZCxxZ63DVpoAj4qCckv5YRDwH/FXSnnnMspJWyLpHSlpS0mBgO+C+7tZFmRr/VG77ALBRbr8H+JCkdXLfCpLW68a1mZmZDWj9tbNX/8zeKTnteChwg8oLGk9Ujr8CWFXSZOBw4BGAiJgBfB+4TdIU4Cd5/CjgMkl3AE9XyrkO2CvrrH/R4gDK82lTKc+4ndSD61o72zINeIDy/NoVEXE/cD6lk3UvcE5EPNCNck8GlgamqiyXcnKT4/YDjspruJvy3ONVlCnbKcDNlOcX/96Dus4CBmfZ38wyn42I2cCBwCW57x7Ks4dmZmbWBYrw40228ElaElg6Il7J0dfxwHoR8e/ultXR0RETJ07s9TaamZktqiRNioiORvsG2jN7tuhaAbhF0tKU5/QO70lHz8zMzOblzt4iSNJHgFPrNs+MiL0WRnsWhIh4Hmj4/0jMzMys59zZWwRFxFjKiwxmZmZm86W/vqDRLeq/WbojJD2bSRUPSWq1YHOzMk6TNEPSafPZjl65dyqJIx4BNDMz6yKP7BX9NUsX4I6I2DWXZJks6fqImFTbKWmpiHi9xflfBAbXYtnMzMxs8eKRvRa0+GfpzpXpGpOAtSUdqJIxex0wTsWb8m0lXQusCNyruszbXFfv/Mo5X83tb8rPzVNWknR53s+LK+vs7Zj3ZZpKZu6yrbabmZlZ97izV/TXLN1q21ajRI/NyE1bAQdExA40ybeNiN3JUc+IuLSuyGGU+LShEbERcF5ub5SfCyWJ42jKQtDvoyyUvBxlfcCRWcZSwOHNtre5PmfjmpmZNeDOXlHr0AyrdGw2ILN0oyxGeFEXymmVpTs2F0M+BtiwVSFqnKW7XeWQLmXppm0lPQCMA07JhaKhRJDV2jc33zYi/peS7jG8TbmPA++TdIakXYDn1CA/NyJeyuPvi4i/RsQbwORs9/qUe/xI3XU2295URIyJiI6I6Bg8eHCbppuZmQ0c7uy11ptZumfmKNUXK8f3VJezdCnP7G0aEZvXPRP4YuVz23zbnLatjXyeFBHPUEYCbwWOAM5pU071mb9au1vl4ZqZmVkvcGevucU+S7cb2ubb5qhfbeTzeElvA5aIiCuA7wKbtcjPbeZhYIgy95bO62y23czMzLrJb+MWy6vk4tbcGBHHSqpl6T5Nee5uaO6/Atg/z5lAJUtXUi1Ldw4lv/ZAOrN0n6Rku9Y6h9cBl0vaAziyrk0HAKOzs/Q4cFBvXnCdqyjP8E2hjEy2y7cFeBdwnqTa/2H4Vv7dD/i1pJOA14BPNisgo9EOotybpSj3cnREvNpoew+vzczMbEBzNq71O87GNTOzgUYtsnE9jWtmZmbWj3katx/QAMzSNTMzs65xZ68fcJaumZmZNeNpXDMzM7N+zJ29NiTNqUvXOLbBMSMkXd/L9Y6QtHXl+2GS9u/l8p/NSLKHJHUpiaOHdR0o6cxeKmtWLvtiZmZmXeBp3PZejohhC6HeEcALwN0AdQsi95Y7ImJXSSsCkyVdHxGTajslLRURr/dBvWZmZraAeGSvhyTtIulhSXdSsmVr20dJ+nrl+3RJQ/Lz/pKmSpoi6Te5bTdJ9+YI202SVs/jDwO+mqOJ21bLlTRM0j1Z1lWS3prbb5V0qqT7JD1SWZS5pYh4kRK9tnaOwl0m6TpKxBqSjpE0Ies7MbetKOmGvJbpkkbm9uGS7s7t92WEGsA7Jd0o6VFJP6rcn30lTcsyTm233czMzLrHI3vt1S+4/EPgGuBsShbu/wMubVeIpA2B44APRcTTlXSNO4EtIyIkHUxZ0PhrkkYDL0TE6Xn+jpXiLgSOjIjbcvHiE4Cjc99SEbGFpI/l9p260LbVgC2BkymZuFsBG0fEPyXtDKwLbEGJMbtW0nbAYOBvEfHxLGOQpGXyXoyMiAmS3gK8nNUMAzalxKb9WdIZlNi0U4HNgWeAcZm+cV+j7RFxdYtrOBQ4FGDNNddsd8lmZmYDhjt77b1pGlfSMMrSJo/m94vIjkYLOwCXR8TTABHxz9z+buBSSWsAywAzWxUiaRCwSkTU4sMuAC6rHHJl/p0EDGnTpm0lPQC8AZySCSDDgT9W2rdz/nsgv69E6fzdAZyeo27XR8QdkjYCnoqICXmNz2WbAcZnDBySHgTeC6wG3BoRs3P7xZSotmiyvWlnLyLGAGOgLKrc5rrNzMwGDHf2eq5Zh+J15p0eXy7/qsk5ZwA/iYhrJY2gRKvNj1fz7xza/753RMSuDba/WPks4IcR8ev6gyRtDnwM+KGkcZTOWLP78mrlc61tanJss+1mZmbWTX5mr2ceBtaStHZ+37eybxawGYCkzejMwR0PfCqnTKlM4w4CnszPB1TKeR5YmTo5OvZM5Xm8/YDb6o/rRWOBz0taCUDSuyS9XdI7gZci4iLgdMo1P0x5Nm94HruySrZtM/cCH5b0NklLUu7jbS22m5mZWTd5ZK+9+mf2boyIY/MZsRskPU157m5o7r8C2D/PmQA8ApBTpN8HbpM0hzIteiBlJO8ySU8C99DZObwOuFzSHsCRdW06ABgtaQXgceCg3rzgqogYJ+n9wJ9yOvYF4HPAOsBpkt4AXgMOj4h/54saZ0hanvK8XtNnBiPiKUnfAm6hjOb9PiKuAWi23czMzLpHEX68yfqXjo6OmDhx4sJuhpmZ2QIjaVJEdDTa52lcMzMzs37M07j9nKSPUJYxqZoZEXstjPYsCNOefJYhx97QK2XNOuXjvVKOmZnZwuLOXj8XEWMpL1mYmZnZAORp3F6g/p2fG5K+UNm2aW77eqtzm5Q3LBd7NjMzswXEI3u9oz/n504DRgL/ld8/DUzpYVnDgA7g9109Qc7nNTMzmy8e2etD6h/5uX8Blss6BewC/KHS9kNUcnOnSLoil4NB0ifzuqZIuj2j1E4CRmZ7R6rk656b5z+Qy8ygunxeSWtkGZOzzC5l/pqZmZk7e71l+bpp3JGSlqPk5+4GbAu8o10h6szP3SEiNgG+krtq+bmbAr+l5OfOAkYDP42IYRFxR11xFwLfjIiNKaNzJ1T2LRURW1DydE+gvcuBTwJbA/czbxrGlRExPNv7EFCb8j0e+Ehu3z0i/p3bLs32XprXenNEDAe2p6zbt2KevxVwQETsAHwGGJujp5sA1XUPa/fuUEkTJU2c89KzXbgkMzOzgcHTuL2jP+fnAvwOuBTYALiE0umrGSrpe8AqlNzc2ssgdwHnS/pdpb56OwO7V0Y5lwPWzM/VfN4JwLmSlgaujog3dfaq2bjLrrGuF480MzNLHtnrW72Zn3tmRGwEfLFyfE91Jz+XiPg7JSXjPyixb1XnA1/Otp1Ya1tEHAZ8B3gPMFkZE1dHwN450jcsItaMiIdy39x83oi4HdiOEiv3m958CcXMzKy/c2ev7/S3/NzjKdPCc+q2rww8laNun61tlLR2RNwbEccDT1M6ffXtHQscmc8CImnTRhVLei/wj4g4m/KiyGbzeS1mZmYDhqdxe0e/z8+NiLub7PoucC/wBOXZwFpn7jRJ61JG78ZT3uD9C3BsXvcPgZOBnwFTs8M3C9i1QR0jgGMkvUZ5+9gje2ZmZl3kbFzrd5yNa2ZmA42cjWtmZmY2MHka1wZkfq6ZmdlA4Wlc63eWXWPdWOOAn/VpHbNO+Xiflm9mZtYdnsbtQ+rfubjX1207X9I++XnXTL2YIulBSV/srbrbtOtWSQ3/YzYzM7M38zTu/OvPubgN5TIrY4AtIuKvkpala4szNyvP+bdmZmZ9xJ29PiJpF8qyIk9TIsZq20cBL0TE6fl9OrBrRMzKkbmvUxZWnhoR+0najbI48TLA/1HWsluekos7R9LnKMuu7FgrN9M7RgMrAI8Bn4+IZyTdSlkmZXtK4sUXGsSsdcXKlP92/g8gIl4F/tzkPnwB+CbwN+BR4NWI+LKk84F/ApsC90u6NO/X8sDLwEER8WdJywPnAR+gxLEt34P2mpmZDVju7M2/+jX2fghcQ8nF3QH4f5SosZYqubgfioinKwsq13JxQ9LBlFzcr0kazbydxh0rxV0IHBkRt0k6iZJ/e3TuWyoitpD0sdy+U4tmbVt3bWsC10fEPyVdCzwhaTxwPXBJRLxRd03vpKzDtxllQeWbKevt1awH7BQRcyS9BdguIl6XtBPwA2Bv4HDgpYjYWNLGVDrOZmZm1p47e/OvP+fi3hERcxc5ztE4sn0HS9qI0ln8OiVK7cC687cAbqtdi6TLKB28mssqiRyDgAtyIeYAls7t2wG/yDqnSpraqKG5gPWhAEu+ZXCbyzIzMxs4/IJG3+kXubitRMS0iPgppaO3t6QlKy+qnES5plZerHw+GbglIoYCuzHvdbZ9ZTwixkRER0R0LLnCoG5eiZmZWf/lzl7f6G+5uPOQtJKkEZVNw4AnImJORAzLf8cD9wEflvRWSUtRpmWbqV7ngZXtt5OZu5KGAhv30mWYmZkNCO7szb/l65ZeOSUiXqFMKd4g6U5KbmzNFcCq+Szc4VRycYFaLu4U4Cd5/ChKLu4dlJc9aq4D9so6t2VeB1CyaadSOmIn9eYFU0bsviHpz3kdJ/LmKVwi4knKs3f3AjcBDwLPNinzR8APJd0FLFnZ/itgpbyWb1A6kGZmZtZFXlTZ+pSklSLihRzZuwo4NyKu6ss6vaiymZkNNK0WVfYLGtbXRuXbtcsB44Cr+7rCjd41iInujJmZmQHu7A14fZ2LGxFf741yzMzMrGc8jWv9TnemcT0da2Zm/YGzcc3MzMwGKHf2WpA0p+5N22MbHDNC0vW9XO8ISVtXvh+WUWq9Wf6zkh7IN2pvl7Rr+zMblrWKpC/1VtuyzG/3ZnlmZmYDmZ/Za+1N6RgLyAjgBeBugIgY3Qd1zE3HyMSPqyW9HBHju1nOKsCXgLO6eoKkJSvJGY18m7Jki5mZmc0nj+z1gKRdJD2ca+h9orJ9lKSvV75PlzQkP+8vaaqkKZJ+k9t2k3RvjrDdJGn1PP4w4Ku1NfSq5UoaJumeLOsqSW/N7bdKOlXSfZIeabD2XlMRMZmyFt+Xs6z3ShqfdYyXtGZuXz3rnJL/tgZOAdbOtp6m4rS89mmSRua5IyTdIum/gWm57WpJkyTNyLgzJJ1C59qFF+e2z+V1TZb0a0lL1l+DmZmZNebOXmv1CyaPlLQccDYl0mtb4B3tCpG0IXAcsENEbAJ8JXfdCWwZEZsCvwW+ERGzgNHATzOJ4o664i4EvhkRG1M6TSdU9i0VEVsAR9dt74r7gQ3y85nAhVnHxWQ2bf69La9hM2AGcCzwWLb1GErndxiwCSU39zSVXF8oWbnHRcQH8vvnI2JzoAM4StJqEXEsOaIaEZ+V9H5gJPChHGWdQyZqVEk6VNJESRPnvNRs3WYzM7OBx9O4rb1pGjenPGdGxKP5/SJKWkYrOwCXR8TTABHxz9z+buDS7AwtA8xsVYikQcAqEVGLP7sAuKxyyJX5dxIwpE2b3lR85fNWdI5Y/oaSblG7jv3zGuYAz9ZGFiu2AS7J/f8r6TZgOPAccF9EVK/xKEm1JV7eA6wL/F9deTsCmwMTJAEsD/yjvvERMQYYA+Vt3K5csJmZ2UDgzl7PNOtMvM68o6XL5V81OecM4CcRca1K1uyo+WzXq/l3Dt3/bTcFHmqyrzudJ7XY9+Lcg8r17gRsFREvSbqVzvtVX94FEfGtbrTBzMzMkqdxu+9hYC1Ja+f3fSv7ZlGmN5G0GbBWbh8PfErSarlv1dw+CHgyPx9QKed5YOX6iiPiWeCZyvN4+wG31R/XXZI2Br4L/DI33Q18Oj9/ljLdXLuOw/OcJSW9pUFbbwdG5v7BwHY0zrMdBDyTHb0NgC0r+16TtHSlzn0kvT3rXVXSe3t+tWZmZgOLO3ut1T+zd0pEvEKZtr0hX9B4onL8FcCqkiZTOkWPAETEDOD7wG2SpgA/yeNHAZdJugN4ulLOdcBetRc06tp0AOU5uKmUZ+NO6uG1bVtbeoXSyTuq8ibuUcBBWcd+dD5j+BVge0nTKFPFG0bE/wF35QsZp1Hyb6cCU4CbKc8h/r1B/TcCS2UdJwP3VPaNAaZKujgiHgS+A4zLY/8IrPGm0szMzKwhJ2hYv9PR0RETJ05c2M0wMzNbYOQEDTMzM7OByS9o9GOSPgKcWrd5ZkTs1ej4/mLak88y5Ngb5qsMZ+aamVl/4c5ePxYRY4GxC7sdZmZmtvB4GrcF9f9s3MmZknFT7W3XHpQ1S9Lbull3r94vMzMza84je60NlGzcHwJH0P3UjT4naamIeH1ht8PMzGxx5ZG9HlA/ysZViaVYGXgmv28h6e5s092S1s/tS0o6XSXvdqqkIyvFHCnp/ty3QR6/oqRzJU3IsvZoUPeqKvm4U/OaNq7cxzGSxgEXStpQndm4UyWt25VrMzMzM3f22unP2bjb5nqAf6EkWZyb2x8Gtss2HQ/8ILcfSlkketNKZm7N0xGxGfAroNbZPQ64OSKGA9tT1gZcsa4NJwIPZHnfzmur2RzYIyI+Q+n8/jxHWTuAv9ZfjJyNa2Zm1pCncVvrz9m41Wncb1Lybw+jJFtckKNnAdSSLHYCRtemVCvXUF9vbaRzZ2D3ykjncsCadW3YBtg7y7tZ0mp5jQDXRsTL+flPwHGS3g1cWbv3Vc7GNTMza8wjez3Tm9m4Z0bERsAXaZwN2x09zca9lhJrBiXN4paIGEoZvWx3Dc3qFbB3jk4Oi4g1I6I+e7dRjm6tjrk5uhHx38DuwMvAWEk7dO2yzMzMzJ297ut32biUEbbHGrTpwMox44DDJC0F81xDM2Mpz/Ipj9+0wTG3U7J3kTSCMh38XP1Bkt4HPB4Rv6B0TDduf0lmZmYG7uy109+zcSdne/YDvpbbfwT8UNJdwJKV48+hPN83Nc/5TJvyT6ZMAU+VND2/1xsFdOS1nMK8Hd6qkcD0vK8bMO+zfWZmZtaCs3Gt33E2rpmZDTRyNq6ZmZnZwOS3cfsxDdBsXDMzM+vkzl4/5mxcMzMz8zSumZmZWT/mzl4LkubUvY17bINjRki6vpfrHSFp68r3wyTt35t1ZLk/l/SkJP93YGZm1k95Gre1NyVoLCAjgBeAuwEiYnRvV5AdvL2A/6EsqHxrb9dhZmZmC59HdHpA0i6SHs519j5R2T6qEg+GpOmShuTn/SVNlTRF0m9y226S7pX0gKSbJK2exx8GfLW2zl61XEnDJN2TZV0l6a25/VZJp0q6T9IjDdbnq7c9MJ2SZzt3YWhJH66MZD4gaWVJa0i6PbdNr5UtaV9J03LbqZUydpF0f17r+Ab376OSflf5PkLSdfNTppmZmTXmzl5r9Ysqj5S0HHA2JUpsW+Ad7QqRtCFwHLBDRGwCfCV33QlsGRGbAr8FvhERs4DRwE8zZuyOuuIuBL4ZERsD04ATKvuWiogtgKPrtjeyL3AJcBWwq6RaBu7XgSNyRHNbSkTZZ4CxuW0TYLKkd1Le9N2BsrjzcEl7Shqc92fvvNZPNqj7j8CWklbM7yMpGcE9LlPSoZImSpo4e/bsNpduZmY2cLiz19rLlWzXYRFxKSXBYWZEPBplReqLulDODsDlEfE0QET8M7e/m5L1Og04BtiwVSGSBgGrREQtIu0COjNtAa7Mv5OAIS3KWQb4GHB1xpPdC+ycu+8CfiLpqKzrdWACcJCkUcBGEfE8MBy4NSJm5zEXZ1u2BG6PiJl11zpXHn8jsFvGr30cuGY+yxwTER0R0TF48OBml25mZjbguLPXM81iR15n3nu6XP5Vk3POAM6MiI2AL1aO76lX8+8cWj+PuQslA3eapFmUbNx9ASLiFOBgYHngHkkbRMTtlE7Xk8Bv8mURNSm74bVKGpujo+fkpkuBT1E6whOyA9mtMs3MzKw9d/a672FgLUlr5/d9K/tmAZsBSNoMWCu3jwc+JWm13Ldqbh9E6UDBvLmwzwMr11ccEc8Cz1Sex9sPuK3+uC7YFzg4IoZExJBs586SVpC0dkRMi4hTgYnABpLeC/wjIs4G/iuv8V7gw5LeJmnJLPM24E+5fa3qtUbER3J09OBsw61ZziGUjh/dLdPMzMza89u4rS0vaXLl+40RcaykQ4EbJD1Nee5uaO6/Atg/z5kAPAIQETMkfR+4TdIc4AHgQGAUcJmkJ4F76OwcXgdcLmkP4Mi6Nh0AjJa0AvA4cFB3LijP+whlJJFs34v5ssluwDaStqeMDj4I/AH4NHCMpNcobwnvHxFPSfoWcAtl5O33EXFN1nEocGW+8fsP4D/q2xERc1SWrDkwr4n5LdPMzMzeTOWxM7P+o6OjIyZOnLiwm2FmZrbASJoUER2N9nka18zMzKwf8zRuPybpI5SlTKpmRsReC6M9ZmZmtuC5s9ePRcRYYOzCboeZmZktPANyGlfOvF0kSTpf0j4Lux1mZmb9yUAd2XPmrZmZmQ0Ii9XIT1+TM2/nK/M2jzle0oQ8d4wk5fZ18l5MyTLWVnGmpAcl3QC8vVLOLEk/kPQnlRi0zVQWZn5M0mFt7oGZmZmlgdrZc+Zt32TeQkkEGR4RQykpHLvm9ouBX+a5WwNPUUYg1wc2oiyuvHVdWf8TEVsBdwDnA/tQotNOqq9UzsY1MzNryNO4SdIwMvM2v18EHNqmnFaZt5dKWgNYBpjZqhA1zry9rHJIdzNvvxoRz0uqZd7eQGfm7cXAlRHxV0kTgHOzQ3h1REyWtAOZT5tl1vJp59AmnzZtL+kbwArAqsAMSbcC74qIq/LcV7Ls7YBLImIO8DdJN9eVdW3+nQaslJFqz0t6RdIqEfGv2oERMQYYA2WdvWb3yMzMbKAZqCN7zTjzdj4yb3N09Cxgn7z2synX3qxMGpVZUbvuNyqfa98H6v9RMTMz6xZ39jo583b+M29rndqnJa1EmXYlIp4D/ippzzx3WZXYttuBT0taMkdBt+/BNZuZmVkLA3V0xJm3fZB5GxH/knQ2Zdp1Vt6rmv2AX0s6CXiN8szfVZSp8GmUe9qTDq6ZmZm14Gxc63ecjWtmZgONnI1rZmZmNjAN1GncxZqceWtmZmZd5M7eYsiZt2ZmZtZVnsY1MzMz68fc2VvESZpTl/ZxbINjRki6vpfrHSFp68r3w3Idvt4qfxlJ52Us2xRJIyr7vl35PETS9P/f3v2HW1XWeR9/fwRRMQUxxlKrg1w2DaCSnn7ojEbWpM2MAoWl4yQ2lmEzls6jydjTyGWjF45NTWlF2JSaPuED5lz+mMRikEceL9AD8tNUQvARtQn8QaL4A/w+f6x7w2KffX7ts8/e+6zzeV3Xvvbaa93rXve6z4bzPfda6/7W6rhmZmYDjS/jNr922T7qZALZdCwPAkTErBrX/8VU71GS/gj4paQPRMRbwOXA1TU+npmZ2YDkkb1+StKpkh5L8+h9Krd+hqRLcp/XSGpJy+dIWpVG0n6W1p0maamkRyT9WtIhqfw04OI0mnhivl5J4yUtSXXdIemgtP5+SddIekjSE7lJoisZQzYpNRHxe+AloFXSTHbnLr41lR0k6QZJayXdJ2m/GnShmZnZgOBgr/mVAp/S67MpLdkNZJMlnwi8o6tKJI0Fvg6cHBHHAF9NmxYDH46I9wNzgK9FxEZgFvCdlB3jgbLqbgYui4ijySZEviK3bXBEfBC4qGx9uZXAREmDU1aO44B3RcR00mhmRJydyh4JfD8ixpIFhZ+ucH7nS2qT1LZ58+auusPMzGzA8GXc5tfuMq6k8WRTraxLn28Bzu+inpOBeRGxBSAiXkjrDwduS+nKhgAbOqtE0jBgeESUsl3cBMzNFflFel8GtHRS1U+APyFL3fYU2eXiHR2U3RARpYwnFeuNiNnAbMgmVe7sHMzMzAYSj+z1Xx0FNDvY8+daylerDva5Drg+Io4iS7W2b4UyPfF6et9JJ39MRMSOiLg4jeBNBIYD67qos8t6zczMbE8O9vqnx4BRkkanz2fltm0EjgWQdCy78/IuAD4j6eC0bURaPwx4Ji1PzdXzMnBA+YEjYivwYu5+vM9RRU5bSUMl7Z+W/xzYERGPps1vStq7p3WamZlZew72ml/5PXszI+I1ssu296QHNJ7Klb8dGCFpBXAB8ARARKwFrgIWSVoJfDuVnwHMlfQAsCVXz13A5NIDGmVtmgpcK2kVMB64sorz+iNguaTfAJeRBY0ls4FVuQc0zMzMrEqK8O1NViytra3R1tbW6GaYmZnVjaRlEdFaaZtH9szMzMwKzDe6W5+SdApwTdnqDcXNbHQAABaOSURBVBExuRHtMTMzG2gc7Fmfioj5wPxGt8PMzGyg8mXcGitwLtuzy87rrTTfX9W5bCVdnLJirJH08zRZNJIukjQ0V25brc7DzMxsoHGwV3ul7A+l18w6HXcCsCvYi4hZEXFzrSqPiFtL50T25OzG3ETHl3eya0WSDgO+ArRGxDhgEHBm2nwRMLSjfc3MzKz7HOzVSQFy2eadBfw81dGbXLaD076DyYK7ZyV9BTgUWChpYa5frkr9sETSId1sp5mZ2YDnYK/2iprLNu+zpGCv2ly2EfEM8C3g/wHPAVsj4r6I+B7wLPDRiPhoKr4/sCT1w/8Bvlhen3PjmpmZVeZgr/bKL+PeBryPlMs2sokNb+lGPZ3lsp0vaTVwKTC2s0o6yGV7Uq5Id3PZlur7EPBqRHR2X16XuWzT6OJEsgwfhwL7S/qbDup7Ayjd49hhbtyIaI2I1pEjR3Z1GmZmZgOGg7366de5bHPOJI3qdaPOXfVKeldutHMa8HGyoHBzRLxJFnSeUKky4M3YPfu3c+OamZn1gIO9+uj3uWxTG/YCziC7fJzXZS7biHg6N9o5i+zy7YdTjlwBHwN+09m5mJmZWc852Ku9ouayhezy76aIeLJsfY9z2UbEUmAesJzsPsK9Uj2l+n6Zf0DDzMzMquPcuFY4zo1rZmYDjXPjmpmZmQ1QvtHd9uBctmZmZsXiYM/24Fy2ZmZmxeLLuDVW4Ny4LZK2585rVm5btblxh0ualzKL/EbS8Wn9uZIOzZXbKOnttToXMzOzgcQje7W3PeWPrbcJwDbgQchy4/bBMdZ3cG6XA1dXUd93gXsjYoqkIezOh3susIYsk4aZmZn1gkf26qRguXHz51VVblxJB5JN5fLvABHxRkS8JGkK0Arcmuos7XuhpOWSVkt6X0/baWZmNlA52Ku9IufGHZWCzEWlwLDa3LjAEcBm4Kepzh9L2j8i5gFtwNmpzu2p/JaIOBb4IXBJeWVyblwzM7OKHOzVXlFz4z4HvDsFmf8A/K80OldJl7lxyW4hOBb4YarzFaDd/Y3dbadz45qZmVXmYK9++nVu3Ih4PSKeT8vLgPXAe7uoc1e9FXLjbiLLxrE0lZtHShvXm3aamZnZnhzs1Ue/z40raaSkQWn5CLJLtaW0aT3OjRsRvwOelvTHqcjHgEc7OxczMzPrOY+Q1N5+Kc9tyb0RMV1SKTfuFrL77sal7bcD56R9HiaXG1dSKTfuTuARsqdUZ5Dlxn0GWMLu4PAuYJ6kicCFZW2aCsySNJQsQPt8Fed1EnClpB1ko2vTcpeWS7lxl5PdZ9hdF5I9iDGkrF03pvZuB46voq1mZmaWODeuFY5z45qZ2UDj3LhmZmZmA5Qv49oenBvXzMysWBzs2R6cG9fMzKxYfBnXzMzMrMAc7PUBSTvLsmi0myxY0gRJd9f4uBMknZD7PE3SOTWs/2BJCyVtk3R9N8qfK+nQLsocKOmZfH2SLs8tt0ha07uWm5mZDVy+jNs3tkfE+AYcdwKwDXgQICJm1bj+14BvkE0bM66LspBNFbMGeLaTMt+k/bx/lwNXV9E+MzMzK+ORvTqSdKqkxyQtBj6VWz9D0iW5z2sktaTlcyStkrRS0s/SutMkLU05ZX8t6ZBUfhpwcRpNPDFfr6Txkpakuu6QdFBaf7+kayQ9JOmJ3OTL7UTEKxGxmCzoy5/XIEk3pnavlnSxpClAK9k8eisk7VehP44DDgHuy62bye78wrem1YMk3SBpraT7KtVlZmZmlTnY6xulYKX0+qykfYEbgNOAE4F3dFWJpLFkkxSfHBHHAF9NmxYDH045ZecAX4uIjcAs4DspS8UDZdXdDFwWEUcDq4ErctsGR8QHgYvK1nfXeOCwiBiX0rj9NCLmAW3A2ak928vObS/gX8ny++4SEdPZnV/47LT6SOD7ETEWeAn4dHkDJJ0vqU1S2+bNm6s4BTMzs2LyZdy+0e4yrqTxZFOYrEufbwHO76Kek4F5EbEFIJex4nDgNknvBIYAGzqrRNIwYHhElC6X3gTMzRX5RXpfBrR00aZKngSOkHQdcA+5kbpOfBn4z4h4WlJXZTdERCkrScU2RsRsskwetLa2eqZwMzOzxCN79dVRELKDPX8W+6Z3dbDPdcD1aRTtS7ny1Xo9ve+kij8AIuJF4BjgfuDvgB+Xl5H0odxI5+lkadD+XtJG4FtkKeNmdtG+qttoZmY2UPmXZv08BoySNDoi1gNn5bZtBP4KQNKx7M53uwC4Q9J3IuJ5SSPS6N4w4JlUZmqunpeBA8sPHBFbJb0o6cR0efdztH8oomqS3g68ERG3S1pPltu21J4DUhuWkl3uLbkzt/+5QGu6hAvwpqS9I+LNWrXRzMxsoHKw1zf2k7Qi9/neiJgu6XzgHklbyO67Kz3RejvZyNYK4GHgCYCIWCvpKmCRpJ3AI2RPuM4A5kp6BljC7uDwLmCepInAhWVtmgrMkjSU7LLr56s5sTQSdyAwRNIk4BPA3sBP0314AP+Y3m9Mx9wOHF9+314nZgOrJC0nu2fRzMzMqqQI395kxdLa2hptbW2NboaZmVndSFoWEa2VtvmePTMzM7MC82Vca0fSKcA1Zas3RMTkRrTHzMzMqudgz9qJiPnA/Ea3w8zMzHrPl3GbxEDLpytpqKR7UkaRtflpVyRNkjQm9/l+SRXvQzAzM7POeWSveQzEfLrfioiFkoYACyR9MiJ+CUwC7gYerXFbzMzMBhyP7DW5oubTjYhXI2JhWn4DWA4cnkYZTweuTW0anXY5ozvHMzMzsz052GseAy2fbr7Nw8nOcUFEPEg24fKlqU3ru3M858Y1MzOrzJdxm8dAy6dbOs5g4OfA9yLiyU6Kdno858Y1MzOrzCN7za+Q+XRzZgPrIuLf6nQ8MzOzAcXBXnPblU83fS7Pp3ssVMyn+xlJB6dtI9L6zvLpHlB+4IjYCryYuz+upvl0U9v+ObXrorJNFdtkZmZmPedgr3mU37M3MyJeI7tse096QOOpXPnbgREpn+4F5PLpAqV8uiuBb6fyM8jy6T4AbMnVcxcwufSARlmbppI9KLEKGA9cWc2JpXy63wbOlbRJ0hhJh5PdWzgGWJ6O/4W0yxzg0vQwyejKtZqZmVl3ODeuFY5z45qZ2UDj3LhmZmZmA5RvdLeacD5dMzOz5uRgz2rC+XTNzMyaky/jmpmZmRWYg70mIWln2dO40yuUmSDp7hofd0JKUVb6PE3SOTWs/2BJCyVtk3R92barJD0taVvZ+kmSxuQ+3y+p4k2nZmZm1jlfxm0e7TJo1MkEYBvwIEBEzKpx/a8B3wDGpVfeXcD1wLqy9ZOAu4FHa9wWMzOzAccje01O0qmSHkvz7H0qt36GpEtyn9dIaknL50haJWmlpJ+ldadJWprmrvu1pENS+WnAxaV59vL1ShovaUmq6w5JB6X190u6RtJDkp6oMD/fLhHxSkQsJgv6yrctiYjnys73BOB0svn9VuTm2TujO8czMzOzPTnYax7lkyp/VtK+wA3AacCJwDu6qkTSWLLJik+OiGOAr6ZNi4EPR8T7ySYt/lpEbARmAd+JiPER8UBZdTcDl0XE0cBq4IrctsER8UGy7BdXUCMR8SBwJ3BpatP67hxP0vmS2iS1bd68uVbNMTMz6/d8Gbd5tLuMK2k82fQl69LnW8gyanTmZGBeRGwBiIgX0vrDgdskvRMYAmzorBJJw4DhEVFKkXYTMDdX5BfpfRnQ0kWbaqHT40XEbLI8u7S2tnqmcDMzs8Qje82vo8BlB3v+/PZN7+pgn+uA6yPiKOBLufLVej2976Q+fzTU+3hmZmaF4GCvuT0GjMrdt3ZWbttG4FgASccCo9L6BcBnJB2cto1I64cBz6Tlqbl6XgYOKD9wRGwFXszdH/c5YFF5uT5SsU1mZmbWcw72mkf5PXszI+I1ssu296QHNJ7Klb8dGCFpBXAB8ARARKwFrgIWSVoJfDuVnwHMlfQAsCVXz13A5NIDGmVtmkr2oMQqYDxwZTUnJmljase5kjaVplWR9C+SNgFD0/oZaZc5wKXpYZLRFSs1MzOzblGEb2+yYmltbY22trZGN8PMzKxuJC2LiIpz0npkz8zMzKzAfKO71YSkU4BrylZviIjJ9W7L6me20jL9nnof1szMrFs2zvzLuh7PwZ7VRETMB+Z3p6ykyWRTqfxJRDzWpw0zMzMb4HwZ1xrhLLJJns9sdEPMzMyKzsGe1ZWktwF/CpxHCvYk7SXpB5LWSrpb0n9KmpK2HSdpkaRlkuanSaHNzMysmxzsWb1NAu6NiCeAF9IcgZ8iy4pxFPAF4HgASXuTTQY9JSKOA35CNq2MmZmZdZPv2bN6Owv4t7Q8J33eG5gbEW8Bv5O0MG3/Y2Ac8CtJAIOA5ypVKul8Uiq5QQeO7LPGm5mZ9TcO9qxuUlaPk4FxkoIseAvgjo52AdZGxPFd1Z3PjbvPO4/05JFmZmaJL+NaPU0Bbo6I90RES0S8C9hAltHj0+nevUOACan848BISbsu60oa24iGm5mZ9VcO9qyezqL9KN7twKHAJmAN8CNgKbA1It4gCxCvSanfVgAn1K+5ZmZm/Z8v41rdRMSECuu+B9lTuhGxLV3qfQhYnbavAE6qZzvNzMyKxMGeNYu7JQ0HhgDfjIjfVVvRUYcNo63Os5ObmZk1Kwd71hQqjfqZmZlZ7/mePTMzM7MCc7BnZmZmVmAO9szMzMwKzMGemZmZWYE52DMzMzMrMAd7ZmZmZgXmYM/MzMyswBzsmZmZmRWYgz0zMzOzAnOwZ2ZmZlZgDvbMzMzMCszBnpmZmVmBOdgzMzMzKzAHe2ZmZmYF5mDPzMzMrMAc7JmZmZkVmIM9MzMzswJzsGdmZmZWYA72zMzMzArMwZ6ZmZlZgTnYMzMzMyswB3tmZmZmBeZgz8zMzKzAFBGNboNZTUl6GXi80e1oQm8HtjS6EU3I/VKZ+6Uy90tl7pf26t0n74mIkZU2DK5jI8zq5fGIaG10I5qNpDb3S3vul8rcL5W5Xypzv7TXTH3iy7hmZmZmBeZgz8zMzKzAHOxZEc1udAOalPulMvdLZe6Xytwvlblf2muaPvEDGmZmZmYF5pE9MzMzswJzsGf9iqRTJT0u6beSplfYvo+k29L2pZJactv+Ma1/XNIp9Wx3X6u2XyS1SNouaUV6zap32/tSN/rlJEnLJe2QNKVs21RJ69Jrav1a3bd62Sc7c9+VO+vX6r7XjX75B0mPSlolaYGk9+S2FfK7Ar3ul4H8fZkmaXU698WSxuS21f93UUT45Ve/eAGDgPXAEcAQYCUwpqzMl4FZaflM4La0PCaV3wcYleoZ1OhzaoJ+aQHWNPocGtgvLcDRwM3AlNz6EcCT6f2gtHxQo8+pkX2Stm1r9Dk0sF8+CgxNyxfk/g0V8rvS237x94UDc8unA/em5Yb8LvLInvUnHwR+GxFPRsQbwBxgYlmZicBNaXke8DFJSuvnRMTrEbEB+G2qrwh60y9F1mW/RMTGiFgFvFW27ynAryLihYh4EfgVcGo9Gt3HetMnRdadflkYEa+mj0uAw9NyUb8r0Lt+KbLu9Msfch/3B0oPSDTkd5GDPetPDgOezn3elNZVLBMRO4CtwMHd3Le/6k2/AIyS9IikRZJO7OvG1lFvfuZF/b709rz2ldQmaYmkSbVtWkP1tF/OA35Z5b79SW/6BQb490XS30laD/wL8JWe7FtrzqBh/Umlkajyx8k7KtOdffur3vTLc8C7I+J5SccB/yFpbNlfpf1Vb37mRf2+9Pa83h0Rz0o6AvgvSasjYn2N2tZI3e4XSX8DtAIf6em+/VBv+gUG+PclIr4PfF/SXwP/E5ja3X1rzSN71p9sAt6V+3w48GxHZSQNBoYBL3Rz3/6q6n5JlxKeB4iIZWT3j7y3z1tcH735mRf1+9Kr84qIZ9P7k8D9wPtr2bgG6la/SPo48HXg9Ih4vSf79lO96ZcB/33JmQOURjYb8n1xsGf9ycPAkZJGSRpC9qBB+RNed5L99QQwBfivyO6KvRM4Mz2VOgo4EnioTu3ua1X3i6SRkgYBpL++jyS7wbwIutMvHZkPfELSQZIOAj6R1vV3VfdJ6ot90vLbgT8FHu2zltZXl/0i6f3Aj8gCmt/nNhX1uwK96Bd/X3Rk7uNfAuvScmN+FzX6qRa//OrJC/gL4AmyEaivp3VXkv1HA7AvMJfspteHgCNy+3497fc48MlGn0sz9AvwaWAt2dNhy4HTGn0ude6XD5D9pf0K8DywNrfv36b++i3w+UafS6P7BDgBWJ2+K6uB8xp9LnXul18D/w2sSK87i/5d6U2/+PvCd9P/rSuAhcDY3L51/13kDBpmZmZmBebLuGZmZmYF5mDPzMzMrMAc7JmZmZkVmIM9MzMzswJzsGdmZmZWYA72zMyahKSdklbkXi1V1DFc0pdr37pd9Z8uaXpf1d/BMSdJGlPPY5oViadeMTNrEpK2RcTbellHC3B3RIzr4X6DImJnb47dF1LGlx+TndO8RrfHrD/yyJ6ZWROTNEjStZIelrRK0pfS+rdJWiBpuaTVkiamXWYCo9PI4LWSJki6O1ff9ZLOTcsbJf2TpMXAGZJGS7pX0jJJD0h6X4X2nCvp+rR8o6QfSloo6UlJH5H0E0m/kXRjbp9tkv41tXWBpJFp/XhJS9J53ZEyUCDpfklXS1oEXAacDlybzmm0pC+m/lgp6XZJQ3Pt+Z6kB1N7puTa8LXUTyslzUzrujxfsyIY3OgGmJnZLvtJWpGWN0TEZOA8YGtEfCCln/q/ku4DngYmR8QfUjqqJZLuBKYD4yJiPICkCV0c87WI+LNUdgEwLSLWSfoQ8APg5C72PyiVOR24iywt1heAhyWNj4gVwP7A8oj4H5L+CbgC+HvgZuDCiFgk6cq0/qJU7/CI+Ehq15HkRvYkvRQRN6Tlf059dF3a753AnwHvI0tNNU/SJ8lyk34oIl6VNCKVnV3F+Zr1Ow72zMyax/ZSkJbzCeDo3CjVMLJ8mpuAqyWdBLwFHAYcUsUxb4NspJAsxdVcSaVt+3Rj/7siIiStBv47Ilan+tYCLWTpot4qHQe4BfiFpGFkAd2itP4mspR+e7SrA+NSkDcceBt75qL9j4h4C3hUUqk/Pg78NCJeBYiIF3pxvmb9joM9M7PmJrLRr/l7rMwuxY4EjouINyVtJMuBXG4He96yU17mlfS+F/BShWCzK6+n97dyy6XPHf2O6c7N4q90su1GYFJErEz9MKFCeyDru9J7+TGrPV+zfsf37JmZNbf5wAWS9gaQ9F5J+5ON8P0+BXofBd6Tyr8MHJDb/ylgjKR90mjaxyodJCL+AGyQdEY6jiQdU6Nz2AsojUz+NbA4IrYCL0o6Ma3/HLCo0s60P6cDgOdSn5zdjePfB/xt7t6+EX18vmZNxcGemVlz+zHwKLBc0hrgR2QjZrcCrZLayAKexwAi4nmy+/rWSLo2Ip4G/jewKu3zSCfHOhs4T9JKYC0wsZOyPfEKMFbSMrJ74q5M66eSPXixChifW19uDnCppEckjQa+ASwFfkU6785ExL1k9++1pXsiL0mb+up8zZqKp14xM7M+pRpMKWNm1fPInpmZmVmBeWTPzMzMrMA8smdmZmZWYA72zMzMzArMwZ6ZmZlZgTnYMzMzMyswB3tmZmZmBeZgz8zMzKzA/j9MNCOR5eq1sgAAAABJRU5ErkJggg==\n",
      "text/plain": [
       "<Figure size 576x720 with 1 Axes>"
      ]
     },
     "metadata": {
      "needs_background": "light"
     },
     "output_type": "display_data"
    }
   ],
   "source": [
    "def plot_feature_importances(model):\n",
    "    n_features = data_train.shape[1]\n",
    "    plt.figure(figsize=(8,10))\n",
=======
   "execution_count": null,
   "metadata": {},
   "outputs": [],
   "source": [
    "def plot_feature_importances(model):\n",
    "    n_features = data_train.shape[1]\n",
    "    plt.figure(figsize=(8,8))\n",
>>>>>>> 9c2f4d5132a868969a7ee4e83253283b3773bc42
    "    plt.barh(range(n_features), model.feature_importances_, align='center') \n",
    "    plt.yticks(np.arange(n_features), data_train.columns.values) \n",
    "    plt.xlabel(\"Feature importance\")\n",
    "    plt.ylabel(\"Feature\")\n",
    "\n",
    "plot_feature_importances(tree_clf)"
   ]
  },
  {
   "cell_type": "markdown",
   "metadata": {},
   "source": [
    "### 2.3 Model performance\n",
    "\n",
    "Next, let's see how well our model performed on the data. \n",
    "\n",
    "In the cell below:\n",
    "\n",
    "* Use the classifier to create predictions on our test set. \n",
    "* Print out a `confusion_matrix` of our test set predictions.\n",
    "* Print out a `classification_report` of our test set predictions."
   ]
  },
  {
   "cell_type": "code",
<<<<<<< HEAD
   "execution_count": 32,
   "metadata": {},
   "outputs": [
    {
     "name": "stdout",
     "output_type": "stream",
     "text": [
      "[[5825  340]\n",
      " [1201  775]]\n",
      "              precision    recall  f1-score   support\n",
      "\n",
      "       <=50K       0.83      0.94      0.88      6165\n",
      "        >50K       0.70      0.39      0.50      1976\n",
      "\n",
      "    accuracy                           0.81      8141\n",
      "   macro avg       0.76      0.67      0.69      8141\n",
      "weighted avg       0.80      0.81      0.79      8141\n",
      "\n"
     ]
    }
   ],
   "source": [
    "pred = tree_clf.predict(data_test)\n",
    "print(confusion_matrix(target_test, pred))\n",
    "print(classification_report(target_test, pred))"
=======
   "execution_count": null,
   "metadata": {},
   "outputs": [],
   "source": [
    "pred = None\n"
>>>>>>> 9c2f4d5132a868969a7ee4e83253283b3773bc42
   ]
  },
  {
   "cell_type": "markdown",
   "metadata": {},
   "source": [
    "Now, let's check the model's accuracy. Run the cell below to display the test set accuracy of the model. "
   ]
  },
  {
   "cell_type": "code",
<<<<<<< HEAD
   "execution_count": 25,
   "metadata": {},
   "outputs": [
    {
     "name": "stdout",
     "output_type": "stream",
     "text": [
      "Testing Accuracy for Decision Tree Classifier: 81.05%\n"
     ]
    }
   ],
=======
   "execution_count": null,
   "metadata": {},
   "outputs": [],
>>>>>>> 9c2f4d5132a868969a7ee4e83253283b3773bc42
   "source": [
    "print(\"Testing Accuracy for Decision Tree Classifier: {:.4}%\".format(accuracy_score(target_test, pred) * 100))"
   ]
  },
  {
   "cell_type": "markdown",
   "metadata": {},
   "source": [
    "## 3. Bagged trees\n",
    "\n",
    "The first Ensemble approach we'll try is a Bag of Trees.  This will make use of **_Bagging_**, along with a number of Decision Tree Classifier models.  "
   ]
  },
  {
   "cell_type": "markdown",
   "metadata": {},
   "source": [
    "Now, let's create a `BaggingClassifier`.  In the first parameter spot, initialize a `DecisionTreeClassifier` and set the same parameters that we did above for `criterion` and `max_depth`.  Also set the `n_estimators` parameter for our Bagging Classifier to `20`. "
   ]
  },
  {
   "cell_type": "code",
<<<<<<< HEAD
   "execution_count": 33,
   "metadata": {},
   "outputs": [],
   "source": [
    "bagged_tree = BaggingClassifier(DecisionTreeClassifier(criterion='gini', max_depth=5), n_estimators = 20)"
=======
   "execution_count": null,
   "metadata": {},
   "outputs": [],
   "source": [
    "bagged_tree = None"
>>>>>>> 9c2f4d5132a868969a7ee4e83253283b3773bc42
   ]
  },
  {
   "cell_type": "markdown",
   "metadata": {},
   "source": [
    "Great! Now, fit it to our training data. "
   ]
  },
  {
   "cell_type": "code",
<<<<<<< HEAD
   "execution_count": 35,
   "metadata": {},
   "outputs": [
    {
     "data": {
      "text/plain": [
       "BaggingClassifier(base_estimator=DecisionTreeClassifier(class_weight=None,\n",
       "                                                        criterion='gini',\n",
       "                                                        max_depth=5,\n",
       "                                                        max_features=None,\n",
       "                                                        max_leaf_nodes=None,\n",
       "                                                        min_impurity_decrease=0.0,\n",
       "                                                        min_impurity_split=None,\n",
       "                                                        min_samples_leaf=1,\n",
       "                                                        min_samples_split=2,\n",
       "                                                        min_weight_fraction_leaf=0.0,\n",
       "                                                        presort=False,\n",
       "                                                        random_state=None,\n",
       "                                                        splitter='best'),\n",
       "                  bootstrap=True, bootstrap_features=False, max_features=1.0,\n",
       "                  max_samples=1.0, n_estimators=20, n_jobs=None,\n",
       "                  oob_score=False, random_state=None, verbose=0,\n",
       "                  warm_start=False)"
      ]
     },
     "execution_count": 35,
     "metadata": {},
     "output_type": "execute_result"
    }
   ],
   "source": [
    "bagged_tree.fit(data_train, target_train)"
=======
   "execution_count": null,
   "metadata": {},
   "outputs": [],
   "source": [
    "# Your code here"
>>>>>>> 9c2f4d5132a868969a7ee4e83253283b3773bc42
   ]
  },
  {
   "cell_type": "markdown",
   "metadata": {},
   "source": [
    "Checking the accuracy of a model is such a common task that all (supervised learning) models contain a `score()` method that wraps the `accuracy_score` helper method we've been using.  All we have to do is pass it a dataset and the corresponding labels and it will return the accuracy score for those data/labels.  \n",
    "\n",
    "Let's use it to get the training accuracy of our model. In the cell below, call the `.score()` method on our Bagging model and pass in our training data and training labels as parameters. "
   ]
  },
  {
   "cell_type": "code",
<<<<<<< HEAD
   "execution_count": 37,
   "metadata": {},
   "outputs": [
    {
     "data": {
      "text/plain": [
       "0.8189189189189189"
      ]
     },
     "execution_count": 37,
     "metadata": {},
     "output_type": "execute_result"
    }
   ],
   "source": [
    "bagged_tree.score(data_train, target_train)"
=======
   "execution_count": null,
   "metadata": {},
   "outputs": [],
   "source": [
    "# Your code here"
>>>>>>> 9c2f4d5132a868969a7ee4e83253283b3773bc42
   ]
  },
  {
   "cell_type": "markdown",
   "metadata": {},
   "source": [
    "Now, let's check the accuracy score that really matters--our testing accuracy.  This time, pass in our testing data and labels to see how the model did.  "
   ]
  },
  {
   "cell_type": "code",
<<<<<<< HEAD
   "execution_count": 38,
   "metadata": {},
   "outputs": [
    {
     "data": {
      "text/plain": [
       "0.8173443065962412"
      ]
     },
     "execution_count": 38,
     "metadata": {},
     "output_type": "execute_result"
    }
   ],
   "source": [
    "bagged_tree.score(data_test, target_test)"
=======
   "execution_count": null,
   "metadata": {},
   "outputs": [],
   "source": [
    "# Your code here"
>>>>>>> 9c2f4d5132a868969a7ee4e83253283b3773bc42
   ]
  },
  {
   "cell_type": "markdown",
   "metadata": {},
   "source": [
    "## 4. Random forests\n",
    "\n",
    "Another popular ensemble method is the **_Random Forest_** model.  Let's fit a Random Forest Classifier next and see how it measures up compared to all the others. "
   ]
  },
  {
   "cell_type": "markdown",
   "metadata": {},
   "source": [
    "### 4.1 Fitting a random forests model"
   ]
  },
  {
   "cell_type": "markdown",
   "metadata": {},
   "source": [
    "In the cell below, create a `RandomForestClassifier`, and set the number estimators to `100` and the max depth to `5`. Then, fit the model to our training data. "
   ]
  },
  {
   "cell_type": "code",
<<<<<<< HEAD
   "execution_count": 41,
   "metadata": {},
   "outputs": [
    {
     "data": {
      "text/plain": [
       "RandomForestClassifier(bootstrap=True, class_weight=None, criterion='gini',\n",
       "                       max_depth=5, max_features='auto', max_leaf_nodes=None,\n",
       "                       min_impurity_decrease=0.0, min_impurity_split=None,\n",
       "                       min_samples_leaf=1, min_samples_split=2,\n",
       "                       min_weight_fraction_leaf=0.0, n_estimators=100,\n",
       "                       n_jobs=None, oob_score=False, random_state=None,\n",
       "                       verbose=0, warm_start=False)"
      ]
     },
     "execution_count": 41,
     "metadata": {},
     "output_type": "execute_result"
    }
   ],
   "source": [
    "forest = RandomForestClassifier(n_estimators=100, max_depth=5)\n",
    "forest.fit(data_train, target_train)"
=======
   "execution_count": null,
   "metadata": {},
   "outputs": [],
   "source": [
    "forest = None"
>>>>>>> 9c2f4d5132a868969a7ee4e83253283b3773bc42
   ]
  },
  {
   "cell_type": "markdown",
   "metadata": {},
   "source": [
    "Now, let's check the training and testing accuracy of the model using its `.score()` method."
   ]
  },
  {
   "cell_type": "code",
<<<<<<< HEAD
   "execution_count": 42,
   "metadata": {},
   "outputs": [
    {
     "data": {
      "text/plain": [
       "0.8061015561015561"
      ]
     },
     "execution_count": 42,
     "metadata": {},
     "output_type": "execute_result"
    }
   ],
   "source": [
    "forest.score(data_train, target_train)"
=======
   "execution_count": null,
   "metadata": {},
   "outputs": [],
   "source": [
    "# Your code here"
>>>>>>> 9c2f4d5132a868969a7ee4e83253283b3773bc42
   ]
  },
  {
   "cell_type": "code",
<<<<<<< HEAD
   "execution_count": 43,
   "metadata": {},
   "outputs": [
    {
     "data": {
      "text/plain": [
       "0.8056749785038693"
      ]
     },
     "execution_count": 43,
     "metadata": {},
     "output_type": "execute_result"
    }
   ],
   "source": [
    "forest.score(data_test, target_test)"
=======
   "execution_count": null,
   "metadata": {},
   "outputs": [],
   "source": [
    "# Your code here"
>>>>>>> 9c2f4d5132a868969a7ee4e83253283b3773bc42
   ]
  },
  {
   "cell_type": "markdown",
   "metadata": {},
   "source": [
    "### 4.2 Look at the feature importances"
   ]
  },
  {
   "cell_type": "code",
<<<<<<< HEAD
   "execution_count": 44,
   "metadata": {},
   "outputs": [
    {
     "data": {
      "image/png": "iVBORw0KGgoAAAANSUhEUgAAAnsAAAJNCAYAAABJF7MnAAAABHNCSVQICAgIfAhkiAAAAAlwSFlzAAALEgAACxIB0t1+/AAAADh0RVh0U29mdHdhcmUAbWF0cGxvdGxpYiB2ZXJzaW9uMy4xLjAsIGh0dHA6Ly9tYXRwbG90bGliLm9yZy+17YcXAAAgAElEQVR4nOzdedhd473/8fdHqClElTqhSM01hjwoxUEdp6c9P0OpKD2Elg6Gtr9yjnN6KFVDiw6oKkpa1XKKGluCGkPwZBZjkba/cmpsCDHF9/fH/d15Vnb2foZ4kifZ+/O6rlzZe+217nWvFdfVb+97rfujiMDMzMzMWtMSA90BMzMzM1twXOyZmZmZtTAXe2ZmZmYtzMWemZmZWQtzsWdmZmbWwlzsmZmZmbWwJQe6A2b9bZVVVolhw4YNdDfMzMwWmvHjx78QEas2+s3FnrWcYcOG0dnZOdDdMDMzW2gk/anZb57GNTMzM2thLvbMzMzMWpiLPTMzM7MW5mLPzMzMrIW52DMzMzNrYS72zMzMzFqYiz0zMzOzFuZiz8zMzKyFudgzMzMza2Eu9szMzMxamIs9MzMzsxbmYs/MzMyshbnYMzMzM2thLvbMzMzMWpiLPTMzM7MW5mLPzMzMrIW52DMzMzNrYS72zMzMzFqYiz0zMzOzFuZiz8zMzKyFudgzMzMza2Eu9szMzMxamIs9MzMzsxa25EB3wKy/Tf3rDIYdd+NAd8PM+mj66Z8a6C6YtSSP7JmZmZm1MBd7hqRvSpomaYqkSZK27ad275D0Z0mqbLtG0sxeHNvjPmZmZtYzT+O2OUnbAf8KbBURb0paBXhfP57i78DHgHskrQQM7ce2zczMrAce2bOhwAsR8SZARLwQEc9IGiHpTknjJd0saaikJSU9KGlnAEmnSTqlh/YvB/bPz58Grq79IGmwpNskTZA0VdKejRqQdGyed4qkk97rBZuZmbUTF3s2BlhT0uOSzpP0j5KWAs4B9o2IEcDFwCkR8Q4wCviJpH8CPgH0VHzdBuwkaRCl6Lui8tsbwN4RsRWwC3BWdcoXQNLuwPrANsBwYISknepPIulwSZ2SOme/PqOv98DMzKxleRq3zUXETEkjgB0pBdcVwHeATYFbsvYaBDyb+0+TdClwPbBdRLzVwylmA/cAI4FlI2J69RE+4NQs3t4F1gBWA/63cvzu+Wdifh9MKf7uqruOC4ALAJYeun704RaYmZm1NBd7RkTMBu4A7pA0FTgCmBYR2zU5ZDPKs3ir9fIUlwO/BU6s234gsCowIiLeljQdWKZuHwGnRcRPe3kuMzMzq/A0bpuTtKGk9SubhgOPAKvmyxtIWkrSJvn508AHgJ2As/Oli57cDZwG/Lpu+xDguSz0dgHWbnDszcChkgbn+deQ9MHeX6GZmVl788ieDQbOyaLtHeCPwOGUKdGzJQ2h/HfyQ0l/A04HPh4Rf5F0LvAj4ODuThARAZzZ4KfLgOsldQKTgEcbHDtG0keA+3L6dybwOeC5+blYMzOzdqPyv8NmraOjoyM6OzsHuhtmZmYLjaTxEdHR6DdP45qZmZm1ME/j2nsm6bfAh+s2/0dE3DwQ/anPxnXeppmZtTMXe/aeRcTeA90HMzMza8zTuC1I0uzMuH1I0vW9fGP2vZxPkl6Q9P78PlRSSNqhss/zkj4gabSkfRu0sbqkK/PzcEmfXJB9NjMzaxcu9lrTrIgYHhGbAi9R1s1bYPJt2/uB2rp821MWQd4eyvIulEi2F7tp45mIqBWBwwEXe2ZmZv3AxV7ru4+STNFtFq2kgzJ7dnImZCBpVUlXZS7tg5I+1s15xpLFXf79feYu/u6t7LuTpHslPVUb5ZM0LEci3wd8GxiZo5MjJS0v6eLsw8RmGbpmZmY2Lz+z18Iyj/bjwM9yUy2L9hVJqwDjJF0HbAx8E/hYRLwgaeXc/0fADyLiHklrURY4/kiT090LnJCftwG+BXwtv29PKQZrhgI7ABsB1wFX1n6IiLcknQB0RMSReR2nAn+IiENzSvoBSbdGxGuVaz2csj4gg1Zctfc3yczMrMW52GtNy0qaBAwDxgO35PZmWbS7AldGxAsAEfFS7r8bsHEly3ZFSStExKsNzvkAsKWk5YGlMnP3KUnrUYq9syr7XhMR7wIPS+pN5NruwB6SjsnvywBrUZI+yD47G9fMzKwBF3utaVZEDM/0ixsoz+ydTfMsWgGNCqQlgO0iYlZPJ4yI1yX9ETgUmJCbx1Gevfsg8Fhl9zcrn0XPBOwTEY/1uKeZmZnNxc/stbCImAEcDRwjaSmaZ9HeBuwn6QMAlWncMcCRtfYkDe/hlGMpU7f35ff7gK8C46JvUS2vAitUvt8MHKUcYpS0ZR/aMjMza2su9lpcREwEJgP7U7JoOzKL9kAyizYipgGnAHdKmkx5uQJKodiRL248DHyph9ONBdahq9ibAHyIuV/O6I3bKdPHkySNBE4GlgKmSHoov5uZmVkvOBvXWo6zcc3MrN04G9fMzMysTfkFDesTSYdQnsOrGhsRC3ThZjMzM5s/nsa1lrP00PXjzWefGOhumJmZLTSexjUzMzNrUy72WpSk2fk260OSrs/kiYVx3r3y7d1HM5Jtr8pvoyStXvk+PZM8zMzMbAFxsde6ZkXE8IjYFHiJsrDyAiVpC+BMYM+I2AjYAzhT0ua5yyhg9SaH9/Vcft7UzMysF1zstYf7KNFoSBos6TZJE3Lkbc/aTpIOylG5yZIuzW2rSrpK0oP552PdnOcY4NSIeBog/z4NOFbSvkAHcFmOOC6bxxxV6ctGec7lJV2c55tY62OODP5G0vWUBZ/NzMysBy72WpykQcDHgety0xvA3hGxFbALcJaKTYBvArtGxBZ0vXH7I+AHEbE1sA9wUTen24SSxVvVCWwSEVfm5wNzxLEWwfZC9uUnlGKR7Mcf8py7AGdk5i7AdsDBEbFr3XUeLqlTUufs12f05taYmZm1BU+Fta5lJU0ChlEKsFtyu4BTJe0EvEsZ8VsN2BW4MiJeAIiIl3L/3ShpFrV2V5S0QkS82uCcjTJ2m+Xu1lydf48HPp2fdwf2kFQr/pYB1srPt1T6NkdEXABcAOVt3G7OZ2Zm1lZc7LWuWRExXNIQ4AbKM3tnU2LSVgVGZEbudEox1awoWwLYrjIS151plKnaKZVtWwEPd3PMm/n3bLr+exSwT0Q8Vt1R0rbAa73oh5mZmSVP47a4iJhBybg9RtJSwBDguSz0dgHWzl1vA/aT9AEASSvn9jHAkbX2JA3v5nRnAv8paVjuOwz4L+Cs/P1VYIVedPtmyrN8yna27MUxZmZm1oCLvTYQEROBycD+wGVAh6ROyijfo7nPNOAU4E5Jk4Hv5+FH5/5TJD0MfKmb80wC/gO4XtKjwPXAv+d2gNHA+XUvaDRyMrAUMEXSQ/ndzMzM5oMTNKzldHR0RGdn50B3w8zMbKFxgoaZmZlZm/ILGtZnkg6ha2mWmrERscAXbu6NqX+dwbDjbuxxv+mnf2oh9MbMzGxgudizPouIS4BLBrofZmZm1jNP47awgcjHzZSL5/O80yRdKWm5/O3Eytp5fWlzWL6oYWZmZn3kYq+1LfR83HRFnncT4C1g5EI6r5mZmdVxsdc+FlY+7hySlgSWB15u8Nth2dbkbLs2+reapN/m9smStq87bp3My916vu+EmZlZG3Gx1wYWcj4uwMiMavsrsDJlvb16V0fE1nmeR4DP5/azgTtz+1aUVI7adWwIXAUcEhEP1l2js3HNzMwacLHX2mr5uC9Siq76fNwpwK30Lh/33GzrOjIft5vzXhERw4F/AKYCxzbYZ1NJd0uaSlnceZPcvivwkzz/7EwAgRLxdi3wucoizXNExAUR0RERHYOWG9L9XTEzM2sjLvZa26wsutYG3kfXM3vVfNzhwN/oXT7u8PyzRkS82tPJo6zYfT2wU4OfRwNHRsRmwEl5/u7MAP4C9GoK2czMzAoXe21gIefj1tsBeLLB9hWAZ7M/B1a23wZ8Oc8zSNKKuf0tYC/gIEkH9OH8ZmZmbc3FXptYWPm4aWQuvTIF2JLG2bbHA/dTppYfrWz/KrBLTu+Op2t6l4h4DfhX4OvVl0rMzMysOWfjWstxNq6ZmbUbZ+OamZmZtSnHpdl8WdTzcc3MzKzwNK61nKWHrh9DD/4h00//1EB3xczMbKFou2ncgciErZz7Wkn39WK/Dkln99M5d5Y0I5MlHpH0rX5qd2YPv0+XtMrCOJeZmZnNn5Ys9higTNgsKrcCVpL04e72jYjOiDi6H09/d0RsCXQAn5M0oh/bXqRk2ker/rdrZmbWr9rhfzAXZibsPpRFhC+nLHFSa/szOco4WdJduW1nSTfk520k3Zsjc/dmLBiSRkm6WtJNkp6Q9L2eLjaXJxkPrCtpWKZUTMg/c3JmJf173oPJkk7vrk1JQyXdVRkt3bHBPtdIGi9pmqTDK9tnSjolzzNO0mq5/cOS7sv7enJdW8fm9imSTsptw3LU8jxgArBmT/fCzMzMWrzY08LPhP0s8Ov889nK9hOAf86292hw3KPATjkydwJwauW34cBIYDPK+nXdFjm5IPJHKZmyzwH/lNc7kpI7i6R/oSxQvG32qaci8gDg5kzb2AKYJ64MODQiRlBGFo+uLcwMLA+My/PcBRyW238E/CTv7f9W+r87sD6wTV77CEm1BI4NgV9ExJYR8ace+mxmZma07tu4tUzYYZRRrvpM2J2Ad+ldJuzGkmrtrihphUZRYTlitR5wT0SEpHckbRoRDwFjgdGS/ge4ukF/hwA/l7Q+Ja5sqcpvt9XyYXNB47UpsWH1dpQ0Ma/r9IiYJmkIJdN2ODAb2KByXZdExOt119vMg8DFKmkX1zTKpqUUeHvn5zUpBduLlOSLG3L7eOCf8vPHKAU0wKXAd/Pz7vlnYn4fnG39GfhTRIxr1MEcTTwcYNCKq/ZwOWZmZu2jVUf2BiITdiTwfuBpSdMpheb+ABHxJeC/KUXQpMqoV83JwO35jOH/Ye6c2Dcrn2cDS0raO6dUJ0mqvXlzd454jYiI83Pb1/Mat6CMuL0vt89zvZLWrLQ5V0JGRNxFybf9K3CppIPqjt2ZUkBulyN4EyvX8HZ0vfI9m7n/D0ajey7gtMo9Xy8ifpa/vdZg/1ofL4iIjojoGLTckGa7mZmZtZ1WLfaAhZ4J+1ngExExLCKGASPIYk/SuhFxf0ScALzAvM+bDaEUUgCjenFdv60UQ91FRQwBno2Id4F/AwZVrutQSctl/1aOiL9U2jy/2oiktSn37ULgZ5SXUOrP83JEvC5pI8o0ck/G0vVcYzUb9+bs2+A89xqSPtiL9szMzKyBli72YOFkwkoaBqwFzJlijIingVckbQuckS9DPER5bm1yXRPfA06TNJaugqw/nAccLGkcZQr3tezbTZTnGDtzuvuYHtrZmTIiOZEy9fqjut9voow4TqGMUjacaq3zVeAISQ9SikWyb2OAXwH3qeTjXgms0Iv2zMzMrAEvqmwtx4sqm5lZu1G7Laps7W2zNYa40DMzM0ut+jbuAiNnwpqZmdlixNO41nJq07jWPjySa2btztO4ZmZmZm3Kxd4CIml2JV7sepXc3J6OmdnD7ytJ+krl++qSruyP/lbavKOydl91e4eks+ejvd9K2qvy/TFJ/135fpWkT1fbl7S0pFvz/o2c32sxMzMzF3sL0qxcs25T4CW6FnZ+L1YC5hR7EfFMROzbD+32KCI6I+Lo+Tj0XmB7mBPlNhPYrvL7dsC9de1vCSyV9++K99JvMzOzdudib+G4jxLNBoCkYyU9mOv3nVS/s6TBkm6TNCHX59szfzodWDdHvM6QNCzX7kPSMpIuyf0n5qLRSBol6WpJN0l6QtL3cvsgSaNz5HGqpK9XuvAZSQ9IelzSjrn/zpJuyM8nSrpU0h+yzcNobixZ7OXfNwCrqvgwpSj+31r7uYDyL4HheZ3rShoh6U5J4yXdLGloX/8BzMzM2pXfxl3AJA0CPk5JnkDS7pSs120o0WDXSdopI8lq3gD2johXJK0CjJN0HXAcsGlGvdUWc645AiAiNssUizGSalm4wymjZW8Cj0k6B/ggsEaOPFI3zbxkRGwj6ZPAtyhRaPU2pyRlLA9MlHRjRDzTYL/xwKaS3kcp9u4E1gE+kn0aW905Ip6T9AXgmIj410w+uRTYMyKez2ndU4BDq8fJ2bhmZmYNeWRvwVk20yleBFYGbsntu+eficAEYCNK8Vcl4NRMpLiVMiq4Wg/n24FSFBERjwJ/oqRmANwWETMi4g3gYUpM3FPAOpLOkfQJ4JVKW1fn3+MpGb+NXBsRsyLiBeB2SvE6j4h4E5hGiVj7KHA/ZaRz+/xzbw/XtSGwKXBL3s//Bj7U4DzOxjUzM2vAxd6CMytH4NYG3kfXM3sCTqvk0K4XET+rO/ZAYFVgRLbxN2CZHs6nbn57s/J5NmXk7mVgC+CO7NtFDfafTfPR3/o1e7pbw+deYCdghTzvOLqKvbHdHAfluqZV7tdmEbF7D8eYmZlZcrG3gEXEDErG7jE5JXkzcKikwQCS1sjn1KqGAM9FxNv57N3auf1VmufE3kUpEsnp27WAx5r1K6eHl4iIq4DjKSNvfbFnPif4AUp27oPd7DsW+CJdmcBTKKN8a1FG/brzGOUZv+2y30tJ2qSPfTUzM2tbfmZvIYiIiZImA/tHxKWSPgLcJwnK26mfA56rHHIZcL2kTmAS8Gi286KksflSxu+BH1eOOQ84X9JU4B1gVES8medoZA3gEkm1gv8/+3hZDwA3Ugq2k5s8r1dzL+U5vdPyOt6R9Bzwl4h4t7uTRMRbkvYFzpY0hPLf7A/puUg0MzMznKBh80HSicDMiDhzoPvSSEdHR3R2dg50N8zMzBYaOUHDzMzMrD15ZM/6haTNyLeBK96MiG0Xdl+cjdt/nDlrZrZ46G5kz8/sWb+IiKmU9fzMzMxsEdLS07hyPm3tuDnpF5Vto/PFhwEjaQ9Jx/XxmOn5JrGZmZn1QksXezifdpEhacn67xFxXUScPlB9MjMzawetXuxVtXM+bbdytOykyrVuVDnHzyWNyX0+Lel7uc9NuW4gkk7Ie/mQpAuU673kCOWpku4EvprX+n1JtwPfzftybu67qqSrsp0HJX0st38gzz9R0k/pfvFoMzMzq9MWxZ668mmvy+/VfNrhwAhJO9UdVsun3QrYBTgri5jjgCdzxPDYumPm5NMCnwV+LqmWfDEcGAlsBoyUtGZuWyMiNs1jLqm0tWREbAN8jZJP28jmwKeA7YATJK3e65syrxfyWn8CHFPZvm6eY0/gl8Dt2ddZuR3g3IjYOkdQlwX+tXL8ShHxjxFxVn7fANgtIr5Rd/4fAT+IiK2BfehK9PgWcE9EbEn591urUeclHS6pU1Ln7Ndn9PnizczMWlWrF3vOpy2avXJd3d7sfL+PiLeBqcAg4KbcPrWy3y6S7ldZ0HlXoJpwcUXdOX8TEbMb9GU34Nz897oOWFHSCpSYtV8CRMSNwMsNL8TZuGZmZg21+tu4syJieCYv3EAZeTubrnzan3ZzbDWf9m1J01kA+bSStgD+Ofu2H3Bo3f79kU/7IvD+um0rAy806F/9+d4EiIh3Jb0dXWv1vAssmSOX5wEdEfEXlQWXq/fptbrz1n+vWQLYLiJmVTfmjLDXBzIzM5tPrT6yBzifFngCWF0lpg1JawNbUKLY3qtaYfdC3s/5fVllDHBk7Yuk2jIu1Xv6L8xbtJqZmVk3Wn1kb452zqfNPnwuz7UM8DbwhSyC35OI+LukCynTutNpXnD25GjgxzltviSlyPsScBLwa0kTgDuBP7/XPpuZmbUTJ2gsprSI59MOJGfjmplZu5Gzcc3MzMzaU9tM47aaiDixfpsWoXxaMzMzWzS42Gshzqctpv51BsOOu3Ggu2FmbWL66Z/qeSezAeRpXDMzM7MW1lbFnqTZGXP2kKTrJa3Ui2Nm9vD7SpK+Uvm+uqQr+6O/lTbvkDTPQ5eSOiSdPZ9tbpJRa49n3Nrx6ua14f6U0WurNNi+h6Tj8vOJko5psM+ceDozMzPrWVsVe+Qiyxnr9RIZb/YerQTMKfYi4pmImN+15vokIjoj4ui+HidpWUpKxekRsQFlzb3tqVzHQIiI6yLi9IHsg5mZWatpt2Kv6j7KOncASDpW0oOSpkg6qX5nSYMl3SZpgqSpkvbMn04H1s0RwzOqI0+54PEluf/EXJwZSaMkXS3pphxV+15uHyRpdI48TpX09UoXPiPpgRyJ2zH331nSDfn5REmX5mjdE5IO6+baDwDGRsQYgIh4nbKgcW1UbWqOWErSi5IOyu2XStqtWf8b3LNBks7M9qZIOqry81GVe7lR5b6c26CdEZImS7qP/inQzczM2kZbvqAhaRDwceBn+X13SjbuNpTIs+sk7RQRd1UOewPYOyJeySnIcZKuoxRIm0bE8GxrWOWYIwAiYrMsaMaoJGtAeZFiS0oc2WOSzgE+CKyRI4/UTTMvGRHbSPok8C1Klmy9zYGPAssDEyXd2GSh5U0oGbhzRMSTWdCuCIwFPkbJ9n0K2BH4Rbb9ZUpKxjz9j4i/1J3ncODDwJYR8Y6klSu/vRARW+UU+DHAFxr0s+YS4KiIuFPSGY12kHR4no9BK67aTVNmZmbtpd1G9paVNImSFbsycEtu3z3/TAQmABtRir8qAadmwsOtlFHB1Xo43w7kUigR8SileKoVe7dFxIyIeAN4mBLH9hSwjqRzJH0CeKXS1tX593hgWJPzXRsRsyLiBeB2SvHaiGieNxvA3cBO+ecnwGaS1gBeiojaM4yN+l9vN+D8iHgn78FLfbweVHKNV4qIO3NT/dIyZNsXRERHRHQMWm5Is+bMzMzaTrsVe7NyBG5t4H10TQkKOC2f5xseEetFxM/qjj0QWBUYkW38ja5c2Ga6e+Hhzcrn2ZSRu5cpz8/dkX27qMH+s2k+IltfwDUr6KYBc73wIWkdSiLHq5Sosh3zzx3A85TRvLu767+kvXM6e1K+UNJdUdmb66GHNszMzKwH7VbsAZCZsEcDx0haCrgZOFTSYABJa0j6YN1hQ4DnIuLtfPauNpL1KrBCk1PdRSkSyenbtYDHmvUrp4eXiIirgOOBrfp4aXvmc4IfAHameU7tZcAOknbL8y4LnA18DyCnY1cB1o+Ip4B7KFOtdzduroiI31YK5k5gDPAlSUvmeVbu7vgmbf4dmCFph9x0YF/bMDMza2dtWewBRMREYDKwf76o8CvgPklTgSuZt4C7DOiQ1EkpOB7Ndl4ExuZLFfXPk50HDMo2rwBGRcSbNLcGcEdONY8G/rOPl/UAcCMwDji5yfN6RMQsYE/gvyU9BkylFIbVlyPuBx7Pz3dn3+7pY38uAv4MTJE0mfJiyPw4BPhxvqAxaz7bMDMza0uK8AxZK5B0ImUa9syB7stA6+joiM7OzoHuhpmZ2UIjaXxEzLMmL7TxyJ6ZmZlZO/DIXguTtBnzvr36ZkRsOxD9WViWHrp+DD34h++5HeddmpnZ4qK7kb22XGevXUTEVMp6eGZmZtamFulpXDnLtnps0yzbTNLYvrLvaEkLJbKtQT8H/P6bmZlZl0W62MNZtkCvsmx3zu/vWUakNf3voraMynswYPffzMysHS3qxV6Vs2wbZNlmPNuXgK/nNe2Yx+wk6V5JT1VH+Rrdt7wHj0g6j5IgsmbdvRwl6TeSrqesnbeg7v/9kjaptHGHSi7u8pIuzvNNrLRlZmZmPVgsntmTs2ybZtlSRjzPp7LsiqTPA0MpcW0bUUYFr2x23yhr4W0IHBIRX6Gx7YDNI+KlBXj/Lwf2A74laSiwekSMl3Qq8IeIODTv8QOSbo2I12oHytm4ZmZmDS3qI3vOsu26lu6ybBu5JiLejYiH6bru7u7bnyJiXJO2AG6pZNsuqPv/P8Bn8vN+wG8q5zsu/1u4gxJTt1b1QGfjmpmZNbaoj+zNiojhkoYAN1BG3s6mK8v2p90cW82yfVvSdBZAlq2kLYB/zr7tBxxat39/ZdnuNFdHK1m2UsNuV/uryt/z3LccXauOku1NGY0E+EL+/Vr1kEbt1Onz/Y+Iv0p6UdLmwEjgi5Xz7RMRTaPmzMzMrLFFfWQPcJYtPWTZ0v01VfXmvjXKuJ2fdubn/kOZyv13YEguHVM731HSnLePt+zFtZqZmRmLSbEHzrKl+yzb64G9617QaNROb+5bjxbg/Sfb2p8ypVtzMrAUJWP3ofxuZmZmveAEjQEiZ9kuMM7GNTOzdiNn45qZmZm1p0X9BY2WFREn1m9Tm2bZmpmZ2YLjYm8R4izb/jH1rzMYdtyNA90NM1uMTD/9UwPdBbMFxtO4ZmZmZi1ssSv2JM3Ot04fknR9XWpFs2Nm9vD7SpK+Uvm+uqQr+6O/lTbvkDTPg5OSOiSdPR/tDZMUko6qbDtX0qgejhslafUmv83XdUv6dcamfb3nvXts63e1f9Oe/t3MzMysZ4tdsUcutJwRZS+REWfv0UrAnGIvIp6JiH272b/fRERnRBw9n4c/B3xV0vv6cMwooGGxNz/XLekfgO0jYvOI+EFfjm3Sh09GxN/faztmZmZWLI7FXtV9lLXuAJB0rKQHc5TppPqdJQ2WdJukCZKmStozfzodWDdHDM/IUbOH8phlJF2S+0/MBYJrI2RXS7pJ0hOSvpfbB0kanSOPU+tGuz4j6QFJj9fWw5O0s6Qb8vOJki6V9Ids87Aerv954Dbg4AbXOlzSuLwXv5X0fkn7Ah3AZXmty9YdU73uhtfXwBjgg7U1/iQdlv8GkyVdJWm5bG+0pJ9Iul3SU5L+UdLFkh6RNLrSh+kqi1VX+3Vp5d8KSZdJ2qOHe2NmZmYsxsWepEHAx4Hr8vvulHzWbSgvOYyQtFPdYW8Ae0fEVsAuwFmSBBwHPJkjhsfWHXMEQERsBnwW+LmkWuzXcEqs12bASElr5rY1ImLTPOaSSltLRsQ2wNfoiiOrtznwKWA74IRmU64VpwPfyPtR9QvgPyJic8oizN+KiCuBTuDAvNZZPbTd6Prq7UHXvbsbuDoito6ILYBHgM9X9n0/sCvwdZ0XQPUAACAASURBVMpC0D8ANgE2k9TdiykXAYcAqETnbQ/8rrqDpMMldUrqnP36jB4uy8zMrH0sjsXesiqJFS8CKwO35Pbd889EYAKwEaX4qxJwqqQpwK2UUcHVejjfDuRyKBHxKPAnYIP87baImBERbwAPUyLBngLWkXSOpE8Ar1Taujr/Hg8Ma3K+ayNiVkS8ANxOKV6bioinKUkcB8y5yFIQrRQRd+amn1OXrdtLja6vJ5tKulslWeNASjFXc32UVbynAn+LiKkR8S4l+3dYswbzOtZTiWT7LHBVRLxTt88FEdERER2DlhvSl2s0MzNraYtjsTcrIoZTCo/30fXMnoDTKpmu60XEz+qOPRBYFRiRbfwNWIbuqZvfqlFqsykjdy8DWwB3ZN8uarD/bJove1MfadKbiJNTgf+gj/+ekrbN6ddJTaZF57k+SXtXjmm0Uvdo4Mgc1TyJue9vrb1369p+l56XAbqU8u93CHOPlpqZmVk3FsdiD4CImAEcDRwjaSngZuBQSYMBJK2RI0FVQ4DnIuLtfPauNlL1Ks0zYu+iFBlI2gBYC3isWb/yebMlIuIq4Hhgqz5e2p75nOAHgJ0pGbjdyhHHh4F/ze8zgJfVlZP7b0BtlG/OtUbE/ZXi+LredC4ifls5plEm2QrAs/lvcmBv2uyl0ZTpbyJiWj+2a2Zm1tIW60WVI2KipMnA/hFxqaSPAPeVx/CYCXyO8sZqzWXA9ZI6gUnAo9nOi5LG5ssJvwd+XDnmPOD8nJZ8BxgVEW/mORpZA7hEUq2Q/s8+XtYDwI2UovLkiHiml8edQpnCrjk4+70cZWr5kNw+OrfPArbrxXN7fXU8cD9lunsqzYvoPomIv0l6BLimP9ozMzNrFyqPUNmiQNKJwMyIOHOg+7KoyaJ1KrBVjlw21dHREZ2djQYdzczMWpOk8RHR6PGqxXca19qHpN0oo7Dn9FTomZmZ2dw8sreIk7QZ+TZwxZsRse1A9GdxsPTQ9ePNZ58Y6G6YmZktNN2N7C3Wz+y1g4iYSlnvzszMzKzPFso0rqQPSbo2kxielPQj9S3iq7/7s5ekjSvfv51Thf3R9iGVpUneyhSNSZJO74/2FwRJ60jafyGfc01JVyzMc5qZmbWjBT6NmwkV9wM/iYhLMunhAuClBmkVC0XGc92QiRIL8jzTgY5cILn+tyXrFwYeCJKWpCzxcmRE7DXA3ekXnsY1M7N2M9AvaOwKvBERlwBExGxKXNahkpaXdGaOfk2RdFR2eGtJ92a+6gOSVsis1nMrF3WDpJ3z80xJZ6lk3t4madXcPk9Oq6TtKRFfZ+SI27oqua375jEfV8nAnaqS3bp0bp8u6SR15epu1NcbIek7kn4q6RbK8izrZtrEREnjJW2b++2W13G1pMck/aLSxhmSHs779d3c9kuV3Nm7VXJ3/yW3Lyvp59nfCcr4OElfkHS5Sibv7ymRa7vk/Ti6Qb/vkfT9bP9hSR0qebtP5BvEtf3+XSUT+KHKv+VZkg6vuwdflbSeShJKrT9XSro52zytsv8X85rukHSRpB/29b6bmZm1s4XxzN4mlHiwOSLiFUl/Br4AfBjYMiLekbSyyvTuFcDIiHhQ0opAT2vBLQ9MiIhvSDqBkjt7JCWn9UIoRQbw+Yg4R9J1VEb2lGvmqWTejgY+HhGPZ5H1ZaBWYLwQEVtJ+gpwTPa/r7YEdoqIN1SWE/mn/LwRJdas9uLFVsDGlHUCx0n6KPA08Elgk4gISStV2l0T+EdKRNytktajLDr9VkRsJmkT4HeSahFy2wHDI+JllSnsnkb2ZkXEjpK+QVnrbgQwA3gqC7ANKIsobwMMAh6QdCdwOaWYvCDb+Qwll3i5uva3yGt+B3hc0jnZznG5/TVKKskDjTqXBeXhAINWXLWbyzAzM2svC2NkTzSO/BIlr/X82nRmRLwEbAg8GxEP5rZXejHd+S6lQAT4JSXPFrrPaW1kQ+DpiHg8v9dnyvYm27Yn12bWLMDSwM9UFnO+nFLc1YyLiGdzJHRSnu8lyrVeKGlvSgFU8z8R8W5EPAb8hVL0VXN9pwHPAOvl/mMy2q23agkbU4GpEfG3vI7pwIeAHSmZta9HxKuUgnCH/HdcU9JqkkYA/9tkoehbI+LVXOT5Ucqi0tsCf4iIlyPiLaDptLuzcc3MzBpbGMXeNGCuOeQcrVuTxoVgs+LwHebub3eZtrXjR9M8p7WR7nJwoXfZtj2pFmjfoBRmm1FGxJZucK4554uItyn38hpgH0rSRk2jTN3urue1Zj9I+kVO6VYj1HrKte3uXFdlf0dSitpG5rneHto0MzOzXlgYxd5twHKSDgJQeUHjLEohNgb4kspLAkhamTKqs7qkrXPbCvn7dGC4pCUkrUkpjqrXsW9+PgC4Jz83y2ltloX7KDAsp0Bh7kzZBWEIZRQzKPFm3RY3klYAVoyIGyjPPW5Z+fkzKjagFNJPMHeu70eAocAfGzQ91/2IiIMy+3aPPlzLXcDe+ZzgYGBP4O787XJgf+DTlMKvt+6nPEu4Uv4bfroPx5qZmRkL4Zm9fLZsb+A8ScdTCrPfAf9FGcHZAJgi6W3gwog4V9JI4BxJy1Ke19sNGEt5Zm0q8BAwoXKa14BNJI2nPEc2Mrc3y2m9nDIVejRdRSL57NwhwG+ywHwQOL9fb8jczgWulPRZ4FbmHt1qZAhwtcpLI0sA/7fy2x8pBdcHgcMj4q187u2nOY39NnBQbq9vdyIwSCVn+GcRcXZfLyQiHpD0a8o9g/L29dT8bbLKSzNPR8RzTRuZt80/SzqD8pzeXymjxE7QMDMz64OWSNCQNDMiBg90PwaKpF8CV0bENQPdl/4maXBEzMyRvWspReT13R3jbFwzM2s3cjauLcZOljQRmAI8BtwwwP0xMzNbrLTEyN5AySnfr9ZtHhsRRwxEf6zwospmZtZuuhvZczbue5ALRV8y0P0wMzMza6YlpnHl7N35yt6V9P/qFmZepEn6tOYjucTMzKydLfbFnsqrpVcD10TE+pS3ewcDpwxgt/aiskByRJwQEbf2R8MRcUkuizKcskjyLvn9uP5of1GVb0d/GnCxZ2Zm1geLfbGHs3fnkDQ4z/VAnuP/5PYlJf1AJbN2ikrcW83Xct8puUZfo3ab5fHuVdlnZv69m6TbJV2Tx/w41/9bUtLfsx8TJN0i6QN5zFaS7s/2r5I0JLffI+kUSXcB/0mJivtB3tdhfb0/ZmZm7agVir2G2btAffbu5sBl6sre/WpEbEFZw6+32btbURZZ/lZuvzoits52HqFk795LiRY7Nkfcnqw1oq7s3ZGZ6rEkJXu35oU8x08o2bt9dQJwU0RsQymCz8pzfhlYHdgi70M1xeJvEbElcBFzr9tX6/NqdOXxbg6c1ot+bAt8jZIM8hHKAstQ1gkcl9d4H2UdRCgRd9/I9h+rbIeyiPROEXEyZX3Gr+d9nV7Xz8MldUrqnP26l+IzMzOraYViz9m7XXYHvilpEnA7JR5uLUpBe36OetbuQ2/P2V0ebzPjImJ6nu9yuu7XO8Bv8vMvgR1ydG+ZiKilntTfk2bxanNxNq6ZmVljrVDsOXt37vb3qj3TFxFrZWHZ7JobnlPSrTlVen43ebxz7pdKBF61v41yeptt7+me9Ka4NDMzsyZaodhz9m6Xm4Gja18k1bJzxwBfzntTuw9NRcRuWSx+Sc3zeKcDI/Lz3sCgShMflbRWnm8/uu5XNd/2AOCeiHgBmJXPOkL396TZfTUzM7MmFvtiL8qq0HsDn5H0BPA48AYle/ciyrN7U1RyXw+IiLco2bnn5LZbKCNy1ezdM2mevbsr8O3cXsvevYVSyNVcDhybLz6sW+nrG0Ate3cqZXq0P7N3T6IUvlMlTQNOzO0/Bf6XrvuwXx/aHALcmMf9ga7n+n4K/JOkB4DhzJ3rey+l4J5K+fe4LrfPALaSNIEytfud3P5vlBcvplDeYv4Ojf0a+C+/oGFmZtZ7TtDoBbV59m5fqKwneGRE7FW3fUnKCygLfF0/Z+OamVm7kbNxzczMzNqT49J6YaBG9bQYZu/m4tHzLCCdbzwvNmkdZmZmrcLTuNZylh66fgw9+Idzvk8//VMD2BszM7MFz9O4ZmZmZm3Kxd4CJulDkq6V9ISkJyX9KFM8Bqo/e0nauPL92/lSRX+1v5pK1NzkjEv7XS+Omdlf5zczM7O5udhbgCSJklBxTUSsD2wADAZOGcBu7UVZ3gSAiDghn7PrL98GbomILSJiY+C4fmzbzMzM+sjF3oK1K/BGRFwCkPFhXwcOlbS8pDNzTbwpko4CkLS1pHtzZOyBXPR5lKRza43myNnO+XmmpLMkTZB0m6RVc/thkh7Mdq6StFwuXLwHcEauVbeupNGS9s1jPp5rA06VdLGkpXP7dEkn5TmmStqom2seCvy/2peImJJtDM7+1drYs9HBko7Nfk+RdFJuW17SjXktD0kaOT//GGZmZu3Ixd6CtQklc3aOiHiFstDzF4APA1tGxObAZTm9ewXw1YjYgpJpO6uHcywPTIiIrSjJE9/K7VdHxNbZziPA5yPiXsoCx8dmQsaTtUYkLUNJHRmZ8W9LAl+unOeFPMdPgGO66c+PgZ9Jul3SNyWtntvfAPbONnYBzsqRzzkk7Q6sT0kvGQ6MkLQT8AngmRwt3BS4qf6kkg6X1Cmpc/brM3q4ZWZmZu3Dxd6C1SyTVsBOwPm5JAkR8RKwIfBsRDyY216p/d6NdykFIsAvKckUAJtKujuTOg6kFJ7d2RB4OrN0AX6efay5Ov8eDwxr1khE3AysA1wIbARMzNFGAadmSsatwBrAanWH755/JlISTDaiFH9Tgd0kfVfSjhExTzUXERdEREdEdAxabkgPl2pmZtY+vM7egjUN2Ke6QdKKwJrAU8xbCDYrDt9h7sJ8mW7OWTt+NLBXREyWNArYuYe+qoffa3Fos+nhv5ssXH8F/ErSDZSicQVgVWBERLwtaTrzXoeA0yLip/N0ThoBfBI4TdKYiPh2/T5mZmY2L4/sLVi3UbJqDwKQNIiSGTsaGAN8KWPEkLQyJV93dUlb57YV8vfpwHBJS0hakzLNWbMEsG9+PgC4Jz+vADwraSnKyF7Nq/lbvUeBYZLWy+//RpkW7hNJu0partZ/YF3KtPUQ4Lks9HYB1m5w+M2U5xkH5/FrSPpgTgW/HhG/pOQWb9XXfpmZmbUrj+wtQBERkvYGzpN0PKUw+x3wX5QRsg2AKZLeBi6MiHPz5YNzJC1LeV5vN2As8DRlOvMhyhRnzWvAJpLGAzOA2ssLxwP3A3/K42oF3uXAhZKOpqtIJCLeyMSO32SB+SBw/nxc9gjgXEm10ciLIuJBSU8D10vqBCZRisv6+zVG0keA+/JxvpnA54D1KC+VvAu8zdzPEpqZmVk3nKCxmJM0c6Di3BZVHR0d0dnZOdDdMDMzW2jkBA0zMzOz9uRp3MXcQI3q5ZTvV+s2j42IIwaiP1VT/+qlV8zMzGpc7Nl8yYWiLxnofpiZmVn3FulpXLVfruwoSc9nusXDkg7r4/HDJX3yPZz/a7U3afP77yStNL/tmZmZ2cBbZIu9TFdot1xZgCsiYjhlXbxTJc218HBtqZYmhlPWoptfXwPmFHsR8cmI+Pt7aO89UbHI/jdqZma2OFiU/4e0HXNl54iI54AngbUlnSjpAkljgF9IWkbSJdneREm75Ijnt4GR2b+ReZ8uzmuZqMyjlTSo/v7lUiyrA7dLur3S91VUkiu+UrmHJ0r6Rn6eJ8u2nqR/zD5Nyn6s0OxYScMkPSLpPMoSM8dL+l6lrVGSzunNPTQzM7NFu9hrx1zZOSStQ4kd+2NuGgHsGREHAEfk/dgM+Cwl2mwJ4ARyZDAirgC+CfwhIram5NGeIWl54PD6+xcRZwPPALtExC513bmcrvX7APajrMfXLMu23jHAETliuSMwq4djNwR+ERFbAucBn660NZKueLjq/XI2rpmZWQOLcrHXdrmyaaSkScCvgS/mtQFcFxG14nUH4FKAiHiUsnDyBg3a2h04Ltu7gxJPthalEK6/f01FxETgg5JWl7QF8HJE/JnmWbb1xgLfz9HDlfK83R37p4gYl+d+HnhK0kclfYByr8c26KOzcc3MzBpYlN/GbctcWcrI3JENtr/Wh/NV99snIh6ba2N5HrKvq2lfSUnc+AfKSF+t/XmybCUdAdReLvlkRJwu6UbK84TjVF5qaXbsMOa+VigF+X6U1I3fhlcCNzMz67VFeWSv7XJl++CuWr8kbUAZrXusQf9uBo7K4g5JW+b2RvePBsdXXQ7sT7lfV1banyfLNiJ+nFPJwyPiGUnrRsTUiPgu0EkZxWt4bJNzX015OeazNJjCNTMzs+YW2WIvR2/2Bj4j6QngceANSq7sRZRn96ZImgwcEBFvUZ7nOie33UIZxavmyp5J81zZXSkvOEBXruwtzJ3hejlwbL5ksG6lr28AtVzZqZTp4fnJle2t84BBea4rgFER8SZwO7Bx7QUN4GRgKcp9eii/Q4P7l9svAH5fe0GjKiKmUQrBv0bEs7ltDPArSpbtVEoR2KhY/Jqkh/Jcs4Df9+FYIuJl4GFg7Yh4oPe3yczMzNo6G1fOlW1JzsY1M7N2I2fjmpmZmbWnRfkFjQXOubJmZmbW6tp6Gtda09JD14+hB/9woLthi6Dpp39qoLtgZrZAeBrXzMzMrE0ttsWepA9JulbSE5KelPSjTNEYqP7sJWnjyvdv53py/dX+KEnP55u2D0s6rOej5mnj1xlN9vX+6lcvz/s7SSv1sE8tmm2lajSbmZmZvTeLZbGX68ZdDVwTEetT0iMGA6cMYLf2AuYUexFxQkTc2s/nuCIjx3YGTpW0WvXH2rp5jUj6B2D7iNg8In7Qz/3qVkR8MiL+3svdVwJc7JmZmfWTxbLYo6yJ90ZEXAIQEbOBr1MW6V1e0pmSpuYo1lEAkraWdK+kyZIeyEWXR0k6t9aopBsk7ZyfZ0o6S9IESbdJWjW3HybpwWznKknLSdoe2IOSPTtJ0rqSRkvaN4/5eK7NN1XSxZKWzu3TJZ2U55gqaaPeXHxEPAc8Cawt6URJF0gaA/xC0jKSLsn2Jkqq5dyOoUSeTZK0Y7W9vGc35jU9lGv01fr33bxfD9QWjZa0al77g/nnY7l9cOXcUyTtU2lnlfx8jaTxkqZJOrzB5Z0OrJv9PEPSpZL2rPT1Mkl79OY+mZmZ2eJb7G1CyZmdIyJeoSwU/AXgw8CWEbE5cFlO714BfDUitqBkw86ie8sDEyJiK0oaxrdy+9URsXW28wjw+Yi4F7gOODZTI56sNSJpGUrqx8iI2IzyBvSXK+d5Ic/xE+CY3ly8pHWAdYA/5qYRwJ4RcQBwRN6PzSiJEz/PPuwBPJn9u7uuyU8Az0TEFhGxKXBT5bdXImIb4Fyg9tbDj4AfRMTWlEi7i3L78cCMiNgs7/0fGnT/0IgYAXQAR6vk3VYdV+nnsdn2IXndQ4Dtgd81uCeHS+qU1Dn79RkN75uZmVk7WlyLvWbZrgJ2As6PiHcAIuIlYEPg2Yh4MLe9Uvu9G+/SFc31S2CH/LyppLsz9eFASuHZnQ2BpyPi8fz+8+xjzdX593hgWA9tjZQ0Cfg18MW8NoDrIqJWvO4AXAoQEY8Cf6JMc3dnKrBbjuLtGBHVaunXlb+3y8+7AedmX64DVpS0Qm7/ce3ATL6od7RKksY4Ss7x+t11LCLuBNZTiVL7LHBVo3+7iLggIjoiomPQckN6uFwzM7P2sbiuszeNMqI0h6QVKcXDU8xbCDYrDt9h7oJ3mW7OWTt+NLBXREyWNIry/Fx31MPvb+bfs+n53+OKiDiywfbX+nA+VDKCr8+v50fE+ZJGAJ8ETpM0JiJq0XHV+1b7vASwXaXArLXb7D7Xft+ZUhBuFxGvS7qD7u95zaWUwnp/4NBe7G9mZmZpcR3Zuw1YTtJBAJIGAWdRCrExwJdqLytIWpmSb7u6pK1z2wr5+3RguKQlsgDapnKOJYB98/MBwD35eQXgWUlLUQqQmldpnO36KDCs9rwb8G+UaeEF5a5avyRtAKwFPFbdISL+ktOkw7PQWx14PSJ+SckP3qqy+8jK3/fl5zHAnKJT0vAm299f17chwMtZ6G0EfLRB/xvdx9HA17Lv05pct5mZmTWwWBZ7UVaC3hv4jKQngMeBN4D/ojzj9WdgSk4XHhARb1GKlXNy2y2UEaWxwNOUacwzgQmV07wGbCJpPOWFkNpI1/HA/dnGo5X9LweOzZci1q309Q3KM2e/yanfd4Hz++teNHAeMCjPdQUwKiLe7OGYzYAHclr2m8B3Kr8tLel+SuJHbcmWo4GOfAnjYeBLuf07wPvzJY/JwC7M7SZgSUlTgJMpU7lziYgXgbHZxhm57W+U5yMv6cX1m5mZWYUTNJqQNHOg4tQWFZKmAx0R8cIA92M5SkG+Vd3zhA11dHREZ2fngu+YmZnZIkJO0LDFlcrC1I8C5/Sm0DMzM7O5La4vaCxwAzWqJ+kQypRp1diIOGJh9yUihi3sczbow62U5w7NzMxsPrjYW8TkQtF+Ns3MzMz6xSI5jSvn3jbMvZXUIensPrY9s396aWZmZoujRa7Yy7XanHvbIPc2Ijoj4uh+Pu8iLZfVMTMzs/m0yBV7OPe2u9zbnfM6lsj2V6pc3x/rC8TKb6fkNY2r7SNp7bz2Kfn3Wrl9zrXV7lX+PVTSXXkPHlLm60raXdJ9eZ2/kTTPs459PTav7QRJ9wD/LumBSlvDcukWMzMz64VFsdhz7m3z3Nva/XgXuJay1iCStgWm53p0ja51XF7TXUBtivhc4Be1+wj0ND18AHBzjj5uAUyStArw38BueZ2dwP/tp2PfiIgdIuI04H15X6Csl/g/9SdQJRv3+eef7+FSzMzM2seiWOw597Z57m3VFXSlW+xfuZ56bwE3NOjHdsCv8vOldN2DZh4EDpF0IrBZRLxKScDYmLII8iTgYGDtfjq2ej3/A+yXn0c2utZqNu6qq67aw6WYmZm1j0Wx2JsGzLUooLpybxsVgv2de3tkjtKd1MMxtXN3p6+5t8MjYtuI+G1l+2tN9r8PWC+noPcCrpY0KKdKJ0mqJX68HV0rZ3fXj9o+c+5bPj/5PoCIuItSyP4VuFQlqk7ALZXotY0j4vOStq30Y4++HNvkuq8A9lOJf4uIeKLZTTQzM7O5LYrFnnNveyELuN8C3wceiYgXI2J2pXg6oYcm7qWMCEK51to9mE6ZOgbYE1gKyjN+wHMRcSHwM0p+7jjgY7Xrz2ccN4iI+yv9uK4vxza51icpherxNB/BNDMzswYWuXX2IiIk7Q2cJ+l4SmH2O0ru7WzK27lTJL0NXBgR50qq5d4uS3lebzfmzr19iOa5tzPomg6t5d7+KY+rFXiXAxdKOpquIpGIeENlEeTfZIH5IAs297beFXnOUfNx7NHAxZKOBZ6n5PcCXAhcmy9F3EbXCNvOlOzft4GZwEER8bykUcCvay+mUJ7Dq01r0w/HVq/1DMozm2ZmZtZLbZmNK+fetjRn45qZWbuRs3HNzMzM2tMiN427MDj31szMzNpFW07jWmtbeuj6MfTgHw50Nxaq6ad/aqC7YGZmA6hlp3HVZhm6lXNMkfSoSjLHXpXfRklavfJ9ei5evMiStLqkKwe6H2ZmZq1qsS32cg24tsrQlbQFcCYlUWMjSozbmZI2z11GAas3Obyv5+q3KX51k28bEc9ExL7NfjczM7P3ZrEt9mjPDN1jgFMj4um85qeB0yjLmuxLWYz6sjz/snnMUfVt5/25OK9hoqQ9c/solYza6ylrGs5F0mdUsm0nS7ortw2SdEa2NUXSF3P7zpJul/QrYKqk70r6SqWtEyV9QyXr9qFKW43+3UZIulPSeEk3Sxrai/8+zMzMjMW72GvHDN15rpmSKbtJRFyZnw/M89eurVHb3wT+EBFbA7tQCtTl87ftgIMjYtcG5z8B+Oe87j1y2+eBGdnW1sBhkmpr4W0DfDMiNqasVTiy0tZ+wG/q2j+cef/dlgLOAfaNiBHAxQzs6K2ZmdliZXEu9toxQ7cvcXHdtb07cJxKJu0dlFi4tfK3Wyq5vPXGAqMlHQbUpmZ3Bw7Ktu4HPgCsn789UBmFnAh8MJ/R2wJ4OSL+XNf+bjT+d9sUuCXP8d/Ah+o7JulwSZ2SOme/PqOb22FmZtZeFuelV6YB+1Q3qCtD9ykWfIbuXhExWSUFYuce+tpfGbq13OAplW1bAQ/3sW0B+0TEY3N1Utr2/7N35+F6Tvf+x98foYghSlXTQaPGVhDsKIrGcFRrLm2qLaJFqVI9rVbrlKADpSPVNBxTOeqYp1ZSMVMkyIjyI9FT1VNONWYlvr8/1vfJvvN4hr2TvTPs/XldV679PPew1rrvx3V1da37Xh8qmbSSvg/sCpCjhYflMbsCkyUNy7KOjIhxdWWN4K25vpdTEkjeRRnpq9esMzsjIrZqcY1ExFhgLJS3cVsda2Zm1p8sySN7/TFD93Tg25KG5DUMocTI/bhN/fXGUZ7lU5azaaODIuK4WsZtHrd25t4eDzxL6ViPAw7Pe4Gk9SpTwvV+S8nj3ZfS8avX6Hf7E7C6pK1y2zKS2o2kmpmZWVpiR/b6Y4ZuREyW9C3guuxcvQ58MyIm5yHnA2MkvUJ59q6Zk4GfUe6PKB3e3brQhNMkrUsZbZsATKGMMg4BHsiynqG8ldyo/TMkrQQ8FRFPNzjkHBr/bvsCv5A0iPLf7M8oo5xmZmbWhhdVbkHO0F0ieVFlMzPrb9RiUeUldmTPrJmN3jOISe78mJmZAe7steQMXTMzM1vSeRrX+pzqNK6nN83MrD9oNY27JL+Na2ZmZmZt9GpnT9J7JV0j6TFJj0v6eSZZLBKS9pL0ocr3kyTt1IPlj5IUknasbNs7t3U7/zUjp0stjwAAIABJREFUx65vsu+c6rUsSpJ+J2mVhVDPKEk9kv1rZmbWX/RaZy+X4bgSuDoi1qUsqbEiizbqai9gbgcpIo6PiJt6uI5pwH6V75+hLFHSoyLi4IhotZjyQhMRn4iIfy6EqkYB7uyZmZl1Q2+O7O0AvBoR5wFExBzga8AXJK3QJPB+uKS7JU2RdF8ufDxK0pm1QiVdn+kMSHpR0o8lPSBpgqTVc/shkiZmOVdIGihpa0qe62mSJktaW9L5tRE3STtKejDbdK6kZXP7LEknZh3TJG3Q5rrvALbIxX9XBNYBauvgIen4bNt0SWMrCxuvI+mmbPMDktbOU1aUdLmkRyRdXDn+Vkkdlfvw/Tz3Hklr5PbV8/on5r+PNGpwm2s/NX+L+9S5KHT9+bMkvUPSEEkPSzpb0gxJ41XWNETSUZIeyt/7t7lttKTfSLo5R38PqZT5zWzPFEmn5O/UQcnLnVwr18zMzFrrzc7ehpQ81rki4nngz8DBvDXw/m2UHNqvRsQmlAWPX2lTxwrAAxGxGSWR4oTcfmVEDM9yHga+GBF3A9cCx2QqxOO1QiQtR1mQeGREbER5S/nwSj3PZh2/Ar7Rpk0B3AR8DNgz66w6M9s2FFiezsWMLwZ+mW3eGqgtOrwpcDRlRPIDQKMO2wrAPXnu7UCt0/Rz4KcRMZwSLXdO/YlduPbnI2IL4EzKYsbtrJvXsSHwTzoj7Y6l8/c+rHL8xpT4ta2A41Wycz9OGYX9cF7TjyLicmAS8Ln8/eb5b0POxjUzM2uoNzt7zbJoBWxH48D7pyNiYm57vra/hTcpHUSAi4Bt8vNQSXdImkaJM2sXr7U+MDMiHs3vF2Qba67Mv/dT0iLaqcWCfQa4pG7f9pLuzbbtQEnoWAl4T0RcBSVxIyJezuPvi4i/RMSblBHCRvX/C6g921dt407AmZImUzqdK2ddVe2u/ZLK35b5tGlmJdGj2paplE795yl5xDXXRMQrEfEscAslrm4n4LzaPcj/PlqKiLER0RERHQMGDupCM83MzPqH3uzszaBMu80laWVKnmqzwPtGncM3mLedy7Wos3b++cBXcqTqxDbn1Opu5bX8O4curE0YEfcBQ4F3VDpRtVG0s4B9s21nZ9ta1f9a5XOz+l+PzjV0qscsBWxVy7eNiPdExAuSxuVU6Dlt6oZ5f5OQNCDPnSzppG60d1fgl8DmwP3K/Fve+psHzf9bMDMzs27qzc7eBGCgpAMAJA0AfkzpiDUKvH8EeLek4bltpdw/CxgmaSlJ76OM/FTbX3vL9bPAnfl5JeBplfzYz1WOf4HOHNuqR4AhlWfS9qdMCy+Ib1Nyeqtqnc5n83m+fWHu9PZfJO0FIGlZSQMXsH4o9/krtS+ShmV9H8vO38G0v/aRlb9/jIg5lc7j8V1phKSlgPdFxC3AN4FVKC/rAOwpaTlJqwEjKLnB4ynPdg7M81fNY5v9fmZmZtZEryVoRERI2hs4S9J3KR2z31E6QHNoHHg/EjgjH75/hTKddxcwk/KW63TggUo1L1GmQe8HZtPZMfkucC/wZJ5X6yD8Fjhb0lF0dhKJiFdVUisuyw7mRGDMAl7/7xts+6eks7NNs7Kemv2BX+do2evApxak/nQU8EtJUym/9e3M+7xcV659WUn3Un6/6lvG3TEAuEjSIMqo3U/zXgDcB9wArAmcHBF/Bf6aHdNJkv5F53835wNjJL1CGbFs90ynmZlZv7dEJ2hIenFRRZr1B5JmAR35PF1vlD8aeDEiTu/Jcjs6OmLSpEk9WaSZmdliTU7QMDMzM+ufluiRvUUlpz2/Wrf5rog4YlG0x+blbFwzM+tvWo3s9doze31ZLhR93qJuh5mZmVk7zsbt+WzcM+u2zU266IHyZ0l6R35+sSfK7GK9oyW1W0zazMzMFkPOxu35bNzFjool8vnMXLLHzMzM5pOzcXs+G7cpSb9SifSaIenEyvaGdUhaTSVf9kFJv6bJAsiSjsnrnVorV505tWdRlqt5X17v9Kzja03KOiDLmSLpNw32ry3pRkn3q6SU1Nq6u0oyyIMqGb+1fN7ReT9vlfSEyrI3tbI+n7/zZEm/rnXs8nc9SWXJl61UsnFrubo9+uaumZlZX+dsXHo8G3ekOhMmJjNvishx+fDkxsBHJW3cpo4TgDsjYtNs+5r1lUnamZJHuwUwDNhcUi3ubH3gwjz/HZRItqF5jW955lDShsBxwA557+pfQgEYCxwZEZtnO8/K7XcCW2Zdv6UsnlyzASUreAvgBEnLSPogZV3Ej0TEMMrai7UFsFcApkfEh4GHgL2BDfO/le81aJOzcc3MzJrozRc0upWNK2kj6rJxAcpscFP12bi1DNuhkr5HZ1LDuDZtbZQPewTws/xezcb9ZJuyLo2IamrFrZV9n5Z0KOW+D6ZMKU9tUcd2tc8RcYOk5xrUt3P+ezC/r0jp/P0ZeDIi7sntTwAfkHQGZRHj8Q3K2gG4vLauXn0mrUrqx9aUBZhrm5fNv+8FLpU0GHgbZSHsmhsi4jXgNUl/B9YAdqREp03MspYH/p7HzwGuyM/PA68C50i6gc4M4HlExFhKR5RlB6/rV8zNzMxSl0b2JK2X06TT8/vGkv6jzWn9Nhu3YQXSWpSRsB1zhOqGunY1q6Ndx0XADysRZutExH/mvpfmFhLxHLAJcCulI3uOpPdVRiEPo30m7VLAPyt1DYuID+a+M4Az855/qcm1Va9PwAWVctaPiNF5zKs57U/+H4ItKJ2/vYAb29wPMzMzq+jqNO7ZlKzX1wEiYirwmTbn9Pds3HorUzpfs/N5to934ZzbyfZL+jjw9gbHjKM8B7liHvceSe+sP0jlLd6lIuIKSpzcZhHxP5XO1hjKb/ZplZzaaiYtMHe0daakT+V+Sdokdw8CnsrPB3bh2iYA+9baKmlVSe9v0O4VgUER8TvgaMpUtZmZmXVRV0epBkbEfXVTqm+0OqG/Z+M2uB9TJD1IGfF8Iq+rnROBSyQ9QOl8/rlBuePz+bc/5u/zIvB5yj2ueg9wnjrfyv12g7JmSPo+cJukOZSp4VF1h30O+FWO7C5DuadTgNGU+/cUcA/lmcymIuKhLGN8tul1yojjk3WHrgRck89VivKSj5mZmXVRlxI0JP0e+ApwWURspvIG6xcjoiujU71Gzsa1BpyNa2Zm/Y16IEHjCMrD7xvkyM1M5p0eNTMzM7PFUNvOXk6xdUTETpJWoDz39ULvN629RTWqJ2fjmpmZ2RKiq9O4t0fEdm0PNFsMLDt43Rh84M/m2TbrlF0XUWvMzMx6X6tp3K6+jfsHSd/IpTpWrf3rwTaamZmZWS/oamfvC5Tn9m6nLPp7P9ArT8BLeq+kayQ9JulxST/PdI1FQtJekj5U+X6SpJ16sPxRkp6prHd3YU+VXVfPOdXrWMCyVldnNNq2kn4naZUWx8/KpV/qt+8h6dieaJOZmZk11qUXNCKi5TIaPUVl7ZArgV9FxJ65Nt9Y4PvAMQujDQ3sRUlteAggIo7vhTrmSd3oKklL11JI2omIg7vfrKZ2BB6JiNp6enfMTyERcS0lBs7MzMx6SVcTNA5o9K8X2rMDJT3hPIBMUfgaZdHgFSSdLmmapKmSjsy2DZd0t6Qpku7LxZhHSTqz0v7rJY3Izy9K+rGkB1RSQVbP7YdImpjlXCFpoKStgT2A03LUbW1J5+fSM0jaMUe3pkk6V9KyuX2WpBOzjmmSNujujWjUntx+vqSfSLoFOFXSaEkXSBqf9X5S0o+y3htVFpZG0q2SOir34PtZ9j0qizyT13dP1nuSpBcbtGsY8CPgE3lPlq+N3OVvdEOWO11l3cSaI+vvR/V3yuv6Rf6WT1Tu8VKSzpI0I3/H39X2mZmZWXtdncYdXvm3LWUB3T16oT0bUqaI58rUhj8DB1MW6t0048YuzundS4GvRsQmlEWYX2lTxwrAAxGxGWWh4hNy+5URMTzLeZiyjuDdlJGnYzJl4vFaISqL/J4PjMyIsKWBwyv1PJt1/IoSk9bKyMo07kHN2lM5fj1gp4j4en5fG9gV2JOSEXxLtumV3N7oHtyTZd8OHJLbfw78PCKGA39t1NCImAwcTxmNHBYR1fu9C/DXiNgkIoYyb7RZV+7HYGAbYDfglNz2SWAIsBHlv4GtGp0o6VBJkyRNmvPy7CbFm5mZ9T9d6uxFxJGVf4cAm1LC7ntas2xWAdsBY2rTlhHxD2B94OmImJjbnu/CtOablA4ilI7RNvl5qKQ7JE2jrCG4YZty1gdmRsSj+f2CbGPNlfn3fkpnpZVax2lYbVSzTXsuq2XHpt9HxOuUtJABdHaypjWp+1+Uqen69m0FXJaf/6tNmxuZBuwk6VRJ20ZEtdfVlftxdUS8GREPAWvktm0o1/tmRPwNuKXRiRExNiI6IqJjwMBB89F0MzOzvqmrI3v1XgbW7cmGpBnAPK8NS1oZeB+NO4LNOodvMO+1Ldeiztr55wNfyRGxE9ucU6u7ldfy7xy6vnh1Vav2vNSoroh4E3g9OtfTebNJ3dVj2rYvp3wnS5rc6rjs+G5O6fT9UFL1+cau3I/XKp9V99fMzMzmQ1ef2btO0rX573rgT/TOg/UTgIG15wHzBY0fUzo+44HDVLJrUVn65RHg3ZKG57aVcv8sYFg+7/U+YItKHUvRmYv7WeDO/LwS8HQ+41ZNB3mBzmzdqkeAIZLWye/7U6aFe0qz9vSme4B98vNnahsj4rjayGOrkyW9G3g5Ii4CTgc264E23Qnsk7/lGsCIHijTzMys3+jqiNPplc9vAE9GxF96ujEREZL2Bs6S9F1Kx+x3wHcoI0LrAVMlvQ6cHRFn5ksAZ0hanvKM2k7AXZRIt2nAdOCBSjUvARtKuh+YDdReIvgucC/wZJ5X6+D9Fjhb0lF0dhKJiFfz+brLsoM5ERjTg7ejWXt609HARZK+DtxAuT/dsRHlZZY3gdeZ9xnG+XUF5e3f6cCjlHvih/LMzMy6qKsJGqdGxLfabVsSSHpxUcWsLe7yjd9XstP9GWC/iNhzMWjXihHxoqTVgPuAj+Tzew11dHTEpEm9sgykmZnZYkk9kKDxbw22fXz+m2SLqc2ByZKmAl8Gvt7m+IXl+nxe8A7g5FYdPTMzM5tXy5E9SYdT/kf/A8DjlV0rAXdFxOd7t3l9R075frVu810RccSiaE9f1igb18wac260Wd/QamSv3TN7/wX8HvghUI21eiGXPrEuyiVVzmt7oJmZmVkPajmNGxGzI2JWROwXEU9SXoAIYEVJay5IxXIG7mT1UFZtXyDp3ZIub3PMEEnTF1abzMzM+oKuLr2yu6THKG+43kZZ2uT381upNDcD9+qIWJfylu2KlAzcRWUvYG7nKyKOj4iberiO6uLJw3Lx4H5PJeP3rxHhGDQzM7Me1tUXNL4HbAk8GhFrUZbCuGsB6nUGbmeb95Z0k4rBkh6V9C5JAySdlm2dKulLlXO+mfVNkXRKgzKHSHpE0jkqGbUXS9pJ0l05krpFHrdF3tMH8+/6uX2UpCtVsnUfk/SjStm/UoklmyHpxMr2T2Sdd6pk3F6f21fIezYx69mzUsdlkq4DxldH7fLzHXlfH8jfx8zMzOZDVzt7r0fE/wFLSVoqIm4BWi6w24YzcMu/5SPiKuBvwBHA2cAJ+bbpF4HZmVM7HDhE0lqSPk4ZhfxwXsOPmtS1DiXrdmNgA8oC0ttkG7+TxzwCbBcRm1Lybn9QOX8YZQ3CjbLd78vtx+UDoBsDH5W0cd6jXwMfj4htgNUr5RwH3JzXsT2lQ71C7tsKODAidqhr+9+Bf8v7OhL4RYt7Cjgb18zMrJmuLqr8T0krUpa+uFjS3ymLK8+vbmXgStqIugxcgDIb3FR9Bm4tm3WopO8Bq1Cmjse1aWujDNwjgNrrntXM10+2KevSiPhKg+1HUhYNviciLsltOwMb10YXgUGUiLqdgPMi4mWYmxHcyMyImAYgaQYwIdfPq+blDgIukLQu5fdYpnL+hFq2raSHgPcD/wN8WtKhlP92BlOmvpcCnoiImXnuJcChlevYQ1KtI7wcUHve8w9N2r8McKakYXQupt1SRIwFxkJ5G7fd8WZmZv1FV0f29qTk4R4N3EhZhmX3BajXGbjzeg+lc7qGpNr1CDiy8nzfWhExngb3QtL7KqOFh9W1iyz7tcrnWjtPBm6JiKGU37N6L6rnzwGWlrQWZWRwxxx1vSHPaXWPBOxTuY41I+Lh3Fef8VvzNeB/gU0o/50sshd3zMzMlnRd6uxFxEuUjtiIiLgAOAf41wLU6wzclNdxXrbxYeDfc9c44PBsJ5LWy+nP8ZRnGwfm9lUj4n8qnanuRLYNAp7Kz6O6cPzKlA7abJWc2trC2o8AH5A0JL+PrJwzDjhSOQwradMutuvpiHiTcr8HdOEcMzMza6BLI1GSDqFMy60KrE0ZiRpDeVGj2/pxBu5ISdtUvn85r+OOiLhDJSVioqQbKB3qIcAD2VF6BtgrIm7M6c1Jkv5VuW/z40eUadx/B25ud3BETJH0IGVk9gnyJZ2IeEXSl4EbJT1LiTSrOZky5T01r2MWsFubqs4CrpD0KeAWmo8AmpmZWRtdzcadTBk1uzcf5kfStJwKXSzJGbgLlTrzawX8EngsIn66KNribFwzM+tv1APZuK9FxNxp2xzh8kPwVnVI/p+CGZRp2F8v4vaYmZkZXX+h4DZJ3wGWl/RvlOnH63qvWQtuUY3qqZ9m4OYo3iIZyTMzM7PmujqNuxRl3bedKW9XjgPOia6cbLaQLTt43Rh84M8c8G5mZv1Gq2ncliN7ktaMiD/nW5Fn5z8zMzMzW0K0e2bv6toHSVf0clt6haT3SrpGJfbrcUk/z0SORdWevSR9qPL9JEk79XAdH880iYdVIsxOn48yLlGJafuaSrTZu3uyjV1sw2G15XnMzMxs/rTr7FUXy/1AbzakN+SboVcCV0fEupQlXVYEvr8Im7UXJXUCgIg4PiJu6qnCJQ0FzgQ+HxEfBIZSlkmpP67pqK6kdwFbR8TG+SzeKKBtZy/XS+wxETEmIi5sUM/8Ll5tZmbW77Tr7EWTz0uKHYBXI+I8gIiYQ0ln+IKkFSSdLmlajmAdCSBpuKS7JU2RdF8u4DxK0pm1QiVdL2lEfn5R0o8lPSBpgqTVc/shkiZmOVdIGihpa2APSj7sZElrSzpfGYkmaUdJD2abzpW0bG6fJenErGOapA1aXPM3ge9HxCN5zW9ExFlZzvmSfiLpFuBUSVvktT6Yf9fPMsYD78w2fpeSYnFxfl++WpmkEZJukfRflHULkfT5vHeTJf261gnszr3K7aOVMWuSbpX0A0m38dYXYMzMzKyJdp29TSQ9L+kFSk7r87Xvkp5fGA1cQBtSMmvnylzdPwMHA2sBm2b018U5vXsp8NWI2ISy4PErbepYAXggIjajJGuckNuvjIjhWc7DwBcj4m7gWuCYTLt4vFaIpOUoCSIjc/3CpYHDK/U8m3X8ihJZ1szQ+muusx6wU0R8nZJ8sV2unXg88IM8Zg/g8WzjycAk4HP5vdH92AI4LiI+JOmDlAWsPxIRtWzbWlJJl+9Vk7avEhEfjYgf1++QdGhOXU+a8/LsFpdvZmbWv7ScDouIJT2mqlmmroDtgDER8QZARPxD0kaUmK6Jue15gDIb3NSblA4iwEWUaWOAoZK+B6xCmToe16at6wMzI+LR/H4BcAQlfYJKufcDn2xTViuX5QgnlPXwLpC0LuU+LTOfZd4XETPz847A5pQkEIDlgb/nvgW9V5c22U5EjAXGQnkbd/4uw8zMrO/p6qLKS6oZlCnIuSStTMn5bdQRbNY5fIN579VyLeqsnX8+8JUcpTuxzTm1ult5Lf/OoXUnfQals9VMNXrsZOCWiBgK7N6FNiLpwzk9O1nSHg3KFHBBJat3/YgY3aS47t4rx6aZmZl1U1/v7E0ABtbe6Mxnx35M6VyMBw6rPewvaVXKtOa7JQ3PbSvl/lnAMElLSXofZdqyZik6s3Q/C9yZn1cCnpa0DJ3TmAAv0JnHW/UIMETSOvl9f8pUZ3edBnxH0np5DUupZN82Mgh4Kj+PalHm3DZHxL2Vjty1DY6dAOwr6Z1Z/6qS3p/7unuvzMzMbAH16bcaIyIk7Q2clS8aLAX8DvgOZYRsPWCqpNeBsyPiTEkjgTPyRYRXKM/t3QXMpLyAMB14oFLNS8CGku4HZlOeVwP4LnAv8GSeV+vg/RY4W9JRdHZ8iIhXVdI3LssO5kRgzHxc81RJRwOX5IsOAdzQ5PAfUaZx/x24uUWx5wNjJL0CbNXkub1a/Q9J+g9gvMpi3K9TpqOfpPv3yszMzBZQlxI0rDlJLy6qaLYlzcK6Vx0dHTFp0qTersbMzGyxoRYJGn19GtfMzMysX+vT07gLw6Ia1csp3/r15u6KiCMWRXu6wiOgZmZmC587e0uoXCj6vEXdDjMzM1u8LZHTuOqHebdZ7jWS/tjT5baob4ik6U32nS9pZmUZlqMWVrvMzMys65a4zp7U//JuASStAmwGrCJprSbHLOyR2mMqy7D8oqsnqYczdM3MzKy5Ja6zR//MuwXYB7iOsnTLZyrtrs+7HS3pAknjs45PSvpR1nFjrmWHpM0l3SbpfknjJA2ubJ+SI4jdfv5P0n5Z13RJp1a2v5gjnvcCWzX5TQZIOi3v8VRJX8pzB0u6Pe/vdEnbdrddZmZm/dWS2Nnrj3m3APsBl+S//er2VfNuAdYGdgX2pMSS3ZL1vwLsmh2+M4B9I2Jz4Fw6R0bPA46KiK3atAc6O7iTJW0k6d3AqZQO+TBguKS98tgVgOkR8WHgPhr/Jl8EZkfEcGA4cEiOYn4WGJdZu5sAk+sboko27jPPPNOFppuZmfUPS2Jnr1t5t5TM2Xnybmv7W6jPcN0mPw+VdIekaZSkhw3blNMo73a7yv5q3u2QZoVIWgNYB7gzy3pD0tDKIdW8W4DfR8TrlAWKBwA35vZpWc/6wFDgD5ImA/8BvFfSIGCViKgld/ymzfVVp3GnUTpot0bEM3mPL65c7xzgivzc7DfZGTgg23QvsBqwLmWB6YMkjQY2iogX6hsSEWMjoiMiOlZfffU2zTYzM+s/lsS3cWdQpjTnUmfe7RP0ft7tXhExRdIoYESbtvZU3u1I4O3AzPLIIitTpnL/I/fXZ8a+BhARb0p6PTpXzn4z6xEwo370Lp8LbLjKtqTzgE2Bv0bEJ5q0s9X1vlrpkLbqsB8ZEeMa1L8dZbTyN5JOi4gLW9RlZmZmaUkc2euPebf7AbtExJCIGAJsTuW5vfnwJ2B1SVsBSFpG0oYR8U9gtqTaSObca4yIg3IEr1lHD8po3EclvSN/l/1ofL3NfpNxwOGV5wrXU3kO8/3A3yPibOA/KS+qmJmZWRcscSN7/S3vVtIQYE3gnkq5MyU9L+nD3Smrcv6/8gWSX+TU7dLAzyijpgcB50p6mdL56k65T0v6NnALZZTudxFxTZP6G/0m51CmmR9QGcJ8hvKm8wjgmPxNXwQO6P5Vm5mZ9U/Oxm1Azrtdojkb18zM+hs5G9fMzMysf1ripnEXBufdLtmmPTWbIcfe0HDfrFN2XcitMTMzW7Tc2VuMOO/WzMzMelqfm8aVc3NbHfNiL9Q7TxJJF8/pkNTleLW6c2+V1PCZBDMzM3urPtXZyzc4nZu7GJO0dERMioijFnVbzMzM+oM+1dnDubn1ublrSfpjtuvkyvYRKrm4/y3pUUmnSPpcXv80SWs3qkTSLtmmKZImNNi/el77xPz3kdw+WtJYSeOBC7P+63PfipLOq/wu++T2X6nEn82QdGKb6zczM7Mm+lpnz7m58+bm/hz4VWbN/q3unE0oL4NsRFnseb2I2IKy1t2R9RVkp/ZsYJ+8xk81aMfPgZ9mfftkWTWbA3tGxGfrzvkuJQ93o/xdbs7tx+Ur5BtTFmreuNUNUCUbd87Ls1sdamZm1q/0tc6ec3Pnzc39CKUDCG/NuZ0YEU9HxGvA45T0EejMz623JXB7RMyEufev3k7AmSrZttcCK0uqLTx9bUQ06kjvBPyy9iUinsuPn5b0APAg5V5+qMG5c1WzcQcMHNTqUDMzs36lr72N69zct+bmNls1+7XK5zcr398EllaJO6uNkl4LTGpRVs1SwFb1nbpsV31+79zd9eXmc4ffAIZHxHOSzqf1b2BmZmZN9LWRPefmzpube1fl8+canNtURMzJqedhEXE88EfKdOpaMPf+1RsPfKX2RdKwLlRVf87bKR3Wlyg5vWsAH+9O283MzKxTn+rsRcl+2xv4lKTHgEeBVym5uedQnt2bKmkK8NmI+BdlZOyM3PYHyghSNTf3dJrn5u4AnJTba7m5f6B05Gp+S8l1fbD64kNEvErJob0sp37fpIdyc4Fabu5XgSMkTQQWaG4zIp4BDgWuzHt1aYPDjgI68kWLh4DDulD094C3S5qe5W4fEVMo07czgHMpv4eZmZnNB2fjdpOcm7vYczaumZn1N3I2rpmZmVn/1Nde0Oh1zs01MzOzJYmnca3PWXbwuvHa048t6maYmZktNJ7GNTMzM+un+mRnT9KcjCer/Tu2wTFzI7t6sN4RGZFW+35YbRmYHip/oKSLM1psuqQ7JS2WL4tIGiJpen7u8XttZmZmXdNXn9l7JSK6ssZbTxsBvAjcDRAR3VpKpQu+CvxvxqshaX3g9R6uw8zMzPqQPjmy14ykXSQ9IulO4JOV7aMlfaPyfXquYYekA3LduCmSfpPbdpd0b66dd5OkNfL4w4Cv5WjittVyJQ2TdE+WdVUuHoykWyWdKuk+SY9K2rbFJQwGnqp9iYg/ZdwZkv492z1d0tG5bUhe7zm5/WJJO0m6S9JjkrbI41aQdK6kiXlNeza5f+vk9U6R9ICktVWcluVPkzSyzW/QsK4ctfzvvD+X5v3tyH07S/otTYMsAAAgAElEQVRj1nnZ4jqaaWZmtjjqq5295eumcUdKWg44G9gd2BZ4V7tCJG0IHAfsEBGb0Pk27J3AlhGxKWXR5G9GxCzKosg/zdSJO+qKuxD4VkRsTFms+YTKvqUjYgvg6Lrt9c4FvpUdn+9JWjfbuTllgeYPUzJsD5G0aZ6zDvBzYGNgA0rqxzaUOLLv5DHHATdHxHBge+A0SSs0qP9i4Jd5L7YGnqZ0mocBm1Bybk+TNLjFNTSr68vAc3l/TqYkgSDpHZTot50iYjNKbNu/1xcq6VBJkyRNmvPy7BbVm5mZ9S/9ZhpXJbprZkQ8lt8voiRCtLIDcHlEPAsQEf/I7e8FLs1OzdsoaRtNSRoErBIRtTi0C4DLKodcmX/vB4Y0KyciJkv6ALAzpWM1UdJWlM7bVRHxUtZ3JaVDe21e87TcPgOYEBGhktpRq2tnYI/K6OZylGSOhyvXsBLwnoi4Ktvyam7fBrgkIuYA/yvpNmA4MLXJZTSraxtKp5SImC6pdv6WwIeAu1Qydt9GiW6rvzdjgbFQ3sZtdg/NzMz6m77a2WumWSfgDeYd5Vwu/6rJOWcAP4mIayWNAEYvYLtey79zaPObRMSLlM7hlZLeBD6R57UrG0ok22uVz7W6BOwTEX+qnijpPGBT4K90ZuzWU6v2Njm+UV3NyhHwh4jYr5v1mJmZGX13GreRR4C11JlPW+08zAI2A5C0GbBWbp8AfFrSarlv1dw+iM5n5w6slPMCsFJ9xRExG3iu8jze/sBt9ce1I+kjlWf93kYZ8XoSuB3YK597W4GSD1w/jdzKOODIWoerNgUcEQfllPQnIuJ54C+S9spjlpU0MOseKWmApNWB7YD7ulsXZWr807ntQ8BGuf0e4COS1sl9AyWt141rMzMz69f6amev/pm9U3La8VDgBpUXNJ6sHH8FsKqkycDhwKMAETED+D5wm6QpwE/y+NHAZZLuAJ6tlHMdsHfWWf+ixYGU59OmUp5xO2k+rmvtbMs04EHK82tXRMQDwPmUTta9wDkR8WA3yj0ZWAaYqrJcyslNjtsfOCqv4W7Kc49XUaZspwA3U55f/Nt81HUWsHqW/a0sc3ZEPAOMAi7JffdQnj00MzOzLnCChi0WJA0AlomIV3P0dQKwXkT8q7tldXR0xKRJk3q8jWZmZosrtUjQ6G/P7NniayBwi6RlKM/pHT4/HT0zMzOblzt7iyFJHwNOrds8MyL2XhTtWRgi4gWg4f8j6a5pT81myLE39ERRS6RZp+y6qJtgZmaLEXf2FkMRMY7yIoOZmZnZAumrL2h0i/pulu4ISbMzqeJhSa0WbG5WxmmSZkg6bQHb0SP3TiVxpEdGAM3MzPoDj+wVfTVLF+COiNgtl2SZLOn6iLi/tlPS0hHxRovzvwSsXotlMzMzsyWLR/Za0JKfpTtXpmvcD6wtaZRKxux1wHgVb8m3lXQtsAJwr+oyb3NdvfMr53wtt78lPzdPWVHS5Xk/L66ss7dj3pdpKpm5y7babmZmZt3jzl7RV7N0q21bjRI9NiM3bQUcGBE70CTfNiL2IEc9I+LSuiKHUeLThkbERsB5ub1Rfi6UJI6jKQtBf4CyUPJylPUBR2YZSwOHN9ve5vqcjWtmZtaAO3tFrUMzrNKx2YDM0o2yGOFFXSinVZbuuFwM+Rhgw1aFqHGW7naVQ7qUpZu2lfQgMB44JReKhhJBVmvf3HzbiPhfSrrH8DblPgF8QNIZknYBnleD/NyIeDmPvy8i/hIRbwKTs93rU+7xo3XX2Wx7UxExNiI6IqJjwMBBbZpuZmbWf7iz11pPZumemaNUX6ocP7+6nKVLeWZv04jYvO6ZwJcqn9vm2+a0bW3k86SIeI4yEngrcARwTptyqs/81drdKg/XzMzMeoA7e80t8Vm63dA23zZH/Wojn8dLegewVERcAXwX2KxFfm4zjwBDlLm3dF5ns+1mZmbWTX4bt1heJRe35saIOFZSLUv3Wcpzd0Nz/xXAAXnORCpZupJqWbpzKPm1o+jM0n2Kku1a6xxeB1wuaU/gyLo2HQiMyc7SE8BBPXnBda6iPMM3hTIy2S7fFuA9wHmSav+H4dv5d3/g15JOAl4HPtWsgIxGO4hyb5am3MsxEfFao+3zeW1mZmb9mrNxrc9xNq6ZmfU3apGN62lcMzMzsz7M07h9gPphlq6ZmZl1jTt7fYCzdM3MzKwZT+OamZmZ9WHu7LUhaU5dusaxDY4ZIen6Hq53hKStK98Pk3RAD5c/OyPJHpbUpSSO+axrlKQze6isWbnsi5mZmXWBp3HbeyUihi2CekcALwJ3A9QtiNxT7oiI3SStAEyWdH1E3F/bKWnpiHijF+o1MzOzhcQje/NJ0i6SHpF0JyVbtrZ9tKRvVL5PlzQkPx8gaaqkKZJ+k9t2l3RvjrDdJGmNPP4w4Gs5mrhttVxJwyTdk2VdJentuf1WSadKuk/So5VFmVuKiJco0Wtr5yjcZZKuo0SsIekYSROzvhNz2wqSbshrmS5pZG4fLunu3H5fRqgBvFvSjZIek/Sjyv3ZT9K0LOPUdtvNzMysezyy1179gss/BK4BzqZk4f4/4NJ2hUjaEDgO+EhEPFtJ17gT2DIiQtLBlAWNvy5pDPBiRJye5+9YKe5C4MiIuC0XLz4BODr3LR0RW0j6RG7fqQttWw3YEjiZkom7FbBxRPxD0s7AusAWlBizayVtB6wO/DUids0yBkl6W96LkRExUdLKwCtZzTBgU0ps2p8knUGJTTsV2Bx4Dhif6Rv3NdoeEVe3uIZDgUMB1lxzzXaXbGZm1m+4s9feW6ZxJQ2jLG3yWH6/iOxotLADcHlEPAsQEf/I7e8FLpU0GHgbMLNVIZIGAatERC0+7ALgssohV+bf+4Ehbdq0raQHgTeBUzIBZDjwh0r7ds5/D+b3FSmdvzuA03PU7fqIuEPSRsDTETExr/H5bDPAhIyBQ9JDwPuB1YBbI+KZ3H4xJaotmmxv2tmLiLHAWCiLKre5bjMzs37Dnb3516xD8QbzTo8vl3/V5JwzgJ9ExLWSRlCi1RbEa/l3Du1/3zsiYrcG21+qfBbww4j4df1BkjYHPgH8UNJ4Smes2X15rfK51jY1ObbZdjMzM+smP7M3fx4B1pK0dn7fr7JvFrAZgKTN6MzBnQB8OqdMqUzjDgKeys8HVsp5AViJOjk69lzlebz9gdvqj+tB44AvSFoRQNJ7JL1T0ruBlyPiIuB0yjU/Qnk2b3geu5JKtm0z9wIflfQOSQMo9/G2FtvNzMysmzyy1179M3s3RsSx+YzYDZKepTx3NzT3XwEckOdMBB4FyCnS7wO3SZpDmRYdRRnJu0zSU8A9dHYOrwMul7QncGRdmw4ExkgaCDwBHNSTF1wVEeMlfRD4Y07Hvgh8HlgHOE3Sm8DrwOER8a98UeMMSctTntdr+sxgRDwt6dvALZTRvN9FxDUAzbabmZlZ9yjCjzdZ39LR0RGTJk1a1M0wMzNbaCTdHxEdjfZ5GtfMzMysD/M0bh8n6WOUZUyqZkbE3ouiPQvDtKdmM+TYGxZ1M6wLZp2y66JugplZn+fOXh8XEeMoL1mYmZlZP+Rp3B6gvp2fG5K+WNm2aW77Rqtzm5Q3LBd7NjMzs4XEI3s9oy/n504DRgL/md8/A0yZz7KGAR3A77p6gpzPa2ZmtkA8steL1Dfyc/8MLJd1CtgF+H2l7Yeo5OZOkXRFLgeDpE/ldU2RdHtGqZ0EjMz2jlTJ1z03z38wl5lBdfm8kgZnGZOzzC5l/pqZmZk7ez1l+bpp3JGSlqPk5+4ObAu8q10h6szP3SEiNgG+mrtq+bmbAr+l5OfOAsYAP42IYRFxR11xFwLfioiNKaNzJ1T2LR0RW1DydE+gvcuBTwFbAw8wbxrGlRExPNv7MFCb8j0e+Fhu3yMi/pXbLs32XprXenNEDAe2p6zbt0KevxVwYETsAHwWGJejp5sA1XUPa/fuUEmTJE2a8/LsLlySmZlZ/+Bp3J7Rl/NzAf4buBTYALiE0umrGSrpe8AqlNzc2ssgdwHnS/rvSn31dgb2qIxyLgesmZ+r+bwTgXMlLQNcHRFv6exVs3GXHbyuF480MzNLHtnrXT2Zn3tmRGwEfKly/PzqTn4uEfE3SkrGv1Fi36rOB76SbTux1raIOAz4D+B9wGRlTFwdAfvkSN+wiFgzIh7OfXPzeSPidmA7Sqzcb3ryJRQzM7O+zp293tPX8nOPp0wLz6nbvhLwdI66fa62UdLaEXFvRBwPPEvp9NW3dxxwZD4LiKRNG1Us6f3A3yPibMqLIpst4LWYmZn1G57G7Rl9Pj83Iu5usuu7wL3Ak5RnA2ududMkrUsZvZtAeYP3z8Cxed0/BE4GfgZMzQ7fLGC3BnWMAI6R9Drl7WOP7JmZmXWRs3Gtz3E2rpmZ9TdyNq6ZmZlZ/+RpXOuX+blmZmb9hadxrc9ZdvC6MfjAny3qZgAw65RdF3UTzMysH/A0bi9S387Fvb5u2/mS9s3Pu2XqxRRJD0n6Uk/V3aZdt0pq+B+zmZmZvZWncRdcX87FbSiXWRkLbBERf5G0LF1bnLlZec6/NTMz6yXu7PUSSbtQlhV5lhIxVts+GngxIk7P79OB3SJiVo7MfYOysPLUiNhf0u6UxYnfBvwfZS275Sm5uHMkfZ6y7MqOtXIzvWMMMBB4HPhCRDwn6VbKMinbUxIvvtggZq0rVqL8t/N/ABHxGvCnJvfhi8C3gL8CjwGvRcRXJJ0P/APYFHhA0qV5v5YHXgEOiog/SVoeOA/4ECWObfn5aK+ZmVm/5c7egqtfY++HwDWUXNwdgP9HiRprqZKL+5GIeLayoHItFzckHUzJxf26pDHM22ncsVLchcCREXGbpJMo+bdH576lI2ILSZ/I7Tu1aNa2dde2JnB9RPxD0rXAk5ImANcDl0TEm3XX9G7KOnybURZUvpmy3l7NesBOETFH0srAdhHxhqSdgB8A+wCHAy9HxMaSNqbScTYzM7P23NlbcH05F/eOiJi7yHGOxpHtO1jSRpTO4jcoUWqj6s7fAritdi2SLqN08GouqyRyDAIuyIWYA1gmt28H/CLrnCppaqOG5gLWhwIMWHn1NpdlZmbWf/gFjd7TJ3JxW4mIaRHxU0pHbx9JAyovqpxEuaZWXqp8Phm4JSKGArsz73W2fWU8IsZGREdEdAwYOKibV2JmZtZ3ubPXO/paLu48JK0oaURl0zDgyYiYExHD8t/xwH3ARyW9XdLSlGnZZqrXOaqy/XYyc1fSUGDjHroMMzOzfsGdvQW3fN3SK6dExKuUKcUbJN1JyY2tuQJYNZ+FO5xKLi5Qy8WdAvwkjx9NycW9g/KyR811wN5Z57bM60BKNu1USkfspJ68YMqI3Tcl/Smv40TeOoVLRDxFefbuXuAm4CFgdpMyfwT8UNJdwIDK9l8BK+a1fJPSgTQzM7Mu8qLK1qskrRgRL+bI3lXAuRFxVW/W6UWVzcysv2m1qLJf0LDeNjrfrl0OGA9c3dsVbvSeQUxyJ8vMzAxwZ6/f6+1c3Ij4Rk+UY2ZmZvPH07jW5yxO07hd5eleMzNbEM7GNTMzM+un3NlrQdKcujdtj21wzAhJ1/dwvSMkbV35flhGqfVk+bMlPZhv1N4uabf2ZzYsaxVJX+6ptmWZ3+nJ8szMzPozP7PX2lvSMRaSEcCLwN0AETGmF+qYm46RiR9XS3olIiZ0s5xVgC8DZ3X1BEkDKskZjXyHsmSLmZmZLSCP7M0HSbtIeiTX0PtkZftoSd+ofJ8uaUh+PkDSVElTJP0mt+0u6d4cYbtJ0hp5/GHA12pr6FXLlTRM0j1Z1lWS3p7bb5V0qqT7JD3aYO29piJiMmUtvq9kWe+XNCHrmCBpzdy+RtY5Jf9tDZwCrJ1tPU3FaXnt0ySNzHNHSLpF0n8B03Lb1ZLulzQj486QdAqdaxdenNs+n9c1WdKvJQ2ovwYzMzNrzJ291uoXTB4paTngbEqk17bAu9oVImlD4Dhgh4jYBPhq7roT2DIiNgV+C3wzImYBY4CfZhLFHXXFXQh8KyI2pnSaTqjsWzoitgCOrtveFQ8AG+TnM4ELs46LyWza/HtbXsNmwAzgWODxbOsxlM7vMGATSm7uaSq5vlCyco+LiA/l9y9ExOZAB3CUpNUi4lhyRDUiPifpg8BI4CM5yjqHTNSoknSopEmSJs15udm6zWZmZv2Pp3Fbe8s0bk55zoyIx/L7RZS0jFZ2AC6PiGcBIuIfuf29wKXZGXobMLNVIZIGAatERC3+7ALgssohV+bf+4Ehbdr0luIrn7eic8TyN5R0i9p1HJDXMAeYXRtZrNgGuCT3/6+k24DhwPPAfRFRvcajJNWWeHkfsC7wf3Xl7QhsDkyUBLA88Pf6xkfEWGAslLdxu3LBZmZm/YE7e/OnWWfiDeYdLV0u/6rJOWcAP4mIa1WyZkcvYLtey79z6P5vuynwcJN93ek8qcW+l+YeVK53J2CriHhZ0q103q/68i6IiG93ow1mZmaWPI3bfY8Aa0laO7/vV9k3izK9iaTNgLVy+wTg05JWy32r5vZBwFP5+cBKOS8AK9VXHBGzgecqz+PtD9xWf1x3SdoY+C7wy9x0N/CZ/Pw5ynRz7ToOz3MGSFq5QVtvB0bm/tWB7WicZzsIeC47ehsAW1b2vS5pmUqd+0p6Z9a7qqT3z//VmpmZ9S/u7LVW/8zeKRHxKmXa9oZ8QePJyvFXAKtKmkzpFD0KEBEzgO8Dt0maAvwkjx8NXCbpDuDZSjnXAXvXXtCoa9OBlOfgplKejTtpPq9t29rSK5RO3lGVN3GPAg7KOvan8xnDrwLbS5pGmSreMCL+D7grX8g4jZJ/OxWYAtxMeQ7xbw3qvxFYOus4Gbinsm8sMFXSxRHxEPAfwPg89g/A4LeUZmZmZg05QcP6nI6Ojpg0adKiboaZmdlCIydomJmZmfVPfkGjD5P0MeDUus0zI2LvRsf3FdOems2QY29Y1M0wWyw4d9nM3NnrwyJiHDBuUbfDzMzMFh1P47agvp+NOzlTMm6qve06H2XNkvSObtbdo/fLzMzMmvPIXmv9JRv3h8ARdD91o9dJWjoi3ljU7TAzM1tSeWRvPqgPZeOqxFKsBDyX37eQdHe26W5J6+f2AZJOV8m7nSrpyEoxR0p6IPdtkMevIOlcSROzrD0b1L2qSj7u1LymjSv3cayk8cCFkjZUZzbuVEnrduXazMzMzJ29dvpyNu62uR7gnylJFufm9keA7bJNxwM/yO2HUhaJ3rSSmVvzbERsBvwKqHV2jwNujojhwPaUtQFXqGvDicCDWd538tpqNgf2jIjPUjq/P89R1g7gL/UXI2fjmpmZNeRp3Nb6cjZudRr3W5T828MoyRYX5OhZALUki52AMbUp1co11NdbG+ncGdijMtK5HLBmXRu2AfbJ8m6WtFpeI8C1EfFKfv4jcJyk9wJX1u59lbNxzczMGvPI3vzpyWzcMyNiI+BLNM6G7Y75zca9lhJrBiXN4paIGEoZvWx3Dc3qFbBPjk4Oi4g1I6I+e7dRjm6tjrk5uhHxX8AewCvAOEk7dO2yzMzMzJ297utz2biUEbbHG7RpVOWY8cBhkpaGea6hmXGUZ/mUx2/a4JjbKdm7SBpBmQ5+vv4gSR8AnoiIX1A6phu3vyQzMzMDd/ba6evZuJOzPfsDX8/tPwJ+KOkuYEDl+HMoz/dNzXM+26b8kylTwFMlTc/v9UYDHXktpzBvh7dqJDA97+sGzPtsn5mZmbXgbFzrc5yNa2Zm/Y2cjWtmZmbWP/lt3D5M/TQb18zMzDq5s9eH9dds3GlPeZ09MzOzGk/jmpmZmfVh7uy1IGlO3du4xzY4ZoSk63u43hGStq58P0zSAT1ZR5b7c0lPSfJ/B2ZmZn2Up3Fbe0uCxkIyAngRuBsgIsb0dAXZwdsb+B/Kgsq39nQdZmZmtuh5RGc+SNpF0iO5zt4nK9tHV+LBkDRd0pD8fICkqZKmSPpNbttd0r2SHpR0k6Q18vjDgK/V1tmrlitpmKR7sqyrJL09t98q6VRJ90l6tMH6fPW2B6ZT8mznLgwt6aOVkcwHJa0kabCk23Pb9FrZkvaTNC23nVopYxdJD+S1Tmhw/z4u6b8r30dIum5ByjQzM7PG3NlrrX5R5ZGSlgPOpkSJbQu8q10hkjYEjgN2iIhNgK/mrjuBLSNiU+C3wDcjYhYwBvhpxozdUVfchcC3ImJjYBpwQmXf0hGxBXB03fZG9gMuAa4CdpNUy8D9BnBEjmhuS4ko+ywwLrdtAkyW9G7Km747UBZ3Hi5pL0mr5/3ZJ6/1Uw3q/gOwpaQV8vtISkbwfJcp6VBJkyRNmvOyX9AwMzOrcWevtVcq2a7DIuJSSoLDzIh4LMqK1Bd1oZwdgMsj4lmAiPhHbn8vJet1GnAMsGGrQiQNAlaJiFpE2gV0ZtoCXJl/7weGtCjnbcAngKsznuxeYOfcfRfwE0lHZV1vABOBgySNBjaKiBeA4cCtEfFMHnNxtmVL4PaImFl3rXPl8TcCu2f82q7ANQtY5tiI6IiIjgEDBzW7dDMzs37Hnb350yx25A3mvafL5V81OecM4MyI2Aj4UuX4+fVa/p1D6+cxd6Fk4E6TNIuSjbsfQEScAhwMLA/cI2mDiLid0ul6CvhNviyiJmU3vFZJ43J09JzcdCnwaUpHeGJ2ILtVppmZmbXnzl73PQKsJWnt/L5fZd8sYDMASZsBa+X2CcCnJa2W+1bN7YMoHSiYNxf2BWCl+oojYjbwXOV5vP2B2+qP64L9gIMjYkhEDMl27ixpoKS1I2JaRJwKTAI2kPR+4O8RcTbwn3mN9wIflfQOSQOyzNuAP+b2tarXGhEfy9HRg7MNt2Y5h1A6fnS3TDMzM2vPb+O2trykyZXvN0bEsZIOBW6Q9Czlubuhuf8K4IA8ZyLwKEBEzJD0feA2SXOAB4FRwGjgMklPAffQ2Tm8Drhc0p7AkXVtOhAYI2kg8ARwUHcuKM/7GGUkkWzfS/myye7ANpK2p4wOPgT8HvgMcIyk1ylvCR8QEU9L+jZwC2Xk7XcRcU3WcShwZb7x+3fg3+rbERFzVJasGZXXxIKWaWZmZm+l8tiZWd/R0dERkyZNWtTNMDMzW2gk3R8RHY32eRrXzMzMrA/zNG4fJuljlKVMqmZGxN6Loj0Li7NxzczMOrmz14dFxDhg3KJuh5mZmS06/XIaV868XSxJOl/Svou6HWZmZn1Jfx3Zc+atmZmZ9QtL1MhPb5Mzbxco8zaPOV7SxDx3rCTl9nXyXkzJMtZWcaakhyTdALyzUs4sST+Q9EeVGLTNVBZmflzSYW3ugZmZmaX+2tlz5m3vZN5CSQQZHhFDKSkcu+X2i4Ff5rlbA09TRiDXBzaiLK68dV1Z/xMRWwF3AOcD+1Ki006qr1TOxjUzM2vI07hJ0jAy8za/XwQc2qacVpm3l0oaDLwNmNmqEDXOvL2sckh3M2+/FhEvSKpl3t5AZ+btxcCVEfEXSROBc7NDeHVETJa0A5lPm2XW8mnn0CafNm0v6ZvAQGBVYIakW4H3RMRVee6rWfZ2wCURMQf4q6Sb68q6Nv9OA1bMSLUXJL0qaZWI+GftwIgYC4wFWHbwul480szMLPXXkb1mnHm7AJm3OTp6FrBvXvvZlGtvViaNyqyoXfeblc+17/31/6iYmZl1izt7nZx5u+CZt7VO7bOSVqRMuxIRzwN/kbRXnrusSmzb7cBnJA3IUdDt5+OazczMrIX+OjrizNteyLyNiH9KOpsy7Tor71XN/sCvJZ0EvE555u8qylT4NMo9nZ8OrpmZmbXgbFzrc5yNa2Zm/Y2cjWtmZmbWP/XXadwlmvpp5q2ZmZl1nzt7SyBn3rY27Smvs2dmZlbjaVwzMzOzPsydvcWcpDl1aR/HNjhmhKTre7jeEdL/b+/ew62qznuPf3+CoHgBUWNQk2zlIU0Rdas73losIW00p1UgYtRaxTSJ0ZzaaI9GYprKY6sP1jSmahuqOVGJJlownuOliolVjtaibpCrUZGLR9CciBcq3sH3/DHHgsnaa9/WXnvtdfl9nmc9a64xxxxzjDWX7pcxL6+OzX0+Nz2Hr1LtD5F0U0rLtkTShNy6S3PLLZKWV2q/ZmZmzcancWtfh2wfVTKB7HEsjwNExKwKt//11O7Bkj4G3C/psxHxEXApcGWF92dmZtaUPLNXpySdIOnZ9By9L+XKZ0i6KPd5uaSWtHyWpKVpJu2nqexESU9IelrSryTtk+qfC1yYZhPH59uV1CppQWrrLkl7pPJHJF0l6UlJz+ceEl3KWLKHUhMRvwXeBNokzWRb7uLbUt1Bkm6UtELSg5J2rsBXaGZm1hQc7NW+QuBTeJ2a0pLdSPaw5PHAx7trRNJBwHeBiRFxKPCttOox4OiIOAy4Hfh2RKwFZgHXpOwYjxY1Nxu4JCIOIXsg8mW5dYMj4kjggqLyYkuASZIGp6wcRwCfiIjppNnMiDgj1R0D/FNEHEQWFJ5cYnznSGqX1L7lHd+gYWZmVuDTuLWvw2lcSa1kj1pZmT7fCpzTTTsTgbkRsQEgIl5P5fsDd6R0ZUOANV01Imk4MCIiCtkubgHm5Kr8Ir0vBFq6aOonwO+SpW57kex08eZO6q6JiELGk5LtRsQNwA0AQ0eN8ZPCzczMEs/s1a/OAprNbH9cC/lq1ck21wHXR8TBZKnWdipRpzfeT+9b6OIfExGxOSIuTDN4k4ARwMpu2uy2XTMzM9ueg7369CxwgKTR6fPpuXVrgcMBJB3Otry8DwFflrRnWjcylQ8H1qflabl23gJ2K95xRGwE3shdj3cmZeS0lTRM0i5p+Y+AzRHxTFr9oaQde9ummZmZdeRgr/YVX7M3MyLeIztte1+6QePFXP07gZGSFgPnAc8DRMQK4Apgvi/SvH0AABjDSURBVKQlwA9S/RnAHEmPAhty7dwDTCncoFHUp2nA1ZKWAq3A5WWM62PAIkm/Bi4hCxoLbgCW5m7QMDMzszIpwpc3WWNpa2uL9vb2ge6GmZlZ1UhaGBFtpdZ5Zs/MzMysgflCd+tXko4HrioqXhMRU/prn8vWb6Rl+n1bP6+d+cf9tSszM7Oa52DP+lVEzAPmDXQ/zMzMmpVP41ZYA+eyPaNoXB+l5/2VnctW0oUpK8ZyST9PD4tG0gWShuXqbarUOMzMzJqNg73KK2R/KLxmVmm/E4CtwV5EzIqI2ZVqPCJuK4yJ7M7ZtbkHHV/axaYlSdoP+EugLSLGAYOA09LqC4BhnW1rZmZmPedgr0oaIJdt3unAz1MbfcllOzhtO5gsuHtZ0l8C+wIPS3o4971ckb6HBZL26WE/zczMmp6Dvcpr1Fy2eaeSgr1yc9lGxHrg+8D/BV4BNkbEgxFxLfAy8LmI+FyqvguwIH0P/wf4enF7zo1rZmZWmoO9yis+jXsH8BlSLtvIHmx4aw/a6SqX7TxJy4CLgYO6aqSTXLbH5ar0NJdtob2jgHcioqvr8rrNZZtmFyeRZfjYF9hF0p910t4HQOEax05z40ZEW0S0DRo2vLthmJmZNQ0He9VT17lsc04jzer1oM2t7Ur6RG6281zgD8mCwlcj4kOyoPPYUo0BH8a2p387N66ZmVkvONirjrrPZZv6sANwCtnp47xuc9lGxEu52c5ZZKdvj045cgV8Hvh1V2MxMzOz3nOwV3mNmssWstO/6yJidVF5r3PZRsQTwFxgEdl1hDukdgrt3Z+/QcPMzMzK49y41nCcG9fMzJqNc+OamZmZNSlf6G7bGYhctpW2bL0fvWJmZlbgYM+241y2ZmZmjcWncSusgXPjtkh6NzeuWbl15ebGHSFpbsos8mtJx6TysyXtm6u3VtJelRqLmZlZM/HMXuW9m/LHVtsEYBPwOGS5cfthH6s6GdulwJVltPePwAMRMVXSELblwz0bWE6WScPMzMz6wDN7VdJguXHz4yorN66k3cke5fI/ASLig4h4U9JUoA24LbVZ2PZ8SYskLZP0md7208zMrFk52Ku8Rs6Ne0AKMucXAsNyc+MCBwKvAjelNn8saZeImAu0A2ekNt9N9TdExOHAj4CLihuTc+OamZmV5GCv8ho1N+4rwCdTkPlXwM/S7Fwp3ebGJbuE4HDgR6nNt4EO1zf2tJ/OjWtmZlaag73qqevcuBHxfkS8lpYXAquAT3fT5tZ2S+TGXUeWjeOJVG8uKW1cX/ppZmZm23OwVx11nxtX0t6SBqXlA8lO1RbSpvU6N25E/AZ4SdLvpCqfB57paixmZmbWe54hqbydU57bggciYrqkQm7cDWTX3Y1L6+8EzkrbPEUuN66kQm7cLcDTZHepziDLjbseWMC24PAeYK6kScD5RX2aBsySNIwsQPtKGeM6Drhc0may2bVzc6eWC7lxF5FdZ9hT55PdiDGkqF83p/6+CxxTRl/NzMwscW5cazjOjWtmZs3GuXHNzMzMmpRP49p2GiE3rpmZmW3jYM+249y4ZmZmjcWncc3MzMwamIO9fiBpS1EWjQ4PC5Y0QdK9Fd7vBEnH5j6fK+msCra/p6SHJW2SdH0P6p8tad9u6uwuaX2+PUmX5pZbJC3vW8/NzMyal0/j9o93I6J1APY7AdgEPA4QEbMq3P57wPfIHhszrpu6kD0qZjnwchd1/paOz/27FLiyjP6ZmZlZEc/sVZGkEyQ9K+kx4Eu58hmSLsp9Xi6pJS2fJWmppCWSfprKTpT0RMop+ytJ+6T65wIXptnE8fl2JbVKWpDaukvSHqn8EUlXSXpS0vO5hy93EBFvR8RjZEFfflyDJN2c+r1M0oWSpgJtZM/RWyxp5xLfxxHAPsCDubKZbMsvfFsqHiTpRkkrJD1Yqi0zMzMrzcFe/ygEK4XXqZJ2Am4ETgTGAx/vrhFJB5E9pHhiRBwKfCutegw4OuWUvR34dkSsBWYB16QsFY8WNTcbuCQiDgGWAZfl1g2OiCOBC4rKe6oV2C8ixqU0bjdFxFygHTgj9efdorHtAPwDWX7frSJiOtvyC5+RiscA/xQRBwFvAicXd0DSOZLaJbW/+uqrZQzBzMysMfk0bv/ocBpXUivZI0xWps+3Aud0085EYG5EbADIZazYH7hD0ihgCLCmq0YkDQdGREThdOktwJxclV+k94VASzd9KmU1cKCk64D7yM3UdeGbwL9FxEuSuqu7JiIKWUlK9jEibiDL5EFbW5ufFG5mZpZ4Zq+6OgtCNrP9sdgpvauTba4Drk+zaN/I1S/X++l9C2X8AyAi3gAOBR4B/jvw4+I6ko7KzXSeRJYG7S8krQW+T5YybmY3/Su7j2ZmZs3KfzSr51ngAEmjI2IVcHpu3VrgTwAkHc62fLcPAXdJuiYiXpM0Ms3uDQfWpzrTcu28BexevOOI2CjpDUnj0+ndM+l4U0TZJO0FfBARd0paRZbbttCf3VIfniA73Vtwd277s4G2dAoX4ENJO0bEh5Xqo5mZWbNysNc/dpa0OPf5gYiYLukc4D5JG8iuuyvc0Xon2czWYuAp4HmAiFgh6QpgvqQtwNNkd7jOAOZIWg8sYFtweA8wV9Ik4PyiPk0DZkkaRnba9SvlDCzNxO0ODJE0GfgCsCNwU7oOD+A76f3mtM93gWOKr9vrwg3AUkmLyK5ZNDMzszIpwpc3WWNpa2uL9vb2ge6GmZlZ1UhaGBFtpdb5mj0zMzOzBubTuNaBpOOBq4qK10TElIHoT28tW79xoLtgZmZWMxzsWQcRMQ+YN9D9MDMzs77zadwa0Wz5dCUNk3RfyiiyIv/YFUmTJY3NfX5EUsnrEMzMzKxrntmrHc2YT/f7EfGwpCHAQ5K+GBH3A5OBe4FnKtwXMzOzpuOZvRrXqPl0I+KdiHg4LX8ALAL2T7OMJwFXpz6NTpuc0pP9mZmZ2fYc7NWOZsunm+/zCLIxPhQRj5M9cPni1KdVPdlfPjfulnd8g4aZmVmBT+PWjmbLp1vYz2Dg58C1EbG6i6pd7i+fG3foqDF+eKSZmVnimb3a15D5dHNuAFZGxA+rtD8zM7Om4mCvtm3Np5s+F+fTPRxK5tP9sqQ907qRqbyrfLq7Fe84IjYCb+Suj6toPt3Ut79L/bqgaFXJPpmZmVnvOdirHcXX7M2MiPfITtvel27QeDFX/05gZMqnex65fLpAIZ/uEuAHqf4Msny6jwIbcu3cA0wp3KBR1KdpZDdKLAVagcvLGVjKp/sD4GxJ6ySNlbQ/2bWFY4FFaf9fS5vcDlycbiYZXbpVMzMz6wnnxrWG49y4ZmbWbJwb18zMzKxJ+UJ3q4h6z6drZmbWqHwa1xrO0FFjYtS0rm/uXTvzj6vUGzMzs/7n07hmZmZmTcrBXo2QtKXobtzpJepMkHRvhfc7IaUoK3w+V9JZFWx/T0kPS9ok6fqidVdIeknSpqLyyZLG5j4/Iqnkv1bMzMysa75mr3Z0yKBRJROATcDjABExq8Ltvwd8DxiXXnn3ANcDK4vKJwP3As9UuC9mZmZNxzN7NU7SCZKeTc/Z+1KufIaki3Kfl0tqSctnSVoqaYmkn6ayEyU9kZ5d9ytJ+6T65wIXFp6zl29XUqukBamtuyTtkcofkXSVpCclPV/i+XxbRcTbEfEYWdBXvG5BRLxSNN5jgZPInu+3OPecvVN6sj8zMzPbnoO92lH8UOVTJe0E3AicCIwHPt5dI5IOIntY8cSIOBT4Vlr1GHB0RBxG9tDib0fEWmAWcE1EtEbEo0XNzQYuiYhDgGXAZbl1gyPiSLLsF5dRIRHxOHA3cHHq06qe7E/SOZLaJbVveWdjpbpjZmZW93wat3Z0OI0rqZXs8SUr0+dbyTJqdGUiMDciNgBExOupfH/gDkmjgCHAmq4akTQcGBERhRRptwBzclV+kd4XAi3d9KkSutxfRNxAlmeXoaPG+BZzMzOzxDN7ta+zwGUz2x+/ndK7OtnmOuD6iDgY+EaufrneT+9bqM4/Gqq9PzMzs4bgYK+2PQsckLtu7fTcurXA4QCSDgcOSOUPAV+WtGdaNzKVDwfWp+VpuXbeAnYr3nFEbATeyF0fdyYwv7hePynZJzMzM+s9B3u1o/iavZkR8R7Zadv70g0aL+bq3wmMlLQYOA94HiAiVgBXAPMlLQF+kOrPAOZIehTYkGvnHmBK4QaNoj5NI7tRYinQClxezsAkrU39OFvSusJjVST9vaR1wLBUPiNtcjtwcbqZZHTJRs3MzKxHnEHDGk5bW1u0t7cPdDfMzMyqxhk0zMzMzJqUL3S3ipB0PHBVUfGaiJhS7b4sW7+Rlun3VXu3ZmZmPVLt/OwO9qwiImIeMK8ndSVNIXuUyu9GxLP92jEzM7Mm59O4NhBOJ3vI82kD3REzM7NG52DPqkrSrsDvAV8lBXuSdpD0z5JWSLpX0r9JmprWHSFpvqSFkualh0KbmZlZDznYs2qbDDwQEc8Dr6dnBH6JLCvGwcDXgGMAJO1I9jDoqRFxBPATssfKmJmZWQ/5mj2rttOBH6bl29PnHYE5EfER8BtJD6f1vwOMA34pCWAQ8EqpRiWdQ0olN2j3vfut82ZmZvXGwZ5VTcrqMREYJynIgrcA7upsE2BFRBzTXdvOjWtmZlaaT+NaNU0FZkfEpyKiJSI+Aawhy+hxcrp2bx9gQqr/HLC3pK2ndSUdNBAdNzMzq1cO9qyaTqfjLN6dwL7AOmA58C/AE8DGiPiALEC8KqV+WwwcW73umpmZ1T+fxrWqiYgJJcquhewu3YjYlE71PgksS+sXA8dVs59mZmaNxMGe1Yp7JY0AhgB/GxG/Kbehg/cbTnuVn05uZmZWqxzsWU0oNetnZmZmfedr9szMzMwamIM9MzMzswbmYM/MzMysgTnYMzMzM2tgDvbMzMzMGpiDPTMzM7MG5mDPzMzMrIE52DMzMzNrYA72zMzMzBqYgz0zMzOzBuZgz8zMzKyBOdgzMzMza2AO9szMzMwamIM9MzMzswbmYM/MzMysgTnYMzMzM2tgDvbMzMzMGpiDPTMzM7MG5mDPzMzMrIE52DMzMzNrYA72zMzMzBqYgz0zMzOzBuZgz8zMzKyBKSIGug9mFSXpLeC5ge5HlewFbBjoTlRBs4wTmmeszTJOaJ6xNss4oTbH+qmI2LvUisHV7olZFTwXEW0D3YlqkNTeDGNtlnFC84y1WcYJzTPWZhkn1N9YfRrXzMzMrIE52DMzMzNrYA72rBHdMNAdqKJmGWuzjBOaZ6zNMk5onrE2yzihzsbqGzTMzMzMGphn9szMzMwamIM9q3mSTpD0nKQXJE0vsX6opDvS+ickteTWfSeVPyfp+J62ORDKHaekP5K0UNKy9D4xt80jqc3F6fWx6o2oc30Ya4ukd3PjmZXb5oj0Hbwg6VpJqt6ISuvDOM/IjXGxpI8ktaZ19XpMj5O0SNJmSVOL1k2TtDK9puXK6/GYlhynpFZJ/ylphaSlkk7NrbtZ0prcMW2t1ni60sdjuiU3nrtz5Qek3/rK9NsfUo2xdKUPx/RzRf+dvidpclpXW8c0Ivzyq2ZfwCBgFXAgMARYAowtqvNNYFZaPg24Iy2PTfWHAgekdgb1pM06G+dhwL5peRywPrfNI0DbQB/HCo61BVjeSbtPAscAAu4Hvliv4yyqczCwugGOaQtwCDAbmJorHwmsTu97pOU96viYdjbOTwNj0vK+wCvAiPT55nzdWnj1Zaxp3aZO2v1X4LS0PAs4r57HWfQ7fh0YVovH1DN7VuuOBF6IiNUR8QFwOzCpqM4k4Ja0PBf4fJoBmATcHhHvR8Qa4IXUXk/arLayxxkRT0fEy6l8BbCTpKFV6XV5+nJMS5I0Ctg9Iv4zsv/TzgYmV77rvVKpcZ4O/Lxfe9p33Y41ItZGxFLgo6Jtjwd+GRGvR8QbwC+BE+r1mHY2zoh4PiJWpuWXgd8CJR+AWyP6ckxLSr/tiWS/dch++3V7TItMBe6PiHf6r6vlc7BntW4/4KXc53WprGSdiNgMbAT27GLbnrRZbX0ZZ97JwNMR8X6u7KZ0GuF7tXAajL6P9QBJT0uaL2l8rv66btqstkod01PpGOzV4zHt7bb1eky7JelIslmkVbniK9Lp3Wtq5B9rfR3rTpLaJS0onNok+22/mX7r5bTZHyr19+A0Ov53WjPH1MGe1bpSf8iKbyHvrE5vywdSX8aZrZQOAq4CvpFbf0ZEHAyMT68z+9jPSujLWF8BPhkRhwF/BfxM0u49bLPaKnFMjwLeiYjlufX1ekx7u229HtOuG8hmLH8KfCUiCjNF3wE+A3yW7HTgJX3pZIX0dayfjCzDxJ8CP5Q0ugJt9odKHdODgXm54po6pg72rNatAz6R+7w/8HJndSQNBoaTXTvR2bY9abPa+jJOJO0P3AWcFRFbZwsiYn16fwv4Gdkpi4FW9ljTKfnXACJiIdnMyKdT/f27abPa+nRMkw6zBXV8THu7bb0e006lf5jcB/x1RCwolEfEK5F5H7iJ+j+mhVPVRMRqsutMDyPLJTsi/dZ73WY/qcTfgy8Dd0XEh4WCWjumDvas1j0FjEl3cA0h++N3d1Gdu4HCHXxTgX9P1/jcDZym7I7HA4AxZBd896TNait7nJJGkP0B+U5E/EehsqTBkvZKyzsCfwIsZ+D1Zax7SxoEIOlAsmO6OiJeAd6SdHQ6rXkW8L+rMZgu9OW3i6QdgFPIriEildXzMe3MPOALkvaQtAfwBWBeHR/TklL9u4DZETGnaN2o9C6ya9jq+pimYzk0Le8F/B7wTPptP0z2W4fst1+3xzSnw3W1NXdMB/oOEb/86u4F/DfgebJZnO+mssuBk9LyTsAcshswngQOzG373bTdc+Tu5CvV5kC/yh0n8NfA28Di3OtjwC7AQmAp2Y0b/wgMGuhx9nGsJ6exLAEWASfm2mwj+x/qKuB60kPj63Gcad0EYEFRe/V8TD9LNovyNvAasCK37Z+n7+AFstOb9XxMS44T+DPgw6L/TlvTun8HlqWx3grsOtDj7ONYj03jWZLev5pr88D0W38h/faH1us407oWYD2wQ1GbNXVMnUHDzMzMrIH5NK6ZmZlZA3OwZ2ZmZtbAHOyZmZmZNTAHe2ZmZmYNzMGemZmZWQNzsGdmViMkbUlp0AqvljLaGCHpm5Xv3db2T5I0vb/a72SfkyWNreY+zRqJH71iZlYjJG2KiF372EYLcG9EjOvldoMiYktf9t0fUraFH5ONae5A98esHnlmz8yshkkaJOlqSU+lpOrfSOW7SnpI0iJJyyRNSpvMBEanmcGrJU2QdG+uveslnZ2W10r6G0mPAadIGi3pAUkLJT0q6TMl+nO2pOvT8s2SfiTpYUmrJf2BpJ9I+rWkm3PbbJL0D6mvD0naO5W3SlqQxnVXyqCBpEckXSlpPllO0ZOAq9OYRkv6evo+lki6U9KwXH+ulfR46s/UXB++nb6nJZJmprJux2vWCAZ3X8XMzKpkZ0mL0/KaiJgCfBXYGBGfTSmo/kPSg8BLwJSI+K+UkmqBpLuB6cC4iGgFkDShm32+FxG/n+o+BJwbESslHQX8MzCxm+33SHVOAu4hS431NeApSa0RsZgs88eiiPgfkv4GuAz4C2A2cH5EzJd0eSq/ILU7IiL+IPVrDLmZPUlvRsSNafnv0nd0XdpuFPD7ZEno7wbmSvoiWcqqoyLiHUkjU90byhivWd1xsGdmVjveLQRpOV8ADsnNUg0nywm8DrhS0nHAR8B+wD5l7PMOyGYKydJczcnSeQIwtAfb3xMRIWkZ8P8iYllqbwVZKqnFqX93pPq3Ar+QNJwsoJufym8hS5+1Xb86MS4FeSOAXcny6xb8r4j4CHhGUuH7+EPgpoh4ByAiXu/DeM3qjoM9M7PaJrLZr3nbFWanYvcGjoiIDyWtJcu1W2wz21+yU1zn7fS+A/BmiWCzO++n949yy4XPnf2N6cnF4m93se5mYHJELEnfw4QS/YHsuyu8F++z3PGa1R1fs2dmVtvmAedJ2hFA0qcl7UI2w/fbFOh9DvhUqv8WsFtu+xeBsZKGptm0z5faSUT8F7BG0ilpP5J0aIXGsANQmJn8U+CxiNgIvCFpfCo/E5hfamM6jmk34JX0nZzRg/0/CPx57tq+kf08XrOa4mDPzKy2/Rh4BlgkaTnwL2QzZrcBbZLayQKeZwEi4jWy6/qWS7o6Il4C/hVYmrZ5uot9nQF8VdISYAUwqYu6vfE2cJCkhWTXxF2eyqeR3XixFGjNlRe7HbhY0tOSRgPfA54Afkkad1ci4gGy6/fa0zWRF6VV/TVes5riR6+YmVm/UgUeKWNm5fPMnpmZmVkD88yemZmZWQPzzJ6ZmZlZA3OwZ2ZmZtbAHOyZmZmZNTAHe2ZmZmYNzMGemZmZWQNzsGdmZmbWwP4/utpskToa7b0AAAAASUVORK5CYII=\n",
      "text/plain": [
       "<Figure size 576x720 with 1 Axes>"
      ]
     },
     "metadata": {
      "needs_background": "light"
     },
     "output_type": "display_data"
    }
   ],
=======
   "execution_count": null,
   "metadata": {},
   "outputs": [],
>>>>>>> 9c2f4d5132a868969a7ee4e83253283b3773bc42
   "source": [
    "plot_feature_importances(forest)"
   ]
  },
  {
   "cell_type": "markdown",
   "metadata": {},
   "source": [
    "Note: \"relationship\" represents what this individual is relative to others. For example an\n",
    "individual could be a Husband. Each entry only has one relationship, so it is a bit of a weird attribute.\n",
    "\n",
    "Also note that more features show up. This is a pretty typical result. "
   ]
  },
  {
   "cell_type": "markdown",
   "metadata": {},
   "source": [
    "### 4.3 Look at the trees in your forest"
   ]
  },
  {
   "cell_type": "markdown",
   "metadata": {},
   "source": [
    "Let's create a forest with some small trees. You'll learn how to access trees in your forest!\n",
    "\n",
    "In the cell below, create another `RandomForestClassifier`.  Set the number of estimators to 5, the `max_features` to 10, and the `max_depth` to 2."
   ]
  },
  {
   "cell_type": "code",
<<<<<<< HEAD
   "execution_count": 46,
   "metadata": {},
   "outputs": [
    {
     "data": {
      "text/plain": [
       "RandomForestClassifier(bootstrap=True, class_weight=None, criterion='gini',\n",
       "                       max_depth=2, max_features=10, max_leaf_nodes=None,\n",
       "                       min_impurity_decrease=0.0, min_impurity_split=None,\n",
       "                       min_samples_leaf=1, min_samples_split=2,\n",
       "                       min_weight_fraction_leaf=0.0, n_estimators=5,\n",
       "                       n_jobs=None, oob_score=False, random_state=None,\n",
       "                       verbose=0, warm_start=False)"
      ]
     },
     "execution_count": 46,
     "metadata": {},
     "output_type": "execute_result"
    }
   ],
   "source": [
    "forest_2 = RandomForestClassifier(n_estimators=5, max_features=10, max_depth=2)\n",
    "forest_2.fit(data_train, target_train)"
=======
   "execution_count": null,
   "metadata": {},
   "outputs": [],
   "source": [
    "forest_2 = None\n"
>>>>>>> 9c2f4d5132a868969a7ee4e83253283b3773bc42
   ]
  },
  {
   "cell_type": "markdown",
   "metadata": {},
   "source": [
    "Making `max_features` smaller will lead to very different trees in your forest!"
   ]
  },
  {
   "cell_type": "markdown",
   "metadata": {},
   "source": [
    "The trees in your forest are stored in the `.estimators_` attribute.\n",
    "\n",
    "In the cell below, get the first tree from `forest_2.estimators_` and store it in `rf_tree_1`"
   ]
  },
  {
   "cell_type": "code",
<<<<<<< HEAD
   "execution_count": 47,
   "metadata": {},
   "outputs": [],
   "source": [
    "rf_tree_1 = forest_2.estimators_[0]"
   ]
  },
  {
   "cell_type": "code",
   "execution_count": 48,
   "metadata": {},
   "outputs": [
    {
     "data": {
      "text/plain": [
       "DecisionTreeClassifier(class_weight=None, criterion='gini', max_depth=2,\n",
       "                       max_features=10, max_leaf_nodes=None,\n",
       "                       min_impurity_decrease=0.0, min_impurity_split=None,\n",
       "                       min_samples_leaf=1, min_samples_split=2,\n",
       "                       min_weight_fraction_leaf=0.0, presort=False,\n",
       "                       random_state=9645957, splitter='best')"
      ]
     },
     "execution_count": 48,
     "metadata": {},
     "output_type": "execute_result"
    }
   ],
   "source": [
    "rf_tree_1"
=======
   "execution_count": null,
   "metadata": {},
   "outputs": [],
   "source": [
    "rf_tree_1 = None"
>>>>>>> 9c2f4d5132a868969a7ee4e83253283b3773bc42
   ]
  },
  {
   "cell_type": "markdown",
   "metadata": {},
   "source": [
    "Now, we can reuse our `plot_feature_importances` function to visualize which features this tree was given to use duing subspace sampling. \n",
    "\n",
    "In the cell below, call `plot_feature_importances` on `rf_tree_1`."
   ]
  },
  {
   "cell_type": "code",
<<<<<<< HEAD
   "execution_count": 50,
   "metadata": {},
   "outputs": [
    {
     "data": {
      "image/png": "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\n",
      "text/plain": [
       "<Figure size 576x720 with 1 Axes>"
      ]
     },
     "metadata": {
      "needs_background": "light"
     },
     "output_type": "display_data"
    }
   ],
   "source": [
    "plot_feature_importances(rf_tree_1)"
=======
   "execution_count": null,
   "metadata": {},
   "outputs": [],
   "source": [
    "# Your code here"
>>>>>>> 9c2f4d5132a868969a7ee4e83253283b3773bc42
   ]
  },
  {
   "cell_type": "markdown",
   "metadata": {},
   "source": [
    "Now, grab the second tree and store it in `rf_tree_2`, and then pass it to `plot_feature_importances` in the following cell so we can compare which features were most useful to each. "
   ]
  },
  {
   "cell_type": "code",
<<<<<<< HEAD
   "execution_count": 52,
   "metadata": {},
   "outputs": [],
   "source": [
    "rf_tree_2 = forest_2.estimators_[1]"
=======
   "execution_count": null,
   "metadata": {},
   "outputs": [],
   "source": [
    "rf_tree_2 = None"
>>>>>>> 9c2f4d5132a868969a7ee4e83253283b3773bc42
   ]
  },
  {
   "cell_type": "code",
<<<<<<< HEAD
   "execution_count": 53,
   "metadata": {},
   "outputs": [
    {
     "data": {
      "image/png": "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\n",
      "text/plain": [
       "<Figure size 576x720 with 1 Axes>"
      ]
     },
     "metadata": {
      "needs_background": "light"
     },
     "output_type": "display_data"
    }
   ],
   "source": [
    "plot_feature_importances(rf_tree_2)"
=======
   "execution_count": null,
   "metadata": {},
   "outputs": [],
   "source": [
    "# Your code here"
>>>>>>> 9c2f4d5132a868969a7ee4e83253283b3773bc42
   ]
  },
  {
   "cell_type": "markdown",
   "metadata": {},
   "source": [
    "We can see by comparing the two plots that the two trees we examined from our Random Forest look at different attributes, and have wildly different importances for them!\n",
    "\n",
    "## Summary\n",
    "\n",
    "In this lab, we got some practice creating a few different Tree Ensemble Methods. We also learned how to visualize feature importances, and compared individual trees from a Random Forest to see if we could notice the differences in the features they were trained on. "
   ]
  }
 ],
 "metadata": {
  "kernelspec": {
   "display_name": "Python 3",
   "language": "python",
   "name": "python3"
  },
  "language_info": {
   "codemirror_mode": {
    "name": "ipython",
    "version": 3
   },
   "file_extension": ".py",
   "mimetype": "text/x-python",
   "name": "python",
   "nbconvert_exporter": "python",
   "pygments_lexer": "ipython3",
<<<<<<< HEAD
   "version": "3.7.3"
=======
   "version": "3.6.6"
>>>>>>> 9c2f4d5132a868969a7ee4e83253283b3773bc42
  }
 },
 "nbformat": 4,
 "nbformat_minor": 2
}
